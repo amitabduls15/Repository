{
 "cells": [
  {
   "cell_type": "code",
   "execution_count": 1,
   "metadata": {
    "ExecuteTime": {
     "end_time": "2019-04-11T04:45:49.681163Z",
     "start_time": "2019-04-11T04:45:49.057696Z"
    }
   },
   "outputs": [],
   "source": [
    "import os\n",
    "from PIL import Image\n",
    "from tqdm import tqdm\n",
    "import pandas as pd"
   ]
  },
  {
   "cell_type": "code",
   "execution_count": 25,
   "metadata": {
    "ExecuteTime": {
     "end_time": "2019-01-03T04:49:49.644483Z",
     "start_time": "2019-01-03T04:49:49.639489Z"
    }
   },
   "outputs": [],
   "source": [
    "size_300 = (300,300)"
   ]
  },
  {
   "cell_type": "code",
   "execution_count": 6,
   "metadata": {
    "ExecuteTime": {
     "end_time": "2019-04-11T04:49:19.753108Z",
     "start_time": "2019-04-11T04:49:19.707138Z"
    }
   },
   "outputs": [],
   "source": [
    "def tabeldeskimg(dir):\n",
    "    namagambar=[]\n",
    "    formatgambar=[]\n",
    "    panjanggbr=[]\n",
    "    lebargbr=[]\n",
    "    modegambar=[]\n",
    "    for f in os.listdir(dir):\n",
    "            i=Image.open(os.path.join(dir,f)\n",
    "            namagambar.append(f)\n",
    "            formatgambar.append(i.format)\n",
    "            panjang, lebar = i.size[0],i.size[1]\n",
    "            panjanggbr.append(panjang)\n",
    "            lebargbr.append(lebar)\n",
    "            modegambar.append(i.mode)\n",
    "    df_name  =pd.DataFrame(namagambar,columns=['Nama'])\n",
    "    df_format=pd.DataFrame(formatgambar,columns=['Format'])\n",
    "    df_sizeP =pd.DataFrame(panjanggbr,columns=['Panjang'])\n",
    "    df_sizeL =pd.DataFrame(lebargbr,columns=['Lebar'])\n",
    "    df_mode  =pd.DataFrame(modegambar,columns=['Mode Gambar'])\n",
    "    \n",
    "    new=pd.concat([df_name,df_format,df_sizeP,df_sizeL,df_mode], axis=1)\n",
    "    return new"
   ]
  },
  {
   "cell_type": "code",
   "execution_count": 9,
   "metadata": {
    "ExecuteTime": {
     "end_time": "2019-04-11T04:49:59.483491Z",
     "start_time": "2019-04-11T04:49:59.361559Z"
    }
   },
   "outputs": [
    {
     "ename": "FileNotFoundError",
     "evalue": "[Errno 2] No such file or directory: 'COCO_train2014_000000000094.jpg'",
     "output_type": "error",
     "traceback": [
      "\u001b[1;31m---------------------------------------------------------------------------\u001b[0m",
      "\u001b[1;31mFileNotFoundError\u001b[0m                         Traceback (most recent call last)",
      "\u001b[1;32m<ipython-input-9-feaf8d212e8b>\u001b[0m in \u001b[0;36m<module>\u001b[1;34m()\u001b[0m\n\u001b[1;32m----> 1\u001b[1;33m \u001b[0mtabel\u001b[0m\u001b[1;33m=\u001b[0m\u001b[0mtabeldeskimg\u001b[0m\u001b[1;33m(\u001b[0m\u001b[0mdir\u001b[0m\u001b[1;33m=\u001b[0m\u001b[1;34m'C:/WinPython_64bit/notebooks/Repository/Delameta/Gambar_mobil'\u001b[0m\u001b[1;33m)\u001b[0m\u001b[1;33m\u001b[0m\u001b[0m\n\u001b[0m\u001b[0;32m      2\u001b[0m \u001b[0mtabel\u001b[0m\u001b[1;33m.\u001b[0m\u001b[0mhead\u001b[0m\u001b[1;33m(\u001b[0m\u001b[1;33m)\u001b[0m\u001b[1;33m\u001b[0m\u001b[0m\n",
      "\u001b[1;32m<ipython-input-6-61e029a7c809>\u001b[0m in \u001b[0;36mtabeldeskimg\u001b[1;34m(dir)\u001b[0m\n\u001b[0;32m      7\u001b[0m     \u001b[1;32mfor\u001b[0m \u001b[0mf\u001b[0m \u001b[1;32min\u001b[0m \u001b[0mos\u001b[0m\u001b[1;33m.\u001b[0m\u001b[0mlistdir\u001b[0m\u001b[1;33m(\u001b[0m\u001b[0mdir\u001b[0m\u001b[1;33m)\u001b[0m\u001b[1;33m:\u001b[0m\u001b[1;33m\u001b[0m\u001b[0m\n\u001b[0;32m      8\u001b[0m         \u001b[1;32mif\u001b[0m \u001b[0mf\u001b[0m\u001b[1;33m.\u001b[0m\u001b[0mendswith\u001b[0m\u001b[1;33m(\u001b[0m\u001b[1;34m'.jpg'\u001b[0m\u001b[1;33m)\u001b[0m\u001b[1;33m:\u001b[0m\u001b[1;33m\u001b[0m\u001b[0m\n\u001b[1;32m----> 9\u001b[1;33m             \u001b[0mi\u001b[0m\u001b[1;33m=\u001b[0m\u001b[0mImage\u001b[0m\u001b[1;33m.\u001b[0m\u001b[0mopen\u001b[0m\u001b[1;33m(\u001b[0m\u001b[0mf\u001b[0m\u001b[1;33m)\u001b[0m\u001b[1;33m\u001b[0m\u001b[0m\n\u001b[0m\u001b[0;32m     10\u001b[0m             \u001b[0mnamagambar\u001b[0m\u001b[1;33m.\u001b[0m\u001b[0mappend\u001b[0m\u001b[1;33m(\u001b[0m\u001b[0mf\u001b[0m\u001b[1;33m)\u001b[0m\u001b[1;33m\u001b[0m\u001b[0m\n\u001b[0;32m     11\u001b[0m             \u001b[0mformatgambar\u001b[0m\u001b[1;33m.\u001b[0m\u001b[0mappend\u001b[0m\u001b[1;33m(\u001b[0m\u001b[0mi\u001b[0m\u001b[1;33m.\u001b[0m\u001b[0mformat\u001b[0m\u001b[1;33m)\u001b[0m\u001b[1;33m\u001b[0m\u001b[0m\n",
      "\u001b[1;32mc:\\winpython_64bit\\python-3.6.5.amd64\\lib\\site-packages\\PIL\\Image.py\u001b[0m in \u001b[0;36mopen\u001b[1;34m(fp, mode)\u001b[0m\n\u001b[0;32m   2541\u001b[0m \u001b[1;33m\u001b[0m\u001b[0m\n\u001b[0;32m   2542\u001b[0m     \u001b[1;32mif\u001b[0m \u001b[0mfilename\u001b[0m\u001b[1;33m:\u001b[0m\u001b[1;33m\u001b[0m\u001b[0m\n\u001b[1;32m-> 2543\u001b[1;33m         \u001b[0mfp\u001b[0m \u001b[1;33m=\u001b[0m \u001b[0mbuiltins\u001b[0m\u001b[1;33m.\u001b[0m\u001b[0mopen\u001b[0m\u001b[1;33m(\u001b[0m\u001b[0mfilename\u001b[0m\u001b[1;33m,\u001b[0m \u001b[1;34m\"rb\"\u001b[0m\u001b[1;33m)\u001b[0m\u001b[1;33m\u001b[0m\u001b[0m\n\u001b[0m\u001b[0;32m   2544\u001b[0m         \u001b[0mexclusive_fp\u001b[0m \u001b[1;33m=\u001b[0m \u001b[1;32mTrue\u001b[0m\u001b[1;33m\u001b[0m\u001b[0m\n\u001b[0;32m   2545\u001b[0m \u001b[1;33m\u001b[0m\u001b[0m\n",
      "\u001b[1;31mFileNotFoundError\u001b[0m: [Errno 2] No such file or directory: 'COCO_train2014_000000000094.jpg'"
     ]
    }
   ],
   "source": [
    "tabel=tabeldeskimg(dir='C:/WinPython_64bit/notebooks/Repository/Delameta/Gambar_mobil')\n",
    "tabel.head()"
   ]
  },
  {
   "cell_type": "code",
   "execution_count": 173,
   "metadata": {
    "ExecuteTime": {
     "end_time": "2019-01-03T07:10:51.907431Z",
     "start_time": "2019-01-03T07:10:51.896421Z"
    }
   },
   "outputs": [
    {
     "data": {
      "text/plain": [
       "(39, 58)"
      ]
     },
     "execution_count": 173,
     "metadata": {},
     "output_type": "execute_result"
    }
   ],
   "source": [
    "i.size"
   ]
  },
  {
   "cell_type": "code",
   "execution_count": 170,
   "metadata": {
    "ExecuteTime": {
     "end_time": "2019-01-03T06:55:39.955128Z",
     "start_time": "2019-01-03T06:55:39.910163Z"
    },
    "scrolled": true
   },
   "outputs": [
    {
     "data": {
      "text/html": [
       "<div>\n",
       "<style scoped>\n",
       "    .dataframe tbody tr th:only-of-type {\n",
       "        vertical-align: middle;\n",
       "    }\n",
       "\n",
       "    .dataframe tbody tr th {\n",
       "        vertical-align: top;\n",
       "    }\n",
       "\n",
       "    .dataframe thead th {\n",
       "        text-align: right;\n",
       "    }\n",
       "</style>\n",
       "<table border=\"1\" class=\"dataframe\">\n",
       "  <thead>\n",
       "    <tr style=\"text-align: right;\">\n",
       "      <th></th>\n",
       "      <th>Panjang</th>\n",
       "      <th>Lebar</th>\n",
       "    </tr>\n",
       "  </thead>\n",
       "  <tbody>\n",
       "    <tr>\n",
       "      <th>count</th>\n",
       "      <td>214.000000</td>\n",
       "      <td>214.000000</td>\n",
       "    </tr>\n",
       "    <tr>\n",
       "      <th>mean</th>\n",
       "      <td>35.733645</td>\n",
       "      <td>55.859813</td>\n",
       "    </tr>\n",
       "    <tr>\n",
       "      <th>std</th>\n",
       "      <td>7.261002</td>\n",
       "      <td>8.780525</td>\n",
       "    </tr>\n",
       "    <tr>\n",
       "      <th>min</th>\n",
       "      <td>13.000000</td>\n",
       "      <td>29.000000</td>\n",
       "    </tr>\n",
       "    <tr>\n",
       "      <th>25%</th>\n",
       "      <td>31.000000</td>\n",
       "      <td>51.000000</td>\n",
       "    </tr>\n",
       "    <tr>\n",
       "      <th>50%</th>\n",
       "      <td>37.000000</td>\n",
       "      <td>57.000000</td>\n",
       "    </tr>\n",
       "    <tr>\n",
       "      <th>75%</th>\n",
       "      <td>40.000000</td>\n",
       "      <td>63.000000</td>\n",
       "    </tr>\n",
       "    <tr>\n",
       "      <th>max</th>\n",
       "      <td>59.000000</td>\n",
       "      <td>74.000000</td>\n",
       "    </tr>\n",
       "  </tbody>\n",
       "</table>\n",
       "</div>"
      ],
      "text/plain": [
       "          Panjang       Lebar\n",
       "count  214.000000  214.000000\n",
       "mean    35.733645   55.859813\n",
       "std      7.261002    8.780525\n",
       "min     13.000000   29.000000\n",
       "25%     31.000000   51.000000\n",
       "50%     37.000000   57.000000\n",
       "75%     40.000000   63.000000\n",
       "max     59.000000   74.000000"
      ]
     },
     "execution_count": 170,
     "metadata": {},
     "output_type": "execute_result"
    }
   ],
   "source": [
    "tabel.describe()"
   ]
  },
  {
   "cell_type": "code",
   "execution_count": 41,
   "metadata": {
    "ExecuteTime": {
     "end_time": "2019-01-03T05:17:32.338008Z",
     "start_time": "2019-01-03T05:17:32.326019Z"
    }
   },
   "outputs": [
    {
     "data": {
      "text/plain": [
       "<function __main__.tabeldeskimg>"
      ]
     },
     "execution_count": 41,
     "metadata": {},
     "output_type": "execute_result"
    }
   ],
   "source": [
    "tabel"
   ]
  },
  {
   "cell_type": "code",
   "execution_count": 116,
   "metadata": {
    "ExecuteTime": {
     "end_time": "2019-01-03T06:33:28.522271Z",
     "start_time": "2019-01-03T06:33:21.649081Z"
    },
    "scrolled": true
   },
   "outputs": [
    {
     "name": "stdout",
     "output_type": "stream",
     "text": [
      "refined2_B__0.jpg JPEG 45x73 RGB\n",
      "refined2_B__22.jpg JPEG 45x67 RGB\n",
      "refined2_B__27.jpg JPEG 41x60 RGB\n",
      "refined2_B__3.jpg JPEG 42x64 RGB\n",
      "refined2_B__30.jpg JPEG 30x53 RGB\n",
      "refined2_B__45.jpg JPEG 36x58 RGB\n",
      "refined2_B__48.jpg JPEG 39x64 RGB\n",
      "refined2_B__52.jpg JPEG 32x49 RGB\n",
      "refined2_B__54.jpg JPEG 36x74 RGB\n",
      "refined2_B__57.jpg JPEG 34x65 RGB\n",
      "refined2_B__62.jpg JPEG 35x54 RGB\n",
      "refined2_B__6466.jpg JPEG 35x54 RGB\n",
      "refined2_B__6469.jpg JPEG 40x66 RGB\n",
      "refined2_B__6475.jpg JPEG 43x66 RGB\n",
      "refined2_B__6492.jpg JPEG 26x32 RGB\n",
      "refined2_B__6495.jpg JPEG 39x63 RGB\n",
      "refined2_B__6498.jpg JPEG 35x64 RGB\n",
      "refined2_B__6506.jpg JPEG 35x59 RGB\n",
      "refined2_B__6515.jpg JPEG 32x51 RGB\n",
      "refined2_B__6518.jpg JPEG 27x51 RGB\n",
      "refined2_B__6528.jpg JPEG 31x42 RGB\n",
      "refined2_B__6533.jpg JPEG 36x53 RGB\n",
      "refined2_B__6538.jpg JPEG 26x42 RGB\n",
      "refined2_B__6541.jpg JPEG 20x41 RGB\n",
      "refined2_B__6544.jpg JPEG 33x60 RGB\n",
      "refined2_B__6547.jpg JPEG 38x62 RGB\n",
      "refined2_B__6550.jpg JPEG 39x56 RGB\n",
      "refined2_B__6555.jpg JPEG 29x50 RGB\n",
      "refined2_B__6558.jpg JPEG 41x51 RGB\n",
      "refined2_B__6570.jpg JPEG 39x63 RGB\n",
      "refined2_B__6580.jpg JPEG 42x62 RGB\n",
      "refined2_B__6587.jpg JPEG 42x62 RGB\n",
      "refined2_B__6592.jpg JPEG 42x62 RGB\n",
      "refined2_B__6599.jpg JPEG 27x49 RGB\n",
      "refined2_B__6604.jpg JPEG 34x53 RGB\n",
      "refined2_B__6605.jpg JPEG 41x57 RGB\n",
      "refined2_B__6617.jpg JPEG 41x63 RGB\n",
      "refined2_B__6622.jpg JPEG 40x52 RGB\n",
      "refined2_B__6632.jpg JPEG 31x42 RGB\n",
      "refined2_B__6643.jpg JPEG 28x57 RGB\n",
      "refined2_B__6646.jpg JPEG 27x52 RGB\n",
      "refined2_B__6649.jpg JPEG 42x62 RGB\n",
      "refined2_B__6666.jpg JPEG 33x40 RGB\n",
      "refined2_B__6669.jpg JPEG 37x57 RGB\n",
      "refined2_B__6672.jpg JPEG 37x60 RGB\n",
      "refined2_B__6676.jpg JPEG 38x60 RGB\n",
      "refined2_B__6685.jpg JPEG 32x64 RGB\n",
      "refined2_B__6688.jpg JPEG 22x34 RGB\n",
      "refined2_B__6694.jpg JPEG 38x58 RGB\n",
      "refined2_B__6703.jpg JPEG 31x41 RGB\n",
      "refined2_B__6716.jpg JPEG 42x60 RGB\n",
      "refined2_B__6723.jpg JPEG 39x54 RGB\n",
      "refined2_B__6726.jpg JPEG 32x52 RGB\n",
      "refined2_B__6731.jpg JPEG 42x57 RGB\n",
      "refined2_B__6745.jpg JPEG 38x62 RGB\n",
      "refined2_B__6755.jpg JPEG 24x45 RGB\n",
      "refined2_B__6758.jpg JPEG 40x59 RGB\n",
      "refined2_B__6763.jpg JPEG 39x58 RGB\n",
      "refined2_B__6768.jpg JPEG 22x34 RGB\n",
      "refined2_B__6771.jpg JPEG 46x61 RGB\n",
      "refined2_B__6774.jpg JPEG 40x59 RGB\n",
      "refined2_B__6777.jpg JPEG 41x67 RGB\n",
      "refined2_B__6783.jpg JPEG 38x58 RGB\n",
      "refined2_B__6790.jpg JPEG 28x42 RGB\n",
      "refined2_B__6794.jpg JPEG 27x65 RGB\n",
      "refined2_B__6799.jpg JPEG 38x61 RGB\n",
      "refined2_B__68.jpg JPEG 40x58 RGB\n",
      "refined2_B__6808.jpg JPEG 38x63 RGB\n",
      "refined2_B__6818.jpg JPEG 34x57 RGB\n",
      "refined2_B__6819.jpg JPEG 29x44 RGB\n",
      "refined2_B__6822.jpg JPEG 39x69 RGB\n",
      "refined2_B__6830.jpg JPEG 34x56 RGB\n",
      "refined2_B__6835.jpg JPEG 40x55 RGB\n",
      "refined2_B__6851.jpg JPEG 34x62 RGB\n",
      "refined2_B__6875.jpg JPEG 42x50 RGB\n",
      "refined2_B__6876.jpg JPEG 56x74 RGB\n",
      "refined2_B__6879.jpg JPEG 51x70 RGB\n",
      "refined2_B__6885.jpg JPEG 35x45 RGB\n",
      "refined2_B__6888.jpg JPEG 29x48 RGB\n",
      "refined2_B__6891.jpg JPEG 25x64 RGB\n",
      "refined2_B__6894.jpg JPEG 15x29 RGB\n",
      "refined2_B__6900.jpg JPEG 42x63 RGB\n",
      "refined2_B__6916.jpg JPEG 38x70 RGB\n",
      "refined2_B__6921.jpg JPEG 31x42 RGB\n",
      "refined2_B__6924.jpg JPEG 30x52 RGB\n",
      "refined2_B__6975.jpg JPEG 41x64 RGB\n",
      "refined2_B__6978.jpg JPEG 38x56 RGB\n",
      "refined2_B__6981.jpg JPEG 41x58 RGB\n",
      "refined2_B__6984.jpg JPEG 31x64 RGB\n",
      "refined2_B__6987.jpg JPEG 37x56 RGB\n",
      "refined2_B__6994.jpg JPEG 33x46 RGB\n",
      "refined2_B__7001.jpg JPEG 38x64 RGB\n",
      "refined2_B__7007.jpg JPEG 43x64 RGB\n",
      "refined2_B__7010.jpg JPEG 28x58 RGB\n",
      "refined2_B__7015.jpg JPEG 23x44 RGB\n",
      "refined2_B__7020.jpg JPEG 36x63 RGB\n",
      "refined2_B__7023.jpg JPEG 31x49 RGB\n",
      "refined2_B__7026.jpg JPEG 36x60 RGB\n",
      "refined2_B__7031.jpg JPEG 36x65 RGB\n",
      "refined2_B__7043.jpg JPEG 38x63 RGB\n",
      "refined2_B__7048.jpg JPEG 41x55 RGB\n",
      "refined2_B__7051.jpg JPEG 30x50 RGB\n",
      "refined2_B__7064.jpg JPEG 48x68 RGB\n",
      "refined2_B__7067.jpg JPEG 22x41 RGB\n",
      "refined2_B__7070.jpg JPEG 38x57 RGB\n",
      "refined2_B__7076.jpg JPEG 42x63 RGB\n",
      "refined2_B__7089.jpg JPEG 40x59 RGB\n",
      "refined2_B__7094.jpg JPEG 43x70 RGB\n",
      "refined2_B__7098.jpg JPEG 38x60 RGB\n",
      "refined2_B__7103.jpg JPEG 39x57 RGB\n",
      "refined2_B__7108.jpg JPEG 40x70 RGB\n",
      "refined2_B__7114.jpg JPEG 39x64 RGB\n",
      "refined2_B__7117.jpg JPEG 34x53 RGB\n",
      "refined2_B__7126.jpg JPEG 29x43 RGB\n",
      "refined2_B__7129.jpg JPEG 39x59 RGB\n",
      "refined2_B__7136.jpg JPEG 37x57 RGB\n",
      "refined2_B__7139.jpg JPEG 43x65 RGB\n",
      "refined2_B__7142.jpg JPEG 34x52 RGB\n",
      "refined2_B__7145.jpg JPEG 31x47 RGB\n",
      "refined2_B__7148.jpg JPEG 40x58 RGB\n",
      "refined2_B__7154.jpg JPEG 41x66 RGB\n",
      "refined2_B__7159.jpg JPEG 49x60 RGB\n",
      "refined2_B__7162.jpg JPEG 18x37 RGB\n",
      "refined2_B__7165.jpg JPEG 28x44 RGB\n",
      "refined2_B__7174.jpg JPEG 39x63 RGB\n",
      "refined2_B__7199.jpg JPEG 37x54 RGB\n",
      "refined2_B__7202.jpg JPEG 25x41 RGB\n",
      "refined2_B__7207.jpg JPEG 39x58 RGB\n",
      "refined2_B__7214.jpg JPEG 35x53 RGB\n",
      "refined2_B__7215.jpg JPEG 32x54 RGB\n",
      "refined2_B__7228.jpg JPEG 31x41 RGB\n",
      "refined2_B__7233.jpg JPEG 28x43 RGB\n",
      "refined2_B__7241.jpg JPEG 26x47 RGB\n",
      "refined2_B__7247.jpg JPEG 29x48 RGB\n",
      "refined2_B__7250.jpg JPEG 42x64 RGB\n",
      "refined2_B__7255.jpg JPEG 39x56 RGB\n",
      "refined2_B__7260.jpg JPEG 39x59 RGB\n",
      "refined2_B__7266.jpg JPEG 32x54 RGB\n",
      "refined2_B__7271.jpg JPEG 36x57 RGB\n",
      "refined2_B__7274.jpg JPEG 41x65 RGB\n",
      "refined2_B__7285.jpg JPEG 40x56 RGB\n",
      "refined2_B__7290.jpg JPEG 41x60 RGB\n",
      "refined2_B__7296.jpg JPEG 33x54 RGB\n",
      "refined2_B__7300.jpg JPEG 42x63 RGB\n",
      "refined2_B__7305.jpg JPEG 40x64 RGB\n",
      "refined2_B__7313.jpg JPEG 35x61 RGB\n",
      "refined2_B__7318.jpg JPEG 33x56 RGB\n",
      "refined2_B__7321.jpg JPEG 40x55 RGB\n",
      "refined2_B__7324.jpg JPEG 39x53 RGB\n",
      "refined2_B__7327.jpg JPEG 25x53 RGB\n",
      "refined2_B__7330.jpg JPEG 27x47 RGB\n",
      "refined2_B__7335.jpg JPEG 36x51 RGB\n",
      "refined2_B__7340.jpg JPEG 30x56 RGB\n",
      "refined2_B__7345.jpg JPEG 36x50 RGB\n",
      "refined2_B__7350.jpg JPEG 33x62 RGB\n",
      "refined2_B__7357.jpg JPEG 37x61 RGB\n",
      "refined2_B__7362.jpg JPEG 41x65 RGB\n",
      "refined2_B__7371.jpg JPEG 40x58 RGB\n",
      "refined2_B__7375.jpg JPEG 39x64 RGB\n",
      "refined2_B__7382.jpg JPEG 13x31 RGB\n",
      "refined2_B__7385.jpg JPEG 59x55 RGB\n",
      "refined2_B__7388.jpg JPEG 47x63 RGB\n",
      "refined2_B__7396.jpg JPEG 18x35 RGB\n",
      "refined2_B__7399.jpg JPEG 39x58 RGB\n",
      "refined2_B__7408.jpg JPEG 32x49 RGB\n",
      "refined2_B__7414.jpg JPEG 35x54 RGB\n",
      "refined2_B__7419.jpg JPEG 51x63 RGB\n",
      "refined2_B__7422.jpg JPEG 41x58 RGB\n",
      "refined2_B__7427.jpg JPEG 23x38 RGB\n",
      "refined2_B__7430.jpg JPEG 38x61 RGB\n",
      "refined2_B__7435.jpg JPEG 47x64 RGB\n",
      "refined2_B__7441.jpg JPEG 32x66 RGB\n",
      "refined2_B__7444.jpg JPEG 30x54 RGB\n",
      "refined2_B__7447.jpg JPEG 38x51 RGB\n",
      "refined2_B__7457.jpg JPEG 48x55 RGB\n",
      "refined2_B__7460.jpg JPEG 27x46 RGB\n",
      "refined2_B__7463.jpg JPEG 53x69 RGB\n",
      "refined2_B__7466.jpg JPEG 35x57 RGB\n",
      "refined2_B__7469.jpg JPEG 49x63 RGB\n",
      "refined2_B__7472.jpg JPEG 43x59 RGB\n",
      "refined2_B__7475.jpg JPEG 28x60 RGB\n",
      "refined2_B__7482.jpg JPEG 45x65 RGB\n",
      "refined2_B__7485.jpg JPEG 30x56 RGB\n",
      "refined2_B__7488.jpg JPEG 41x67 RGB\n",
      "refined2_B__7494.jpg JPEG 37x60 RGB\n",
      "refined2_B__7502.jpg JPEG 29x54 RGB\n",
      "refined2_B__7510.jpg JPEG 45x68 RGB\n",
      "refined2_B__7513.jpg JPEG 31x49 RGB\n",
      "refined2_B__7516.jpg JPEG 39x60 RGB\n",
      "refined2_B__7521.jpg JPEG 36x53 RGB\n",
      "refined2_B__7524.jpg JPEG 41x59 RGB\n",
      "refined2_B__7532.jpg JPEG 34x56 RGB\n",
      "refined2_B__7535.jpg JPEG 31x54 RGB\n",
      "refined2_B__7538.jpg JPEG 36x48 RGB\n",
      "refined2_B__7543.jpg JPEG 27x51 RGB\n",
      "refined2_B__7546.jpg JPEG 46x67 RGB\n",
      "refined2_B__7551.jpg JPEG 31x42 RGB\n",
      "refined2_B__7558.jpg JPEG 46x56 RGB\n",
      "refined2_B__7566.jpg JPEG 37x56 RGB\n",
      "refined2_B__7575.jpg JPEG 39x52 RGB\n",
      "refined2_B__7576.jpg JPEG 30x53 RGB\n",
      "refined2_B__7579.jpg JPEG 39x68 RGB\n",
      "refined2_B__7582.jpg JPEG 28x44 RGB\n",
      "refined2_B__7585.jpg JPEG 15x38 RGB\n",
      "refined2_B__7597.jpg JPEG 27x58 RGB\n",
      "refined2_B__7600.jpg JPEG 30x44 RGB\n",
      "refined2_B__7605.jpg JPEG 31x58 RGB\n",
      "refined2_B__7611.jpg JPEG 41x55 RGB\n",
      "refined2_B__7621.jpg JPEG 43x63 RGB\n",
      "refined2_B__7624.jpg JPEG 40x60 RGB\n",
      "refined2_B__7638.jpg JPEG 24x49 RGB\n",
      "refined2_B__7644.jpg JPEG 34x56 RGB\n",
      "refined2_B__7647.jpg JPEG 27x34 RGB\n",
      "refined2_B__7662.jpg JPEG 39x58 RGB\n"
     ]
    }
   ],
   "source": [
    "crawldata=[]\n",
    "for f in os.listdir():\n",
    "    if f.endswith('.jpg'):\n",
    "        crawldata.append(f)\n",
    "        i=Image.open(f)\n",
    "        print(f, i.format, \"%dx%d\" % i.size, i.mode)\n",
    "        #fn, fext = os.path.splitext(f)\n",
    "        #i.thumbnail(size_300)\n",
    "        #i.save('HasilPrepocessing/{}300{}'.format(fn,fext))"
   ]
  },
  {
   "cell_type": "code",
   "execution_count": 224,
   "metadata": {
    "ExecuteTime": {
     "end_time": "2019-01-03T07:35:01.226341Z",
     "start_time": "2019-01-03T07:35:01.191355Z"
    }
   },
   "outputs": [],
   "source": [
    "def pasteimage(filename,Mode='RGB',size=(70,70)):\n",
    "    new=Image.new(Mode,size)\n",
    "    pjg,lbr=new.size[0],new.size[1]\n",
    "    i=Image.open(filename)\n",
    "    panjang,lebar=i.size[0],i.size[1]\n",
    "    new.paste(i,(int(round((pjg-float(panjang))/2,1)),int(round((lbr-float(lebar))/2,1))))\n",
    "    return new"
   ]
  },
  {
   "cell_type": "code",
   "execution_count": 228,
   "metadata": {
    "ExecuteTime": {
     "end_time": "2019-01-03T07:42:30.788207Z",
     "start_time": "2019-01-03T07:42:30.127625Z"
    }
   },
   "outputs": [
    {
     "name": "stderr",
     "output_type": "stream",
     "text": [
      "100%|███████████████████████████████████████████████████████████████████████████████| 214/214 [00:00<00:00, 334.59it/s]\n"
     ]
    }
   ],
   "source": [
    "i=0\n",
    "for img in tqdm(crawldata):\n",
    "    pasteimage(img,size=(60,75)).save('HasilPrepocessing/{}.jpg'.format(i))    \n",
    "    i=i+1"
   ]
  },
  {
   "cell_type": "code",
   "execution_count": null,
   "metadata": {},
   "outputs": [],
   "source": []
  }
 ],
 "metadata": {
  "kernelspec": {
   "display_name": "Python 3",
   "language": "python",
   "name": "python3"
  },
  "language_info": {
   "codemirror_mode": {
    "name": "ipython",
    "version": 3
   },
   "file_extension": ".py",
   "mimetype": "text/x-python",
   "name": "python",
   "nbconvert_exporter": "python",
   "pygments_lexer": "ipython3",
   "version": "3.6.5"
  },
  "toc": {
   "base_numbering": 1,
   "nav_menu": {},
   "number_sections": true,
   "sideBar": true,
   "skip_h1_title": false,
   "title_cell": "Table of Contents",
   "title_sidebar": "Contents",
   "toc_cell": false,
   "toc_position": {},
   "toc_section_display": true,
   "toc_window_display": false
  },
  "varInspector": {
   "cols": {
    "lenName": 16,
    "lenType": 16,
    "lenVar": 40
   },
   "kernels_config": {
    "python": {
     "delete_cmd_postfix": "",
     "delete_cmd_prefix": "del ",
     "library": "var_list.py",
     "varRefreshCmd": "print(var_dic_list())"
    },
    "r": {
     "delete_cmd_postfix": ") ",
     "delete_cmd_prefix": "rm(",
     "library": "var_list.r",
     "varRefreshCmd": "cat(var_dic_list()) "
    }
   },
   "types_to_exclude": [
    "module",
    "function",
    "builtin_function_or_method",
    "instance",
    "_Feature"
   ],
   "window_display": false
  }
 },
 "nbformat": 4,
 "nbformat_minor": 2
}
