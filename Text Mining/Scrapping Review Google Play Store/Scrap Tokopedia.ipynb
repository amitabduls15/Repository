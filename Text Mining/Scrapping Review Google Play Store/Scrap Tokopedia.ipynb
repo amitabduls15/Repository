{
 "cells": [
  {
   "cell_type": "code",
   "execution_count": 161,
   "metadata": {
    "ExecuteTime": {
     "end_time": "2019-07-15T05:06:08.537336Z",
     "start_time": "2019-07-15T05:05:30.835347Z"
    }
   },
   "outputs": [
    {
     "name": "stdout",
     "output_type": "stream",
     "text": [
      "Tokopedia-JualBeliOnline\n"
     ]
    }
   ],
   "source": [
    "#ambil data review tokopedia\n",
    "#default language: english\n",
    "\n",
    "#load webdriver function from selenium\n",
    "from selenium import webdriver\n",
    "from time import sleep\n",
    "import bs4\n",
    "import pandas as pd\n",
    "import requests\n",
    "from selenium.webdriver.common.keys import Keys\n",
    "import time\n",
    "\n",
    "# Change this number to get more or less reviews\n",
    "# Current set of x=100 yielded 11,312 reviews\n",
    "x = 2\n",
    "\n",
    "link = \"https://play.google.com/store/apps/details?id=com.tokopedia.tkpd&hl=id&showAllReviews=true\"\n",
    "\n",
    "driver = webdriver.Chrome('C:/WinPython_64bit/notebooks/afifah/chromedriver.exe')\n",
    "driver.get(link + '&showAllReviews=true')\n",
    "title = driver.find_element_by_class_name('AHFaub').text.replace(' ','')\n",
    "print(Ptitle)\n",
    "\n",
    "#driver.find_element_by_xpath('//*[@id=\"body-content\"]/div/div/div[1]/div[2]/div[2]/div[1]/div[4]/button[2]/div[2]').click()\n",
    "\n",
    "sleep(1)\n",
    "driver.find_element_by_xpath('//*[@id=\"fcxH9b\"]/div[4]/c-wiz/div/div[2]/div/div[1]/div/div/div[1]/div[2]/c-wiz/div/div/div[1]/div[2]').click()\n",
    "sleep(1)\n",
    "driver.find_element_by_xpath('//*[@id=\"fcxH9b\"]/div[4]/c-wiz/div/div[2]/div/div[1]/div/div/div[1]/div[2]/c-wiz/div/div/div[2]/div[1]').click()\n",
    "sleep(2)\n",
    "\n",
    "num_clicks = 0\n",
    "num_scrolls = 0\n",
    "while num_clicks <= x and num_scrolls <= x*5:\n",
    "    try:\n",
    "        show_more = driver.find_element_by_xpath('//*[@id=\"fcxH9b\"]/div[4]/c-wiz/div/div[2]/div/div[1]/div/div/div[1]/div[2]/div[2]/div/content/span')\n",
    "        show_more.click()\n",
    "        num_clicks += 1\n",
    "\n",
    "    except:\n",
    "        html = driver.find_element_by_tag_name('html')\n",
    "        html.send_keys(Keys.END)\n",
    "        num_scrolls +=1\n",
    "        time.sleep(2)\n",
    "\n",
    "soup = bs4.BeautifulSoup(driver.page_source, 'html.parser')\n",
    "h2 = soup.find_all('h2')"
   ]
  },
  {
   "cell_type": "code",
   "execution_count": 173,
   "metadata": {
    "ExecuteTime": {
     "end_time": "2019-07-15T05:15:47.001050Z",
     "start_time": "2019-07-15T05:15:46.612238Z"
    }
   },
   "outputs": [],
   "source": [
    "user = list(soup.find_all('span', class_='X43Kjb'))\n",
    "review = list(soup.find_all('div', class_='UD7Dzf'))\n",
    "date = list(soup.find_all('span', class_='p2TkOb'))"
   ]
  },
  {
   "cell_type": "code",
   "execution_count": 174,
   "metadata": {
    "ExecuteTime": {
     "end_time": "2019-07-15T05:16:15.459395Z",
     "start_time": "2019-07-15T05:16:15.451398Z"
    }
   },
   "outputs": [
    {
     "name": "stdout",
     "output_type": "stream",
     "text": [
      "120\n",
      "124\n",
      "124\n"
     ]
    }
   ],
   "source": [
    "print(len(review))\n",
    "print(len(user))\n",
    "print(len(date))"
   ]
  },
  {
   "cell_type": "code",
   "execution_count": 176,
   "metadata": {
    "ExecuteTime": {
     "end_time": "2019-07-15T05:18:24.194507Z",
     "start_time": "2019-07-15T05:18:24.184515Z"
    }
   },
   "outputs": [
    {
     "data": {
      "text/plain": [
       "'15 Juli 2019'"
      ]
     },
     "execution_count": 176,
     "metadata": {},
     "output_type": "execute_result"
    }
   ],
   "source": [
    "date[0].get_text()"
   ]
  },
  {
   "cell_type": "code",
   "execution_count": 178,
   "metadata": {
    "ExecuteTime": {
     "end_time": "2019-07-15T05:19:48.980611Z",
     "start_time": "2019-07-15T05:19:48.961623Z"
    }
   },
   "outputs": [
    {
     "name": "stdout",
     "output_type": "stream",
     "text": [
      "index 6 adalah user tokopedia\n",
      "index 16 adalah user tokopedia\n",
      "index 25 adalah user tokopedia\n",
      "index 111 adalah user tokopedia\n"
     ]
    }
   ],
   "source": [
    "#deleted reply tokopedia user name\n",
    "user_clear = []\n",
    "date_clear = []\n",
    "init = 0\n",
    "num_user = len(user)\n",
    "for i in range(num_user):\n",
    "    usr_text=user[i].get_text()\n",
    "    if usr_text != 'Tokopedia':\n",
    "        user_clear.append(usr_text)\n",
    "        date_clear.append(date[i])\n",
    "    else:\n",
    "        print(\"index {} adalah user tokopedia\".format(init))\n",
    "    init = init+1"
   ]
  },
  {
   "cell_type": "code",
   "execution_count": 193,
   "metadata": {
    "ExecuteTime": {
     "end_time": "2019-07-15T05:34:46.916418Z",
     "start_time": "2019-07-15T05:34:46.375730Z"
    }
   },
   "outputs": [
    {
     "name": "stderr",
     "output_type": "stream",
     "text": [
      "\r",
      "  0%|                                                                                          | 0/120 [00:00<?, ?it/s]"
     ]
    },
    {
     "name": "stdout",
     "output_type": "stream",
     "text": [
      "user ke 1 reviewnya pendek jadi masuk ke full review \n",
      "user ke 2 reviewnya pendek jadi masuk ke full review \n",
      "user ke 3 reviewnya pendek jadi masuk ke full review \n",
      "user ke 4 reviewnya pendek jadi masuk ke full review \n",
      "user ke 5 reviewnya pendek jadi masuk ke full review \n",
      "user ke 6 reviewnya pendek jadi masuk ke full review \n",
      "user ke 7 reviewnya pendek jadi masuk ke full review \n",
      "user ke 8 reviewnya pendek jadi masuk ke full review \n",
      "user ke 9 reviewnya pendek jadi masuk ke full review \n",
      "user ke 10 reviewnya pendek jadi masuk ke full review \n",
      "user ke 11 reviewnya pendek jadi masuk ke full review \n",
      "user ke 12 reviewnya pendek jadi masuk ke full review \n",
      "user ke 13 reviewnya pendek jadi masuk ke full review \n",
      "user ke 14 reviewnya pendek jadi masuk ke full review \n",
      "user ke 15 reviewnya pendek jadi masuk ke full review \n",
      "user ke 16 reviewnya pendek jadi masuk ke full review \n",
      "user ke 17 reviewnya pendek jadi masuk ke full review \n",
      "user ke 18 reviewnya pendek jadi masuk ke full review \n",
      "user ke 19 reviewnya pendek jadi masuk ke full review \n",
      "user ke 20 reviewnya pendek jadi masuk ke full review \n",
      "user ke 21 reviewnya pendek jadi masuk ke full review \n",
      "user ke 22 reviewnya pendek jadi masuk ke full review \n",
      "user ke 23 reviewnya pendek jadi masuk ke full review \n",
      "user ke 24 reviewnya pendek jadi masuk ke full review \n",
      "user ke 25 reviewnya pendek jadi masuk ke full review \n"
     ]
    },
    {
     "name": "stderr",
     "output_type": "stream",
     "text": [
      "\r",
      " 21%|████████████████▋                                                               | 25/120 [00:00<00:00, 242.86it/s]"
     ]
    },
    {
     "name": "stdout",
     "output_type": "stream",
     "text": [
      "user ke 26 reviewnya pendek jadi masuk ke full review \n",
      "user ke 27 reviewnya pendek jadi masuk ke full review \n",
      "user ke 28 reviewnya pendek jadi masuk ke full review \n",
      "user ke 29 reviewnya pendek jadi masuk ke full review \n",
      "user ke 30 reviewnya pendek jadi masuk ke full review \n",
      "user ke 31 reviewnya pendek jadi masuk ke full review \n",
      "user ke 32 reviewnya pendek jadi masuk ke full review \n",
      "user ke 33 reviewnya pendek jadi masuk ke full review \n",
      "user ke 34 reviewnya pendek jadi masuk ke full review \n",
      "user ke 35 reviewnya pendek jadi masuk ke full review \n",
      "user ke 36 reviewnya pendek jadi masuk ke full review \n",
      "user ke 37 reviewnya pendek jadi masuk ke full review \n",
      "user ke 38 reviewnya pendek jadi masuk ke full review \n",
      "user ke 39 reviewnya pendek jadi masuk ke full review \n",
      "user ke 40 reviewnya pendek jadi masuk ke full review \n",
      "user ke 41 reviewnya pendek jadi masuk ke full review \n",
      "user ke 42 reviewnya pendek jadi masuk ke full review \n",
      "user ke 43 reviewnya pendek jadi masuk ke full review \n",
      "user ke 44 reviewnya pendek jadi masuk ke full review \n",
      "user ke 45 reviewnya pendek jadi masuk ke full review \n",
      "user ke 46 reviewnya pendek jadi masuk ke full review \n",
      "user ke 47 reviewnya pendek jadi masuk ke full review \n",
      "user ke 48 reviewnya pendek jadi masuk ke full review \n"
     ]
    },
    {
     "name": "stderr",
     "output_type": "stream",
     "text": [
      "\r",
      " 40%|████████████████████████████████                                                | 48/120 [00:00<00:00, 233.14it/s]"
     ]
    },
    {
     "name": "stdout",
     "output_type": "stream",
     "text": [
      "user ke 49 reviewnya pendek jadi masuk ke full review \n",
      "user ke 50 reviewnya pendek jadi masuk ke full review \n",
      "user ke 51 reviewnya pendek jadi masuk ke full review \n",
      "user ke 52 reviewnya pendek jadi masuk ke full review \n",
      "user ke 53 reviewnya pendek jadi masuk ke full review \n",
      "user ke 54 reviewnya pendek jadi masuk ke full review \n",
      "user ke 55 reviewnya pendek jadi masuk ke full review \n",
      "user ke 56 reviewnya pendek jadi masuk ke full review \n",
      "user ke 57 reviewnya pendek jadi masuk ke full review \n",
      "user ke 58 reviewnya pendek jadi masuk ke full review \n",
      "user ke 59 reviewnya pendek jadi masuk ke full review \n",
      "user ke 60 reviewnya pendek jadi masuk ke full review \n",
      "user ke 61 reviewnya pendek jadi masuk ke full review \n",
      "user ke 62 reviewnya pendek jadi masuk ke full review \n",
      "user ke 63 reviewnya pendek jadi masuk ke full review \n",
      "user ke 64 reviewnya pendek jadi masuk ke full review \n",
      "user ke 65 reviewnya pendek jadi masuk ke full review \n",
      "user ke 66 reviewnya pendek jadi masuk ke full review \n",
      "user ke 67 reviewnya pendek jadi masuk ke full review \n",
      "user ke 68 reviewnya pendek jadi masuk ke full review \n",
      "user ke 69 reviewnya pendek jadi masuk ke full review \n",
      "user ke 70 reviewnya pendek jadi masuk ke full review \n",
      "user ke 71 reviewnya pendek jadi masuk ke full review \n",
      "user ke 72 reviewnya pendek jadi masuk ke full review \n",
      "user ke 73 reviewnya pendek jadi masuk ke full review \n"
     ]
    },
    {
     "name": "stderr",
     "output_type": "stream",
     "text": [
      "\r",
      " 61%|████████████████████████████████████████████████▋                               | 73/120 [00:00<00:00, 234.86it/s]"
     ]
    },
    {
     "name": "stdout",
     "output_type": "stream",
     "text": [
      "user ke 74 reviewnya pendek jadi masuk ke full review \n",
      "user ke 75 reviewnya pendek jadi masuk ke full review \n",
      "user ke 76 reviewnya pendek jadi masuk ke full review \n",
      "user ke 77 reviewnya pendek jadi masuk ke full review \n",
      "user ke 78 reviewnya pendek jadi masuk ke full review \n",
      "user ke 79 reviewnya pendek jadi masuk ke full review \n",
      "user ke 80 reviewnya pendek jadi masuk ke full review \n",
      "user ke 81 reviewnya pendek jadi masuk ke full review \n",
      "user ke 82 reviewnya pendek jadi masuk ke full review \n",
      "user ke 83 reviewnya pendek jadi masuk ke full review \n",
      "user ke 84 reviewnya pendek jadi masuk ke full review \n",
      "user ke 85 reviewnya pendek jadi masuk ke full review \n",
      "user ke 86 reviewnya pendek jadi masuk ke full review \n",
      "user ke 87 reviewnya pendek jadi masuk ke full review \n",
      "user ke 88 reviewnya pendek jadi masuk ke full review \n",
      "user ke 89 reviewnya pendek jadi masuk ke full review \n",
      "user ke 90 reviewnya pendek jadi masuk ke full review \n",
      "user ke 91 reviewnya pendek jadi masuk ke full review \n",
      "user ke 92 reviewnya pendek jadi masuk ke full review \n",
      "user ke 93 reviewnya pendek jadi masuk ke full review \n",
      "user ke 94 reviewnya pendek jadi masuk ke full review \n",
      "user ke 95 reviewnya pendek jadi masuk ke full review \n",
      "user ke 96 reviewnya pendek jadi masuk ke full review \n",
      "user ke 97 reviewnya pendek jadi masuk ke full review \n",
      "user ke 98 reviewnya pendek jadi masuk ke full review \n"
     ]
    },
    {
     "name": "stderr",
     "output_type": "stream",
     "text": [
      "\r",
      " 82%|█████████████████████████████████████████████████████████████████▎              | 98/120 [00:00<00:00, 238.00it/s]"
     ]
    },
    {
     "name": "stdout",
     "output_type": "stream",
     "text": [
      "user ke 99 reviewnya pendek jadi masuk ke full review \n",
      "user ke 100 reviewnya pendek jadi masuk ke full review \n",
      "user ke 101 reviewnya pendek jadi masuk ke full review \n",
      "user ke 102 reviewnya pendek jadi masuk ke full review \n",
      "user ke 103 reviewnya pendek jadi masuk ke full review \n",
      "user ke 104 reviewnya pendek jadi masuk ke full review \n",
      "user ke 105 reviewnya pendek jadi masuk ke full review \n",
      "user ke 106 reviewnya pendek jadi masuk ke full review \n",
      "user ke 107 reviewnya pendek jadi masuk ke full review \n",
      "user ke 108 reviewnya pendek jadi masuk ke full review \n",
      "user ke 109 reviewnya pendek jadi masuk ke full review \n",
      "user ke 110 reviewnya pendek jadi masuk ke full review \n",
      "user ke 111 reviewnya pendek jadi masuk ke full review \n",
      "user ke 112 reviewnya pendek jadi masuk ke full review \n",
      "user ke 113 reviewnya pendek jadi masuk ke full review \n",
      "user ke 114 reviewnya pendek jadi masuk ke full review \n",
      "user ke 115 reviewnya pendek jadi masuk ke full review \n",
      "user ke 116 reviewnya pendek jadi masuk ke full review \n",
      "user ke 117 reviewnya pendek jadi masuk ke full review \n",
      "user ke 118 reviewnya pendek jadi masuk ke full review \n",
      "user ke 119 reviewnya pendek jadi masuk ke full review \n",
      "user ke 120 reviewnya pendek jadi masuk ke full review \n"
     ]
    },
    {
     "name": "stderr",
     "output_type": "stream",
     "text": [
      "100%|███████████████████████████████████████████████████████████████████████████████| 120/120 [00:00<00:00, 236.82it/s]\n"
     ]
    }
   ],
   "source": [
    "from tqdm import tqdm\n",
    "\n",
    "short_review = []\n",
    "full_review = []\n",
    "tanggal = []\n",
    "num_data = len(review)\n",
    "for idx in tqdm(range(num_data)):\n",
    "    ulasan = review[idx].get_text()\n",
    "    splt_uls = ulasan.split('Ulasan Lengkap')\n",
    "    if len(splt_uls)==2:\n",
    "        short,long = splt_uls\n",
    "        short_review.append(short)\n",
    "        full_review.append(long)\n",
    "    else:\n",
    "        short_review.append(splt_uls)\n",
    "        full_review.append(splt_uls)\n",
    "        print('user ke {} reviewnya pendek jadi masuk ke full review '.format(idx+1))"
   ]
  },
  {
   "cell_type": "code",
   "execution_count": null,
   "metadata": {},
   "outputs": [],
   "source": []
  }
 ],
 "metadata": {
  "kernelspec": {
   "display_name": "Python 3",
   "language": "python",
   "name": "python3"
  },
  "language_info": {
   "codemirror_mode": {
    "name": "ipython",
    "version": 3
   },
   "file_extension": ".py",
   "mimetype": "text/x-python",
   "name": "python",
   "nbconvert_exporter": "python",
   "pygments_lexer": "ipython3",
   "version": "3.6.5"
  },
  "toc": {
   "base_numbering": 1,
   "nav_menu": {},
   "number_sections": true,
   "sideBar": true,
   "skip_h1_title": false,
   "title_cell": "Table of Contents",
   "title_sidebar": "Contents",
   "toc_cell": false,
   "toc_position": {},
   "toc_section_display": true,
   "toc_window_display": false
  },
  "varInspector": {
   "cols": {
    "lenName": 16,
    "lenType": 16,
    "lenVar": 40
   },
   "kernels_config": {
    "python": {
     "delete_cmd_postfix": "",
     "delete_cmd_prefix": "del ",
     "library": "var_list.py",
     "varRefreshCmd": "print(var_dic_list())"
    },
    "r": {
     "delete_cmd_postfix": ") ",
     "delete_cmd_prefix": "rm(",
     "library": "var_list.r",
     "varRefreshCmd": "cat(var_dic_list()) "
    }
   },
   "types_to_exclude": [
    "module",
    "function",
    "builtin_function_or_method",
    "instance",
    "_Feature"
   ],
   "window_display": false
  }
 },
 "nbformat": 4,
 "nbformat_minor": 2
}
