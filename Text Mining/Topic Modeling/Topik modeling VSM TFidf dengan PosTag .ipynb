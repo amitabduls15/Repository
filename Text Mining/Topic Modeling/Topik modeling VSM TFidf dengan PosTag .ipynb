{
 "cells": [
  {
   "cell_type": "markdown",
   "metadata": {},
   "source": [
    "# Loading Data"
   ]
  },
  {
   "cell_type": "code",
   "execution_count": 1,
   "metadata": {
    "ExecuteTime": {
     "end_time": "2018-12-20T05:13:42.503127Z",
     "start_time": "2018-12-20T05:13:40.840990Z"
    }
   },
   "outputs": [],
   "source": [
    "import pandas as pd"
   ]
  },
  {
   "cell_type": "code",
   "execution_count": 2,
   "metadata": {
    "ExecuteTime": {
     "end_time": "2018-12-20T05:13:42.805340Z",
     "start_time": "2018-12-20T05:13:42.518120Z"
    }
   },
   "outputs": [
    {
     "data": {
      "text/html": [
       "<div>\n",
       "<style scoped>\n",
       "    .dataframe tbody tr th:only-of-type {\n",
       "        vertical-align: middle;\n",
       "    }\n",
       "\n",
       "    .dataframe tbody tr th {\n",
       "        vertical-align: top;\n",
       "    }\n",
       "\n",
       "    .dataframe thead th {\n",
       "        text-align: right;\n",
       "    }\n",
       "</style>\n",
       "<table border=\"1\" class=\"dataframe\">\n",
       "  <thead>\n",
       "    <tr style=\"text-align: right;\">\n",
       "      <th></th>\n",
       "      <th>Unnamed: 0</th>\n",
       "      <th>Tweet</th>\n",
       "      <th>TweetClean_NonPT</th>\n",
       "      <th>TweetClean_PT</th>\n",
       "    </tr>\n",
       "  </thead>\n",
       "  <tbody>\n",
       "    <tr>\n",
       "      <th>0</th>\n",
       "      <td>0</td>\n",
       "      <td>Udah ngeh blm min?\\r\\nItu sms 86mb jam 16.06 t...</td>\n",
       "      <td>sadar min sms 86 mb jam 16.06 tanggal 30.01 ke...</td>\n",
       "      <td>sadar min sms mb jam tanggal kemarin paketin t...</td>\n",
       "    </tr>\n",
       "    <tr>\n",
       "      <th>1</th>\n",
       "      <td>1</td>\n",
       "      <td>Dibaca itu yang kemarin min 86 mb... Pas jam 1...</td>\n",
       "      <td>dibaca kemarin min 86 mb .. jam 16.06 paketin ...</td>\n",
       "      <td>dibaca kemarin min mb jam paketin</td>\n",
       "    </tr>\n",
       "    <tr>\n",
       "      <th>2</th>\n",
       "      <td>2</td>\n",
       "      <td>@IndosatCare pusing saya min pake indosat... \\...</td>\n",
       "      <td>pusing min pakai .. kuota kesedot</td>\n",
       "      <td>pusing min kuota</td>\n",
       "    </tr>\n",
       "    <tr>\n",
       "      <th>3</th>\n",
       "      <td>3</td>\n",
       "      <td>Sudah min sudah, lagian apa yang mau di clear ...</td>\n",
       "      <td>min clear cache .. dibilang diuninstal diinsta...</td>\n",
       "      <td>min dibilang diuninstal diinstal sebulan min k...</td>\n",
       "    </tr>\n",
       "    <tr>\n",
       "      <th>4</th>\n",
       "      <td>4</td>\n",
       "      <td>@IndosatCare masi juga lelet euy,, apakah bts ...</td>\n",
       "      <td>masi lelet euy bts bermasalah didaerah karna k...</td>\n",
       "      <td>masi didaerah karna kantor</td>\n",
       "    </tr>\n",
       "  </tbody>\n",
       "</table>\n",
       "</div>"
      ],
      "text/plain": [
       "   Unnamed: 0                                              Tweet  \\\n",
       "0           0  Udah ngeh blm min?\\r\\nItu sms 86mb jam 16.06 t...   \n",
       "1           1  Dibaca itu yang kemarin min 86 mb... Pas jam 1...   \n",
       "2           2  @IndosatCare pusing saya min pake indosat... \\...   \n",
       "3           3  Sudah min sudah, lagian apa yang mau di clear ...   \n",
       "4           4  @IndosatCare masi juga lelet euy,, apakah bts ...   \n",
       "\n",
       "                                    TweetClean_NonPT  \\\n",
       "0  sadar min sms 86 mb jam 16.06 tanggal 30.01 ke...   \n",
       "1  dibaca kemarin min 86 mb .. jam 16.06 paketin ...   \n",
       "2                  pusing min pakai .. kuota kesedot   \n",
       "3  min clear cache .. dibilang diuninstal diinsta...   \n",
       "4  masi lelet euy bts bermasalah didaerah karna k...   \n",
       "\n",
       "                                       TweetClean_PT  \n",
       "0  sadar min sms mb jam tanggal kemarin paketin t...  \n",
       "1                  dibaca kemarin min mb jam paketin  \n",
       "2                                   pusing min kuota  \n",
       "3  min dibilang diuninstal diinstal sebulan min k...  \n",
       "4                         masi didaerah karna kantor  "
      ]
     },
     "execution_count": 2,
     "metadata": {},
     "output_type": "execute_result"
    }
   ],
   "source": [
    "tweet = pd.read_csv('C:/WinPython_64bit/notebooks/Kapita Selekta/Scrapping Tweet/TweetClean.csv')\n",
    "tweet.head()"
   ]
  },
  {
   "cell_type": "code",
   "execution_count": 3,
   "metadata": {
    "ExecuteTime": {
     "end_time": "2018-12-20T05:13:42.887294Z",
     "start_time": "2018-12-20T05:13:42.845317Z"
    }
   },
   "outputs": [],
   "source": [
    "listTweet=tweet['TweetClean_PT'].values.astype('U')\n",
    "listTweet = [d for d in listTweet]"
   ]
  },
  {
   "cell_type": "markdown",
   "metadata": {},
   "source": [
    "# MODEL VSM TFIdf"
   ]
  },
  {
   "cell_type": "code",
   "execution_count": 4,
   "metadata": {
    "ExecuteTime": {
     "end_time": "2018-12-20T05:14:09.296385Z",
     "start_time": "2018-12-20T05:13:42.894291Z"
    }
   },
   "outputs": [
    {
     "name": "stdout",
     "output_type": "stream",
     "text": [
      "(4359, 591)\n"
     ]
    }
   ],
   "source": [
    "#Pembentukan Model VSM tanpa PosTag\n",
    "\n",
    "from sklearn.feature_extraction.text import TfidfVectorizer,CountVectorizer\n",
    "\n",
    "Tfidf_vectorizer = TfidfVectorizer(max_df=0.75, min_df=5)\n",
    "X = Tfidf_vectorizer.fit_transform(listTweet)\n",
    "X_term = Tfidf_vectorizer.get_feature_names()\n",
    "print(X.shape)"
   ]
  },
  {
   "cell_type": "code",
   "execution_count": 5,
   "metadata": {
    "ExecuteTime": {
     "end_time": "2018-12-20T05:14:09.374757Z",
     "start_time": "2018-12-20T05:14:09.307798Z"
    }
   },
   "outputs": [
    {
     "name": "stdout",
     "output_type": "stream",
     "text": [
      "(4295, 591)\n"
     ]
    }
   ],
   "source": [
    "import numpy as np\n",
    "#menghapus tfidf yang bernilai 0\n",
    "nidx = np.array(range(len(listTweet)))\n",
    "nidx = nidx[X.getnnz(1)>0] # Remove Zero Rows\n",
    "data_bersih = [listTweet[i] for i in nidx]\n",
    "X = X[X.getnnz(1)>0] # Remove Zero Rows\n",
    "X_terms = Tfidf_vectorizer.get_feature_names()\n",
    "print(X.shape)"
   ]
  },
  {
   "cell_type": "markdown",
   "metadata": {},
   "source": [
    "# Percobaan berbagai Model"
   ]
  },
  {
   "cell_type": "markdown",
   "metadata": {},
   "source": [
    "## K-Means ++"
   ]
  },
  {
   "cell_type": "code",
   "execution_count": 6,
   "metadata": {
    "ExecuteTime": {
     "end_time": "2018-12-20T05:16:51.123749Z",
     "start_time": "2018-12-20T05:14:09.384752Z"
    }
   },
   "outputs": [
    {
     "name": "stderr",
     "output_type": "stream",
     "text": [
      "100%|████████████████████████████████████████████████████████████████████████████████████| 7/7 [02:35<00:00, 22.25s/it]\n"
     ]
    }
   ],
   "source": [
    "from sklearn import cluster\n",
    "from tqdm import tqdm\n",
    "\n",
    "seed = 99 #harus ditetapkan untuk mengoptimalkan cost function \n",
    "#atau untuk konvergen lebih cepat aja dalam pengelompokannya, \n",
    "#tidak ada hubungan antara nilai pasti dari seed dan hasil pengelompokan KMeans\n",
    "#seed ini harus ditentukan terlebih dahulu agar tidak menghasilkan pengelompokan yg berbeda setiap dijalankan aja\n",
    "C=[]\n",
    "K=[] \n",
    "kelompok = []\n",
    "for k in tqdm(range(2,9)):\n",
    "    kelompok.append(k)\n",
    "    kmPP = cluster.KMeans(n_clusters=k, init='k-means++', max_iter=300, tol=0.0001, n_jobs=-1, random_state = seed)\n",
    "    K.append(kmPP.fit(X))\n",
    "    C.append(kmPP.predict(X))"
   ]
  },
  {
   "cell_type": "code",
   "execution_count": 7,
   "metadata": {
    "ExecuteTime": {
     "end_time": "2018-12-20T05:17:07.036796Z",
     "start_time": "2018-12-20T05:16:51.130747Z"
    }
   },
   "outputs": [
    {
     "name": "stdout",
     "output_type": "stream",
     "text": [
      "K=2 ,nilai siluet 0.058156624408397556 \n",
      "K=3 ,nilai siluet 0.0549041726642852 \n",
      "K=4 ,nilai siluet 0.05761709233662597 \n",
      "K=5 ,nilai siluet 0.059196661493624105 \n",
      "K=6 ,nilai siluet 0.06268551328476488 \n",
      "K=7 ,nilai siluet 0.06897955098043054 \n",
      "K=8 ,nilai siluet 0.07040864490259434 \n",
      "dengan score terbesar 0.07040864490259434\n"
     ]
    }
   ],
   "source": [
    "#Evaluasi : Internal . Contoh Silouette Coefficient ==> warning hanya cocok untuk k-means/menggunakan centroid\n",
    "from sklearn.metrics import silhouette_score as siluet\n",
    "\n",
    "ScoreSiluet=[]\n",
    "i=int(kelompok[0])\n",
    "for res in C:\n",
    "    ScoreSiluet.append(siluet(X,res))\n",
    "    print(\"K={} ,nilai siluet {} \".format(i, siluet(X,res)))\n",
    "    i=i+1\n",
    "print(\"dengan score terbesar {}\".format(max(ScoreSiluet)))    "
   ]
  },
  {
   "cell_type": "code",
   "execution_count": 32,
   "metadata": {
    "ExecuteTime": {
     "end_time": "2018-12-20T05:58:39.948005Z",
     "start_time": "2018-12-20T05:58:37.969141Z"
    }
   },
   "outputs": [
    {
     "data": {
      "image/png": "[encoded data removed]",
      "text/plain": [
       "<Figure size 432x288 with 1 Axes>"
      ]
     },
     "metadata": {},
     "output_type": "display_data"
    },
    {
     "data": {
      "image/png": "[encoded data removed]",
      "text/plain": [
       "<Figure size 432x288 with 1 Axes>"
      ]
     },
     "metadata": {},
     "output_type": "display_data"
    },
    {
     "data": {
      "image/png": "[encoded data removed]",
      "text/plain": [
       "<Figure size 432x288 with 1 Axes>"
      ]
     },
     "metadata": {},
     "output_type": "display_data"
    },
    {
     "data": {
      "image/png": "[encoded data removed]",
      "text/plain": [
       "<Figure size 432x288 with 1 Axes>"
      ]
     },
     "metadata": {},
     "output_type": "display_data"
    },
    {
     "data": {
      "image/png": "[encoded data removed]",
      "text/plain": [
       "<Figure size 432x288 with 1 Axes>"
      ]
     },
     "metadata": {},
     "output_type": "display_data"
    },
    {
     "data": {
      "image/png": "[encoded data removed]",
      "text/plain": [
       "<Figure size 432x288 with 1 Axes>"
      ]
     },
     "metadata": {},
     "output_type": "display_data"
    },
    {
     "data": {
      "image/png": "[encoded data removed]",
      "text/plain": [
       "<Figure size 432x288 with 1 Axes>"
      ]
     },
     "metadata": {},
     "output_type": "display_data"
    }
   ],
   "source": [
    "#dengan 9 Kluster yang menurut Evaluasi secara internal terbaik \n",
    "import seaborn as sns\n",
    "import matplotlib.pyplot as plt\n",
    "\n",
    "for i in C:\n",
    "    sns.countplot(i)\n",
    "    plt.show()"
   ]
  },
  {
   "cell_type": "markdown",
   "metadata": {},
   "source": [
    "## Mini Batch K-Means++"
   ]
  },
  {
   "cell_type": "code",
   "execution_count": 9,
   "metadata": {
    "ExecuteTime": {
     "end_time": "2018-12-20T05:17:31.870970Z",
     "start_time": "2018-12-20T05:17:23.076004Z"
    }
   },
   "outputs": [
    {
     "name": "stderr",
     "output_type": "stream",
     "text": [
      "100%|████████████████████████████████████████████████████████████████████████████████████| 7/7 [00:08<00:00,  1.24s/it]\n"
     ]
    }
   ],
   "source": [
    "from sklearn import cluster\n",
    "from tqdm import tqdm\n",
    "\n",
    "# MiniBatch k-Means \n",
    "# http://scikit-learn.org/stable/modules/generated/sklearn.cluster.MiniBatchKMeans.html\n",
    "# minibatch \"tidak bisa parallel\"!!!...\n",
    "# parameter penting km = batch_size ... pada aplikasi sesungguhnya disarankan \"minimal\" 3xk\n",
    "\n",
    "seed = 99 #harus ditetapkan untuk mengoptimalkan cost function \n",
    "#atau untuk konvergen lebih cepat aja dalam pengelompokannya, \n",
    "#tidak ada hubungan antara nilai pasti dari seed dan hasil pengelompokan KMeans\n",
    "#seed ini harus ditentukan terlebih dahulu agar tidak menghasilkan pengelompokan yg berbeda setiap dijalankan aja\n",
    "Cmb=[]\n",
    "Kmb=[] \n",
    "kelompokMb = []\n",
    "for k in tqdm(range(2,9)):\n",
    "    kelompokMb.append(k)\n",
    "    MiniBatchKM = cluster.MiniBatchKMeans(n_clusters=k, init='k-means++', max_iter=300,batch_size=10 , tol=0.0001, random_state = seed) \n",
    "    Kmb.append(MiniBatchKM.fit(X))\n",
    "    Cmb.append(MiniBatchKM.predict(X))"
   ]
  },
  {
   "cell_type": "code",
   "execution_count": 10,
   "metadata": {
    "ExecuteTime": {
     "end_time": "2018-12-20T05:17:49.000998Z",
     "start_time": "2018-12-20T05:17:31.878705Z"
    }
   },
   "outputs": [
    {
     "name": "stdout",
     "output_type": "stream",
     "text": [
      "K=2 ,nilai siluet 0.01670407940485883 \n",
      "K=3 ,nilai siluet 0.011569028503702464 \n",
      "K=4 ,nilai siluet 0.02060849936065999 \n",
      "K=5 ,nilai siluet 0.021948231701533472 \n",
      "K=6 ,nilai siluet 0.021620375493027543 \n",
      "K=7 ,nilai siluet 0.022896136512126287 \n",
      "K=8 ,nilai siluet 0.009830589046259329 \n",
      "dengan score terbesar 0.022896136512126287\n"
     ]
    }
   ],
   "source": [
    "#Evaluasi : Internal . Contoh Silouette Coefficient ==> warning hanya cocok untuk k-means/menggunakan centroid\n",
    "from sklearn.metrics import silhouette_score as siluet\n",
    "\n",
    "ScoreSiluet=[]\n",
    "i=int(kelompok[0])\n",
    "for res in Cmb:\n",
    "    ScoreSiluet.append(siluet(X,res))\n",
    "    print(\"K={} ,nilai siluet {} \".format(i, siluet(X,res)))\n",
    "    i=i+1\n",
    "print(\"dengan score terbesar {}\".format(max(ScoreSiluet)))   "
   ]
  },
  {
   "cell_type": "code",
   "execution_count": 11,
   "metadata": {
    "ExecuteTime": {
     "end_time": "2018-12-20T05:17:50.957332Z",
     "start_time": "2018-12-20T05:17:49.006993Z"
    },
    "scrolled": true
   },
   "outputs": [
    {
     "data": {
      "image/png": "[encoded data removed]",
      "text/plain": [
       "<Figure size 432x288 with 1 Axes>"
      ]
     },
     "metadata": {},
     "output_type": "display_data"
    },
    {
     "data": {
      "image/png": "[encoded data removed]",
      "text/plain": [
       "<Figure size 432x288 with 1 Axes>"
      ]
     },
     "metadata": {},
     "output_type": "display_data"
    },
    {
     "data": {
      "image/png": "[encoded data removed]",
      "text/plain": [
       "<Figure size 432x288 with 1 Axes>"
      ]
     },
     "metadata": {},
     "output_type": "display_data"
    },
    {
     "data": {
      "image/png": "[encoded data removed]",
      "text/plain": [
       "<Figure size 432x288 with 1 Axes>"
      ]
     },
     "metadata": {},
     "output_type": "display_data"
    },
    {
     "data": {
      "image/png": "[encoded data removed]",
      "text/plain": [
       "<Figure size 432x288 with 1 Axes>"
      ]
     },
     "metadata": {},
     "output_type": "display_data"
    },
    {
     "data": {
      "image/png": "[encoded data removed]",
      "text/plain": [
       "<Figure size 432x288 with 1 Axes>"
      ]
     },
     "metadata": {},
     "output_type": "display_data"
    },
    {
     "data": {
      "image/png": "[encoded data removed]",
      "text/plain": [
       "<Figure size 432x288 with 1 Axes>"
      ]
     },
     "metadata": {},
     "output_type": "display_data"
    }
   ],
   "source": [
    "import seaborn as sns\n",
    "import matplotlib.pyplot as plt\n",
    "\n",
    "for i in Cmb:\n",
    "    sns.countplot(i)\n",
    "    plt.show()"
   ]
  },
  {
   "cell_type": "markdown",
   "metadata": {},
   "source": [
    "## DBSCAN Clustering"
   ]
  },
  {
   "cell_type": "code",
   "execution_count": 12,
   "metadata": {
    "ExecuteTime": {
     "end_time": "2018-12-20T05:17:51.956108Z",
     "start_time": "2018-12-20T05:17:50.965877Z"
    }
   },
   "outputs": [],
   "source": [
    "from sklearn import cluster\n",
    "\n",
    "DBScan = cluster.DBSCAN(eps=1)\n",
    "DBScan.fit(X)\n",
    "C_DB = DBScan.labels_.astype(np.int)"
   ]
  },
  {
   "cell_type": "code",
   "execution_count": 13,
   "metadata": {
    "ExecuteTime": {
     "end_time": "2018-12-20T05:17:52.900579Z",
     "start_time": "2018-12-20T05:17:51.961108Z"
    }
   },
   "outputs": [
    {
     "data": {
      "text/plain": [
       "0.027177410639356935"
      ]
     },
     "execution_count": 13,
     "metadata": {},
     "output_type": "execute_result"
    }
   ],
   "source": [
    "siluet(X,C_DB)"
   ]
  },
  {
   "cell_type": "code",
   "execution_count": 14,
   "metadata": {
    "ExecuteTime": {
     "end_time": "2018-12-20T05:17:55.063777Z",
     "start_time": "2018-12-20T05:17:52.906485Z"
    }
   },
   "outputs": [
    {
     "data": {
      "image/png": "[encoded data removed]",
      "text/plain": [
       "<Figure size 432x288 with 1 Axes>"
      ]
     },
     "metadata": {},
     "output_type": "display_data"
    }
   ],
   "source": [
    "import seaborn as sns\n",
    "import matplotlib.pyplot as plt\n",
    "\n",
    "sns.countplot(C_DB)\n",
    "plt.show()"
   ]
  },
  {
   "cell_type": "markdown",
   "metadata": {},
   "source": [
    "## LDA Clustering"
   ]
  },
  {
   "cell_type": "code",
   "execution_count": 15,
   "metadata": {
    "ExecuteTime": {
     "end_time": "2018-12-20T05:20:28.168247Z",
     "start_time": "2018-12-20T05:17:55.069304Z"
    }
   },
   "outputs": [
    {
     "name": "stderr",
     "output_type": "stream",
     "text": [
      "100%|████████████████████████████████████████████████████████████████████████████████████| 7/7 [02:32<00:00, 21.82s/it]\n"
     ]
    }
   ],
   "source": [
    "from sklearn.decomposition import LatentDirichletAllocation as LDA\n",
    "\n",
    "lda=[]\n",
    "for n_topics in tqdm(range(2,9)):\n",
    "    model=LDA(n_components=n_topics, learning_method='batch', random_state=0).fit(X)\n",
    "    lda.append(model)"
   ]
  },
  {
   "cell_type": "code",
   "execution_count": 16,
   "metadata": {
    "ExecuteTime": {
     "end_time": "2018-12-20T05:20:36.016962Z",
     "start_time": "2018-12-20T05:20:28.173248Z"
    }
   },
   "outputs": [
    {
     "name": "stderr",
     "output_type": "stream",
     "text": [
      "100%|████████████████████████████████████████████████████████████████████████████████████| 7/7 [00:07<00:00,  1.11s/it]\n"
     ]
    }
   ],
   "source": [
    "vsm_topics=[]\n",
    "for i in tqdm(lda):\n",
    "    vsm_topics.append(i.transform(X))\n",
    "    #ini matriks topik terhadap masing-masing kata "
   ]
  },
  {
   "cell_type": "code",
   "execution_count": 17,
   "metadata": {
    "ExecuteTime": {
     "end_time": "2018-12-20T05:20:36.249325Z",
     "start_time": "2018-12-20T05:20:36.021963Z"
    }
   },
   "outputs": [
    {
     "name": "stderr",
     "output_type": "stream",
     "text": [
      "100%|████████████████████████████████████████████████████████████████████████████████████| 7/7 [00:00<00:00, 44.36it/s]\n"
     ]
    }
   ],
   "source": [
    "doc_topic=[]\n",
    "for i in tqdm(range(len(vsm_topics))):\n",
    "    doc_topic.append([a.argmax()+1 for a in vsm_topics[i]]) # topic of docs"
   ]
  },
  {
   "cell_type": "code",
   "execution_count": 18,
   "metadata": {
    "ExecuteTime": {
     "end_time": "2018-12-20T05:20:38.673881Z",
     "start_time": "2018-12-20T05:20:36.257330Z"
    },
    "scrolled": false
   },
   "outputs": [
    {
     "data": {
      "image/png": "[encoded data removed]",
      "text/plain": [
       "<Figure size 432x288 with 1 Axes>"
      ]
     },
     "metadata": {},
     "output_type": "display_data"
    },
    {
     "data": {
      "image/png": "[encoded data removed]",
      "text/plain": [
       "<Figure size 432x288 with 1 Axes>"
      ]
     },
     "metadata": {},
     "output_type": "display_data"
    },
    {
     "data": {
      "image/png": "[encoded data removed]",
      "text/plain": [
       "<Figure size 432x288 with 1 Axes>"
      ]
     },
     "metadata": {},
     "output_type": "display_data"
    },
    {
     "data": {
      "image/png": "[encoded data removed]",
      "text/plain": [
       "<Figure size 432x288 with 1 Axes>"
      ]
     },
     "metadata": {},
     "output_type": "display_data"
    },
    {
     "data": {
      "image/png": "[encoded data removed]",
      "text/plain": [
       "<Figure size 432x288 with 1 Axes>"
      ]
     },
     "metadata": {},
     "output_type": "display_data"
    },
    {
     "data": {
      "image/png": "[encoded data removed]",
      "text/plain": [
       "<Figure size 432x288 with 1 Axes>"
      ]
     },
     "metadata": {},
     "output_type": "display_data"
    },
    {
     "data": {
      "image/png": "[encoded data removed]",
      "text/plain": [
       "<Figure size 432x288 with 1 Axes>"
      ]
     },
     "metadata": {},
     "output_type": "display_data"
    }
   ],
   "source": [
    "import matplotlib.pyplot as plt\n",
    "import seaborn as sns\n",
    "for i in doc_topic:\n",
    "    sns.countplot(i)\n",
    "    plt.show() "
   ]
  },
  {
   "cell_type": "code",
   "execution_count": 19,
   "metadata": {
    "ExecuteTime": {
     "end_time": "2018-12-20T05:20:38.718955Z",
     "start_time": "2018-12-20T05:20:38.678882Z"
    }
   },
   "outputs": [],
   "source": [
    "def print_Topics(model, feature_names, Top_Topics, n_top_words):\n",
    "    for topic_idx, topic in enumerate(model.components_[:Top_Topics]):\n",
    "        print(\"Topic #%d:\" %(topic_idx+1))\n",
    "        print(\" \".join([feature_names[i]\n",
    "                        for i in topic.argsort()[:-n_top_words - 1:-1]]))"
   ]
  },
  {
   "cell_type": "code",
   "execution_count": 39,
   "metadata": {
    "ExecuteTime": {
     "end_time": "2018-12-20T13:04:10.095066Z",
     "start_time": "2018-12-20T13:04:10.045095Z"
    }
   },
   "outputs": [
    {
     "name": "stdout",
     "output_type": "stream",
     "text": [
      "Printing top 4 Topics, with top 15 Words:\n",
      "Topic #1:\n",
      "nan min pulsa kesedot nomer ya nomor siang bantu nya kah admin telepon gini ku\n",
      "Topic #2:\n",
      "sinyal ya jaring min banget pulsa jam sms kah daerah kali registrasi ilang langgan jelek\n",
      "Topic #3:\n",
      "kuota paket pulsa internet cek min data ya rb gb sisa isi kemarin kartu sms\n",
      "Topic #4:\n",
      "pulsa dm langgan kak min layan ya kali respon internetan banget konsumen solusi nomor sms\n"
     ]
    }
   ],
   "source": [
    "# Mari kita coba maknai masing-masing topic ini\n",
    "Top_Words=15 #ini mau memunculkan berapa banyak kata, untuk memudahkan pendefinisian kelompok\n",
    "Ntopic=4\n",
    "print('Printing top {0} Topics, with top {1} Words:'.format(Ntopic, Top_Words))\n",
    "print_Topics(lda[Ntopic-2], X_terms,Ntopic, Top_Words)"
   ]
  },
  {
   "cell_type": "code",
   "execution_count": 40,
   "metadata": {
    "ExecuteTime": {
     "end_time": "2018-12-20T13:04:31.211357Z",
     "start_time": "2018-12-20T13:04:13.680209Z"
    }
   },
   "outputs": [
    {
     "data": {
      "text/html": [
       "\n",
       "<link rel=\"stylesheet\" type=\"text/css\" href=\"https://cdn.rawgit.com/bmabey/pyLDAvis/files/ldavis.v1.0.0.css\">\n",
       "\n",
       "\n",
       "<div id=\"ldavis_el1588016611680732483981068297\"></div>\n",
       "<script type=\"text/javascript\">\n",
       "\n",
       "var ldavis_el1588016611680732483981068297_data = {\"mdsDat\": {\"Freq\": [31.52301684307661, 27.31650635489401, 23.78842279516445, 17.372054006864936], \"cluster\": [1, 1, 1, 1], \"topics\": [1, 2, 3, 4], \"x\": [-0.11575325318307596, -0.05636509889452066, -0.07537440344527166, 0.24749275552286845], \"y\": [-0.14753955789842374, 0.1993572685468261, -0.021628450451961125, -0.03018926019644126]}, \"tinfo\": {\"Category\": [\"Default\", \"Default\", \"Default\", \"Default\", \"Default\", \"Default\", \"Default\", \"Default\", \"Default\", \"Default\", \"Default\", \"Default\", \"Default\", \"Default\", \"Default\", \"Default\", \"Default\", \"Default\", \"Default\", \"Default\", \"Default\", \"Default\", \"Default\", \"Default\", \"Default\", \"Default\", \"Default\", \"Default\", \"Default\", \"Default\", \"Topic1\", \"Topic1\", \"Topic1\", \"Topic1\", \"Topic1\", \"Topic1\", \"Topic1\", \"Topic1\", \"Topic1\", \"Topic1\", \"Topic1\", \"Topic1\", \"Topic1\", \"Topic1\", \"Topic1\", \"Topic1\", \"Topic1\", \"Topic1\", \"Topic1\", \"Topic1\", \"Topic1\", \"Topic1\", \"Topic1\", \"Topic1\", \"Topic1\", \"Topic1\", \"Topic1\", \"Topic1\", \"Topic1\", \"Topic1\", \"Topic1\", \"Topic1\", \"Topic1\", \"Topic1\", \"Topic1\", \"Topic1\", \"Topic1\", \"Topic1\", \"Topic1\", \"Topic1\", \"Topic1\", \"Topic1\", \"Topic1\", \"Topic1\", \"Topic1\", \"Topic1\", \"Topic1\", \"Topic1\", \"Topic1\", \"Topic1\", \"Topic1\", \"Topic1\", \"Topic1\", \"Topic1\", \"Topic2\", \"Topic2\", \"Topic2\", \"Topic2\", \"Topic2\", \"Topic2\", \"Topic2\", \"Topic2\", \"Topic2\", \"Topic2\", \"Topic2\", \"Topic2\", \"Topic2\", \"Topic2\", \"Topic2\", \"Topic2\", \"Topic2\", \"Topic2\", \"Topic2\", \"Topic2\", \"Topic2\", \"Topic2\", \"Topic2\", \"Topic2\", \"Topic2\", \"Topic2\", \"Topic2\", \"Topic2\", \"Topic2\", \"Topic2\", \"Topic2\", \"Topic2\", \"Topic2\", \"Topic2\", \"Topic2\", \"Topic2\", \"Topic2\", \"Topic2\", \"Topic2\", \"Topic2\", \"Topic2\", \"Topic2\", \"Topic2\", \"Topic2\", \"Topic2\", \"Topic2\", \"Topic2\", \"Topic2\", \"Topic2\", \"Topic2\", \"Topic2\", \"Topic2\", \"Topic2\", \"Topic2\", \"Topic3\", \"Topic3\", \"Topic3\", \"Topic3\", \"Topic3\", \"Topic3\", \"Topic3\", \"Topic3\", \"Topic3\", \"Topic3\", \"Topic3\", \"Topic3\", \"Topic3\", \"Topic3\", \"Topic3\", \"Topic3\", \"Topic3\", \"Topic3\", \"Topic3\", \"Topic3\", \"Topic3\", \"Topic3\", \"Topic3\", \"Topic3\", \"Topic3\", \"Topic3\", \"Topic3\", \"Topic3\", \"Topic3\", \"Topic3\", \"Topic3\", \"Topic3\", \"Topic3\", \"Topic3\", \"Topic3\", \"Topic3\", \"Topic3\", \"Topic3\", \"Topic3\", \"Topic3\", \"Topic3\", \"Topic3\", \"Topic3\", \"Topic3\", \"Topic3\", \"Topic3\", \"Topic3\", \"Topic3\", \"Topic3\", \"Topic3\", \"Topic3\", \"Topic3\", \"Topic3\", \"Topic3\", \"Topic3\", \"Topic4\", \"Topic4\", \"Topic4\", \"Topic4\", \"Topic4\", \"Topic4\", \"Topic4\", \"Topic4\", \"Topic4\", \"Topic4\", \"Topic4\", \"Topic4\", \"Topic4\", \"Topic4\", \"Topic4\", \"Topic4\", \"Topic4\", \"Topic4\", \"Topic4\", \"Topic4\", \"Topic4\", \"Topic4\", \"Topic4\", \"Topic4\", \"Topic4\", \"Topic4\", \"Topic4\", \"Topic4\", \"Topic4\", \"Topic4\", \"Topic4\", \"Topic4\", \"Topic4\", \"Topic4\", \"Topic4\", \"Topic4\", \"Topic4\", \"Topic4\", \"Topic4\", \"Topic4\", \"Topic4\", \"Topic4\", \"Topic4\", \"Topic4\", \"Topic4\", \"Topic4\", \"Topic4\"], \"Freq\": [185.0, 146.0, 118.0, 154.0, 70.0, 244.0, 36.0, 351.0, 38.0, 46.0, 44.0, 36.0, 85.0, 118.0, 73.0, 48.0, 127.0, 27.0, 98.0, 62.0, 36.0, 31.0, 34.0, 27.0, 26.0, 21.0, 75.0, 29.0, 29.0, 18.0, 45.46169768716442, 33.73960171063237, 143.37289050911122, 29.392463598324778, 42.921827167468514, 27.957524720677856, 23.342529665472455, 14.556598424687186, 13.906963631972701, 13.832706441874485, 22.32287608568346, 15.563950137307089, 11.644955320765565, 11.41192676890765, 17.804220857481962, 10.020584679191272, 9.114901734567693, 21.36274885962015, 9.119140494215694, 17.5112840848659, 8.616173474740842, 7.924317486666351, 18.93432628055142, 7.517544720089911, 7.519903557519409, 7.326440441710527, 7.228016884214978, 6.903057672019034, 6.778087154648572, 6.588004549569985, 31.094626149920103, 131.1558798106723, 77.60465133812117, 66.21242457540261, 48.63744008716396, 86.94618086596817, 9.188777877968946, 12.784061097642413, 40.981841272550334, 20.982531115947907, 41.331733216114536, 35.497199068883035, 31.22203100169965, 109.73155539482232, 72.40377307107599, 63.014231994429295, 22.410277316019084, 30.121615790967844, 34.40516070109239, 22.942053144096562, 28.1589273338757, 23.910454234741383, 23.800401936355648, 23.80822764589412, 69.43288439374182, 115.92581498041498, 35.33811855083615, 30.29864937480062, 24.99689944178786, 24.55685601375392, 24.042511285940673, 22.533962559083278, 20.559683946064492, 14.50357500422289, 14.144638797678006, 13.569603127786587, 13.378899009628213, 12.34587822682308, 12.397301076590232, 12.543450520475005, 12.360178347281689, 11.850225364607395, 11.270598121155766, 11.490728801344044, 10.804849343280228, 10.475331310248608, 10.042848918877201, 9.888377441032064, 9.76050745255584, 9.330467479672219, 9.158061687193207, 9.307236739714643, 9.183524016311361, 10.268721254462438, 23.164099950496553, 22.392182890442733, 30.622334940725313, 25.31137917548065, 18.155535330521715, 16.484313703292703, 42.24459455688357, 33.4747573861116, 39.22508202466001, 69.47456818483886, 37.08287148066263, 35.24815916889309, 37.188123291379725, 21.361255617492553, 17.1477274376568, 20.243640894857535, 45.53085775179901, 30.51511326412052, 20.26382465419438, 39.59102677784566, 22.255211377384498, 22.23206513196839, 20.32452099444213, 19.214145641908797, 25.816223229544292, 20.968472208945855, 20.16285662724704, 26.611913118465836, 19.414664766722186, 17.812343176247854, 18.004566279140974, 17.093482999862402, 12.332403705255519, 10.959837435663841, 9.94743152445979, 9.389082511241224, 13.900059421522828, 9.489486493250263, 9.240901198466679, 8.84035133678664, 8.973942140007406, 8.445137885638115, 15.701573267020828, 7.834597836439056, 7.760549347335966, 7.869188837794643, 7.111054959889508, 7.034516693241216, 6.988832569840944, 6.825555736749898, 6.8371240114543435, 6.596710305048739, 6.631526598817076, 6.335770177478099, 25.864903666625185, 23.715847910702298, 19.01566627674127, 11.420246069014224, 35.76355475962663, 20.603349494864624, 13.09768161404128, 72.384614494011, 45.18862861533265, 159.06279227677342, 54.81648725941505, 36.11990981509145, 18.07070433023196, 22.794852462069453, 20.16180985698564, 35.88723317265283, 26.268888138196345, 23.87344516498005, 36.07128957754649, 24.278655495122898, 36.41457620520477, 23.89579038090033, 19.560620231141456, 20.309846495371218, 17.709974717921533, 184.73956959352608, 35.46706292151361, 17.90307634889763, 16.487360248692383, 16.120847960830883, 15.778078235421432, 15.199823082989855, 14.635252345770263, 20.18972167088244, 10.705807423502568, 10.25712163879397, 10.213284182168696, 9.706497793067658, 8.735569517610196, 8.578793080393188, 10.572488576770047, 8.411514674699184, 8.23467601537101, 7.886763872969996, 7.785097811408179, 7.664435706701286, 7.254237358517036, 7.295896267683509, 7.047553098929514, 6.958780731796819, 6.960797051199181, 6.431228390395518, 6.335138788541994, 6.207593978235541, 6.824274545110401, 34.31423047397494, 23.560669782948565, 20.266130974292867, 24.00067538081114, 90.47684734138507, 20.015303168560685, 24.699556092033916, 22.763976243622974, 43.12813809577159, 28.712730415915416, 20.361149587906073, 14.904346750674693, 12.117891489493397, 16.16589193692567, 13.206672800457286, 11.273906068138068, 11.274609675415146], \"Term\": [\"nan\", \"kuota\", \"sinyal\", \"paket\", \"jaring\", \"min\", \"kesedot\", \"pulsa\", \"nomer\", \"gb\", \"sisa\", \"daerah\", \"data\", \"internet\", \"kak\", \"respon\", \"dm\", \"bantu\", \"cek\", \"rb\", \"siang\", \"jelek\", \"aplikasi\", \"internetan\", \"solusi\", \"telepon\", \"banget\", \"admin\", \"konsumen\", \"ku\", \"gb\", \"aplikasi\", \"kuota\", \"freedom\", \"sisa\", \"mb\", \"perpanjang\", \"batas\", \"combo\", \"aktifin\", \"habis\", \"paketin\", \"quota\", \"cuman\", \"notifikasi\", \"promo\", \"fup\", \"kb\", \"full\", \"pakai\", \"eror\", \"wib\", \"barusan\", \"balesan\", \"bangsat\", \"reg\", \"xxl\", \"instagram\", \"segini\", \"korban\", \"koneksi\", \"paket\", \"cek\", \"data\", \"rb\", \"internet\", \"ok\", \"info\", \"kemarin\", \"hasil\", \"isi\", \"kartu\", \"pagi\", \"pulsa\", \"min\", \"ya\", \"no\", \"daftar\", \"sms\", \"malam\", \"dm\", \"jam\", \"kak\", \"nya\", \"jaring\", \"sinyal\", \"daerah\", \"jelek\", \"parah\", \"manusia\", \"minggu\", \"konten\", \"direspon\", \"premium\", \"rumah\", \"orang\", \"pelihara\", \"kadang\", \"nyedot\", \"telkomsel\", \"kirim\", \"atur\", \"hallo\", \"terang\", \"twitter\", \"area\", \"enak\", \"coba\", \"payah\", \"paham\", \"indonesia\", \"si\", \"nmr\", \"mas\", \"henti\", \"gara\", \"ilang\", \"sih\", \"iya\", \"menit\", \"banget\", \"registrasi\", \"jam\", \"ya\", \"kah\", \"kali\", \"sms\", \"halo\", \"unreg\", \"ganti\", \"min\", \"langgan\", \"dokter\", \"pulsa\", \"layan\", \"internet\", \"nya\", \"kartu\", \"solusi\", \"pulsaku\", \"kualitas\", \"internetan\", \"kemkominfo\", \"bales\", \"kasih\", \"harga\", \"rupiah\", \"kemana\", \"perkb\", \"kerja\", \"id\", \"maketin\", \"saldo\", \"inet\", \"tingkat\", \"pulsanya\", \"sedot\", \"customer\", \"in\", \"nyaman\", \"kantor\", \"diproses\", \"topup\", \"sampah\", \"buang\", \"rudiantara\", \"baca\", \"media\", \"konsumen\", \"cs\", \"lapor\", \"ngisi\", \"respon\", \"mulu\", \"komplen\", \"dm\", \"kak\", \"pulsa\", \"langgan\", \"layan\", \"maaf\", \"nih\", \"operator\", \"kali\", \"banget\", \"isi\", \"ya\", \"nomor\", \"min\", \"sms\", \"daftar\", \"kah\", \"paket\", \"nan\", \"kesedot\", \"ku\", \"ka\", \"bilang\", \"tenggang\", \"proses\", \"speed\", \"telepon\", \"beneran\", \"kaya\", \"diperpanjang\", \"dibilang\", \"iklan\", \"prime\", \"sinyalnya\", \"tangan\", \"diisi\", \"lenyap\", \"app\", \"posisi\", \"blokir\", \"klik\", \"trims\", \"kbps\", \"masi\", \"spam\", \"makasih\", \"call\", \"permisi\", \"nomer\", \"bantu\", \"admin\", \"siang\", \"min\", \"gini\", \"nomor\", \"nya\", \"pulsa\", \"ya\", \"kah\", \"mohon\", \"gabisa\", \"daftar\", \"langgan\", \"sms\", \"dm\"], \"Total\": [185.0, 146.0, 118.0, 154.0, 70.0, 244.0, 36.0, 351.0, 38.0, 46.0, 44.0, 36.0, 85.0, 118.0, 73.0, 48.0, 127.0, 27.0, 98.0, 62.0, 36.0, 31.0, 34.0, 27.0, 26.0, 21.0, 75.0, 29.0, 29.0, 18.0, 46.19983103643217, 34.478419172420196, 146.79871345285795, 30.134411564881983, 44.04487218975832, 28.729694274490953, 24.083005540450202, 15.300103604613863, 14.640895851079842, 14.57552890631964, 23.609133266302923, 16.476953796100187, 12.381768542870551, 12.169719445960613, 18.989250149460894, 10.777328045671121, 9.853717623073454, 23.097219984007516, 9.870654051190517, 18.997412652918545, 9.358400954127545, 8.662854730397324, 20.723501400723162, 8.260216982043142, 8.265444087374618, 8.064917889055124, 7.961122427635326, 7.650571970736806, 7.526734621681044, 7.324095184230658, 35.201136991722564, 154.06466947853053, 98.50371791949769, 85.80060361652686, 62.39083223353407, 118.00003423742056, 10.367895563318793, 15.37958180868164, 62.8009404024044, 28.252774455413984, 69.62898683137554, 60.53724611372091, 53.838870570286225, 351.513512545213, 244.82605436946483, 197.27282017273004, 36.7910400197671, 77.15661190179328, 106.76298044151054, 48.37405986170874, 127.33729391497918, 72.29433046877861, 73.38187757064028, 81.40004828039241, 70.5633517447146, 118.04161431446997, 36.07087852361005, 31.12227703808806, 25.747259424767257, 25.301242089449516, 24.78040648383921, 23.275701616781124, 21.303901458780793, 15.253535909851049, 14.879817066079418, 14.312008815408337, 14.118475268234517, 13.078582212582065, 13.135990618384394, 13.291553124107734, 13.104560319517615, 12.590132729682997, 12.008080401308215, 12.250234869073585, 11.545453869365556, 11.209367812916744, 10.79329421313158, 10.627840481482721, 10.493118552720414, 10.075958225114968, 9.894391509467276, 10.055575401125507, 9.92691976624533, 11.11385244357181, 25.7754729468967, 25.235131593993618, 37.45581138970463, 30.387536480799163, 21.95321106977681, 20.64634185747745, 75.2373975047995, 55.92641912288387, 72.29433046877861, 197.27282017273004, 93.57232936209836, 89.84435765290931, 106.76298044151054, 37.5588713256434, 25.460252559750437, 37.88648211000737, 244.82605436946483, 110.6973096529892, 40.23888420824624, 351.513512545213, 66.1577855705417, 118.00003423742056, 81.40004828039241, 60.53724611372091, 26.671449899001285, 21.701714310138147, 20.893013912497015, 27.618442034452983, 20.165201350916405, 18.537144790935717, 18.73778781444999, 17.839463169179048, 13.065143350779401, 11.701161456973862, 10.688558143075536, 10.118949793551836, 14.981141593038167, 10.228218185698596, 9.976192577336914, 9.573834011111286, 9.74583735545038, 9.1836376016934, 17.127880627065306, 8.56428696112877, 8.490542669064546, 8.616767442520404, 7.852434806787301, 7.7692543166313275, 7.728342060774073, 7.552247170974693, 7.583448019576272, 7.320473191969048, 7.370634567537204, 7.06812334042248, 29.448425649612194, 28.663529233636964, 23.013339088225514, 13.37936443885757, 48.82548726008564, 26.84847820488492, 15.932853791711256, 127.33729391497918, 73.38187757064028, 351.513512545213, 110.6973096529892, 66.1577855705417, 26.286206951015096, 38.530953909393595, 32.9556320566423, 89.84435765290931, 75.2373975047995, 69.62898683137554, 197.27282017273004, 78.36143682609304, 244.82605436946483, 106.76298044151054, 77.15661190179328, 93.57232936209836, 154.06466947853053, 185.4256728307276, 36.178771757569635, 18.60918063368034, 17.19122773373688, 16.826685917683815, 16.477219142411787, 15.905870395503086, 15.357504219024067, 21.23802459836823, 11.396927965924013, 10.952480533800019, 10.927022265492575, 10.406733518081047, 9.43101138327597, 9.272068543604025, 11.43825198856931, 9.123097063810144, 8.931324132258224, 8.591131169192428, 8.488019017604229, 8.373488851195905, 7.945817813053176, 7.994119326478201, 7.740317521618855, 7.656670358613061, 7.665170540118153, 7.122093647555611, 7.0258069488333375, 6.9070311215106335, 7.597808556464354, 38.33889610992452, 27.255434053835526, 29.213439964215432, 36.05649803233644, 244.82605436946483, 34.037684042821226, 78.36143682609304, 81.40004828039241, 351.513512545213, 197.27282017273004, 93.57232936209836, 44.22141993763411, 28.074414903530894, 77.15661190179328, 110.6973096529892, 106.76298044151054, 127.33729391497918], \"loglift\": [30.0, 29.0, 28.0, 27.0, 26.0, 25.0, 24.0, 23.0, 22.0, 21.0, 20.0, 19.0, 18.0, 17.0, 16.0, 15.0, 14.0, 13.0, 12.0, 11.0, 10.0, 9.0, 8.0, 7.0, 6.0, 5.0, 4.0, 3.0, 2.0, 1.0, 1.1383, 1.1328, 1.1308, 1.1295, 1.1286, 1.1272, 1.1232, 1.1046, 1.103, 1.1021, 1.0984, 1.0974, 1.0931, 1.0902, 1.09, 1.0816, 1.0765, 1.0764, 1.0753, 1.073, 1.0718, 1.0653, 1.0642, 1.0602, 1.0599, 1.0584, 1.0578, 1.0516, 1.0497, 1.0485, 1.0304, 0.9935, 0.916, 0.8953, 0.9054, 0.8491, 1.0337, 0.9696, 0.7276, 0.857, 0.6329, 0.6206, 0.6096, -0.0098, -0.0638, 0.0132, 0.6587, 0.2139, 0.022, 0.4085, -0.3545, 0.048, 0.0285, -0.0749, 1.2815, 1.2796, 1.2772, 1.2709, 1.2681, 1.2678, 1.2674, 1.2653, 1.2621, 1.2473, 1.247, 1.2444, 1.2439, 1.24, 1.2398, 1.2397, 1.2392, 1.2371, 1.2343, 1.2337, 1.2314, 1.23, 1.2256, 1.2256, 1.2253, 1.2208, 1.2203, 1.2203, 1.2198, 1.2186, 1.1909, 1.1782, 1.0962, 1.1149, 1.1077, 1.0726, 0.7205, 0.7844, 0.6862, 0.2541, 0.3721, 0.362, 0.2431, 0.7333, 0.9024, 0.6709, -0.3845, 0.0091, 0.6117, -0.886, 0.2082, -0.3715, -0.0899, 0.1501, 1.4034, 1.4016, 1.4004, 1.3988, 1.398, 1.3961, 1.3961, 1.3933, 1.3783, 1.3705, 1.3641, 1.3611, 1.3611, 1.361, 1.3594, 1.3563, 1.3535, 1.3521, 1.349, 1.3469, 1.3461, 1.3452, 1.3368, 1.3366, 1.3354, 1.3348, 1.3324, 1.3319, 1.3303, 1.3266, 1.3062, 1.2465, 1.2452, 1.2776, 1.1246, 1.1712, 1.24, 0.8711, 0.9511, 0.643, 0.7332, 0.8308, 1.0612, 0.911, 0.9446, 0.5183, 0.3837, 0.3656, -0.2631, 0.2642, -0.4696, -0.0609, 0.0637, -0.0917, -0.7273, 1.7466, 1.7304, 1.7116, 1.7085, 1.7075, 1.707, 1.7049, 1.7021, 1.6997, 1.6877, 1.6847, 1.6828, 1.6806, 1.6737, 1.6726, 1.6716, 1.6691, 1.6691, 1.6648, 1.6639, 1.6618, 1.6592, 1.6589, 1.6565, 1.6547, 1.6539, 1.6483, 1.6468, 1.6435, 1.6429, 1.6394, 1.6046, 1.3846, 1.3433, 0.7549, 1.2193, 0.5958, 0.4761, -0.3478, -0.1769, 0.2252, 0.6628, 0.9101, 0.1874, -0.3758, -0.4978, -0.674], \"logprob\": [30.0, 29.0, 28.0, 27.0, 26.0, 25.0, 24.0, 23.0, 22.0, 21.0, 20.0, 19.0, 18.0, 17.0, 16.0, 15.0, 14.0, 13.0, 12.0, 11.0, 10.0, 9.0, 8.0, 7.0, 6.0, 5.0, 4.0, 3.0, 2.0, 1.0, -4.0891, -4.3873, -2.9405, -4.5253, -4.1466, -4.5753, -4.7557, -5.228, -5.2736, -5.279, -4.8004, -5.161, -5.4511, -5.4713, -5.0266, -5.6014, -5.6961, -4.8443, -5.6956, -5.0432, -5.7524, -5.8361, -4.965, -5.8888, -5.8884, -5.9145, -5.928, -5.974, -5.9923, -6.0207, -4.469, -3.0296, -3.5544, -3.7131, -4.0216, -3.4407, -5.688, -5.3578, -4.1929, -4.8623, -4.1844, -4.3365, -4.4649, -3.208, -3.6237, -3.7626, -4.7965, -4.5008, -4.3678, -4.773, -4.5681, -4.7317, -4.7363, -4.736, -3.5224, -3.0098, -4.1978, -4.3517, -4.544, -4.5618, -4.5829, -4.6477, -4.7394, -5.0884, -5.1134, -5.1549, -5.1691, -5.2494, -5.2453, -5.2336, -5.2483, -5.2904, -5.3406, -5.3212, -5.3828, -5.4137, -5.4559, -5.4714, -5.4844, -5.5295, -5.5481, -5.532, -5.5454, -5.4337, -4.6202, -4.6541, -4.341, -4.5315, -4.8638, -4.9604, -4.0193, -4.252, -4.0935, -3.5218, -4.1496, -4.2004, -4.1468, -4.7012, -4.9209, -4.7549, -3.9444, -4.3445, -4.7539, -4.0842, -4.6602, -4.6612, -4.7509, -4.8071, -4.3735, -4.5815, -4.6206, -4.3431, -4.6585, -4.7446, -4.7339, -4.7858, -5.1122, -5.2302, -5.3272, -5.3849, -4.9926, -5.3743, -5.4008, -5.4452, -5.4302, -5.4909, -4.8707, -5.5659, -5.5754, -5.5615, -5.6628, -5.6736, -5.6802, -5.7038, -5.7021, -5.7379, -5.7326, -5.7783, -4.3716, -4.4583, -4.6792, -5.1891, -4.0475, -4.599, -5.052, -3.3425, -3.8136, -2.5552, -3.6205, -4.0376, -4.7302, -4.4979, -4.6207, -4.0441, -4.3561, -4.4517, -4.039, -4.4349, -4.0295, -4.4508, -4.651, -4.6134, -4.7504, -2.0912, -3.7415, -4.4252, -4.5075, -4.53, -4.5515, -4.5889, -4.6267, -4.305, -4.9394, -4.9822, -4.9865, -5.0373, -5.1427, -5.1608, -4.9519, -5.1805, -5.2018, -5.245, -5.2579, -5.2736, -5.3286, -5.3228, -5.3575, -5.3701, -5.3698, -5.449, -5.464, -5.4844, -5.3897, -3.7746, -4.1506, -4.3012, -4.1321, -2.805, -4.3136, -4.1034, -4.185, -3.546, -3.9528, -4.2965, -4.6085, -4.8155, -4.5272, -4.7294, -4.8877, -4.8876]}, \"token.table\": {\"Topic\": [2, 3, 4, 1, 1, 4, 2, 2, 3, 3, 1, 1, 2, 3, 1, 2, 4, 1, 2, 3, 1, 4, 4, 4, 3, 4, 1, 2, 3, 4, 2, 1, 1, 3, 4, 1, 3, 2, 1, 2, 3, 4, 1, 2, 3, 4, 4, 4, 3, 2, 1, 2, 3, 4, 1, 2, 3, 4, 2, 1, 1, 1, 1, 1, 2, 3, 4, 1, 2, 3, 4, 1, 2, 1, 2, 3, 4, 1, 3, 2, 1, 2, 3, 1, 2, 3, 1, 2, 3, 1, 3, 4, 1, 2, 3, 3, 2, 3, 1, 3, 1, 1, 2, 3, 4, 3, 4, 1, 3, 4, 1, 2, 3, 1, 2, 3, 2, 3, 2, 4, 2, 1, 2, 3, 4, 1, 3, 4, 1, 2, 3, 3, 1, 2, 3, 4, 3, 4, 1, 4, 4, 3, 1, 2, 3, 3, 3, 4, 2, 4, 2, 3, 4, 1, 2, 2, 3, 2, 1, 4, 3, 1, 4, 1, 2, 3, 4, 1, 2, 3, 2, 3, 4, 4, 1, 2, 3, 4, 3, 1, 2, 3, 4, 2, 2, 4, 1, 3, 2, 3, 1, 2, 3, 4, 2, 1, 2, 3, 4, 2, 3, 4, 3, 4, 1, 2, 3, 2, 1, 2, 3, 2, 4, 1, 2, 3, 4, 1, 2, 1, 2, 3, 4, 3, 2, 1, 3, 2, 3, 2, 1, 2, 3, 2, 1, 4, 1, 2, 3, 4, 1, 2, 2, 2, 3, 4, 1, 4, 2, 4, 1, 4, 1, 2, 3, 4, 3, 3, 1, 1, 3, 1, 1, 2, 4, 2, 3, 3, 2, 3, 3, 3, 2, 3, 1, 2, 1, 2, 4, 2, 4, 1, 2, 3, 4, 1, 1, 2, 3, 4, 3, 4, 4, 4, 3, 4, 2, 4, 2, 3, 3, 4, 2, 2, 3, 4, 1, 1, 1, 2, 3, 4], \"Freq\": [0.2738465586318996, 0.03423081982898745, 0.6846163965797489, 0.9605140293694521, 0.9861240978007806, 0.9425049570939847, 0.8921109706541016, 0.953127362327827, 0.9497147003909806, 0.9710233265697763, 0.9684975609467855, 0.0797475749957626, 0.5582330249703382, 0.34557282498163794, 0.9678850785791315, 0.11006979357123188, 0.880558348569855, 0.9168334844871814, 0.04825439392037797, 0.04825439392037797, 0.9803855181396703, 0.9651723721417913, 0.9508705444596777, 0.8809665870391074, 0.9230629631705616, 0.8686800297329111, 0.7918482839779267, 0.05075950538320043, 0.10151901076640087, 0.05075950538320043, 0.9409249242518618, 0.9562256396330712, 0.10466261762628544, 0.8373009410102835, 0.06977507841752362, 0.9038827927665277, 0.9341116238059359, 0.970311825842858, 0.3888195614160027, 0.142567172519201, 0.2592130409440018, 0.20737043275520145, 0.7692253576091057, 0.0466197186429761, 0.17482394491116038, 0.9609163127532406, 0.8957238458187335, 0.915162407198519, 0.9009873682491489, 0.9857349387684323, 0.2198884485380622, 0.12565054202174983, 0.5654274390978742, 0.086384747639953, 0.3976253396390421, 0.49703167454880265, 0.049703167454880265, 0.049703167454880265, 0.9265011962551318, 0.9617027571393518, 0.9623549455266616, 0.9117936818902588, 0.9133608597556734, 0.3918158236885122, 0.03561962033531929, 0.17809810167659645, 0.4274354440238315, 0.07918391555302458, 0.5278927703534971, 0.3167356622120983, 0.07918391555302458, 0.0792545896798903, 0.8718004864787932, 0.9740295362663554, 0.29379202143775307, 0.11751680857510123, 0.5875840428755061, 0.9318427640628544, 0.04235648927558429, 0.9160498291468476, 0.42599789171715513, 0.5591222328787661, 0.9529434736226046, 0.7432898327610384, 0.1061842618230055, 0.14157901576400733, 0.03879657230966144, 0.8923211631222131, 0.07759314461932287, 0.06675058731603647, 0.9345082224245107, 0.9542984982458739, 0.02669812674982839, 0.82764192924468, 0.16018876049897035, 0.9422248155171699, 0.9096062139231611, 0.940062256098727, 0.8452765596436187, 0.1300425476374798, 0.9149642702238182, 0.7372879216708759, 0.18644062387079618, 0.0508474428738535, 0.02542372143692675, 0.9776076422529012, 0.036207690453811156, 0.5888352231706605, 0.3446840330755086, 0.0574473388459181, 0.04555142283384271, 0.8199256110091688, 0.13665426850152815, 0.3319762399675969, 0.5394613899473449, 0.12449108998784883, 0.9778447068335059, 0.014171662417876898, 0.9639397516860801, 0.9307072332362185, 0.9175306470494615, 0.17099072032378868, 0.3954160407487613, 0.21373840040473585, 0.21373840040473585, 0.3270562268851278, 0.6132304254096146, 0.0545093711475213, 0.20034647105540446, 0.38956258260773086, 0.4006929421108089, 0.8914432494173026, 0.5781564614659134, 0.31385636479578155, 0.06607502416753296, 0.01651875604188324, 0.9606256714103127, 0.913035176747349, 0.9092003286343712, 0.04329525374449387, 0.9142355191151247, 0.9400776188285163, 0.6528564657995196, 0.3025432402485579, 0.047769985302403874, 0.9422172221025974, 0.8894203631423419, 0.9674181377557959, 0.915711760441706, 0.8756436718194249, 0.06276339525065056, 0.8159241382584572, 0.06276339525065056, 0.8806533722842405, 0.11363269319796651, 0.10187301812650576, 0.8828994904297165, 0.9881549599956054, 0.9557494576356053, 0.9672645106911479, 0.9572577744772924, 0.9741229785772078, 0.020436146403717645, 0.10840371855122098, 0.28004293959065424, 0.4968503766930962, 0.11743736176382273, 0.13035917945235997, 0.04345305981745332, 0.8256081365316131, 0.33253833710232306, 0.544153642531074, 0.12092303167357202, 0.9311928595256224, 0.1141282957100111, 0.19021382618335184, 0.6847697742600666, 0.8539944299204412, 0.8799186560748257, 0.4754614366822252, 0.22739460015236856, 0.1653778910199044, 0.12403341826492831, 0.988093782574606, 0.8997780068408182, 0.9132216906803616, 0.974601390898237, 0.8488816211915968, 0.774955685149876, 0.193738921287469, 0.2940863470819386, 0.18788849952457187, 0.1470431735409693, 0.36760793385242324, 0.9685071153151519, 0.3618156093260902, 0.06784042674864192, 0.24874823141168703, 0.33920213374320957, 0.22347635326714108, 0.7821672364349938, 0.9977043479242694, 0.8221616243633216, 0.07474196585121105, 0.025953159694709932, 0.389297395420649, 0.5969226729783285, 0.9066256413800028, 0.5979716797399539, 0.3261663707672476, 0.05436106179454126, 0.10433268575420845, 0.8868278289107719, 0.15313654886945874, 0.2169434442317332, 0.3062730977389175, 0.31903447681137237, 0.9479047281132911, 0.05266137378407173, 0.2948401199631856, 0.24570009996932135, 0.18427507497699103, 0.2825551149647196, 0.9284224105345009, 0.9135207498706245, 0.8680642995519405, 0.0964515888391045, 0.3641259248002002, 0.606876541333667, 0.9781995092769628, 0.5757921678451583, 0.2600351725752328, 0.16716546808407823, 0.8932152951534601, 0.9474974476187255, 0.05263874708992919, 0.8502922859822531, 0.025963123236099336, 0.116834054562447, 0.006490780809024834, 0.9710532782938874, 0.970977127606504, 0.953005529267315, 0.9207793159682759, 0.9355798851576992, 0.9213182917124534, 0.9550302997426476, 0.9553962681705174, 0.9833785483346644, 0.9706571902133208, 0.9278737696043922, 0.9430480462258014, 0.3129324935577018, 0.11379363402098247, 0.4523296952334053, 0.12232815657255615, 0.9676654894581146, 0.8711145133301922, 0.9691668810034109, 0.7853717965580091, 0.20836394602559427, 0.8679567599193637, 0.3754933773581663, 0.5900610215628327, 0.017880637017055535, 0.2662543833049952, 0.7373198306907559, 0.9562223392443231, 0.9408717820809046, 0.9184744229602456, 0.9021477813535249, 0.9268764437296059, 0.05838433964911047, 0.9341494343857675, 0.9300181754563573, 0.8950258578929896, 0.027734251926051525, 0.3050767711865668, 0.6656220462252366, 0.8227057173850417, 0.13163291478160666, 0.008471588649541338, 0.9827042833467952, 0.008471588649541338, 0.9616854053392712, 0.9762770979273886, 0.31846244699609805, 0.34656207467222433, 0.22479702140901037, 0.10303196814579642, 0.9748251444318208, 0.8424489057454717, 0.9767212032680929, 0.8768951973266524, 0.047085358403663985, 0.9417071680732797, 0.9780647813400433, 0.9710376406184074, 0.897941967445059, 0.9234711879289398, 0.9057570103592021, 0.9043556650549368, 0.9527559613041415, 0.6677074377052697, 0.07855381620061998, 0.23566144860185992, 0.923483106778714, 0.8792729999605338, 0.31935468831863334, 0.34976942053945553, 0.18248839332493333, 0.1470045390673074], \"Term\": [\"admin\", \"admin\", \"admin\", \"aktifin\", \"aplikasi\", \"app\", \"area\", \"atur\", \"baca\", \"bales\", \"balesan\", \"banget\", \"banget\", \"banget\", \"bangsat\", \"bantu\", \"bantu\", \"barusan\", \"barusan\", \"barusan\", \"batas\", \"beneran\", \"bilang\", \"blokir\", \"buang\", \"call\", \"cek\", \"cek\", \"cek\", \"cek\", \"coba\", \"combo\", \"cs\", \"cs\", \"cs\", \"cuman\", \"customer\", \"daerah\", \"daftar\", \"daftar\", \"daftar\", \"daftar\", \"data\", \"data\", \"data\", \"dibilang\", \"diisi\", \"diperpanjang\", \"diproses\", \"direspon\", \"dm\", \"dm\", \"dm\", \"dm\", \"dokter\", \"dokter\", \"dokter\", \"dokter\", \"enak\", \"eror\", \"freedom\", \"full\", \"fup\", \"gabisa\", \"gabisa\", \"gabisa\", \"gabisa\", \"ganti\", \"ganti\", \"ganti\", \"ganti\", \"gara\", \"gara\", \"gb\", \"gini\", \"gini\", \"gini\", \"habis\", \"habis\", \"hallo\", \"halo\", \"halo\", \"harga\", \"hasil\", \"hasil\", \"hasil\", \"henti\", \"henti\", \"henti\", \"id\", \"id\", \"iklan\", \"ilang\", \"ilang\", \"ilang\", \"in\", \"indonesia\", \"inet\", \"info\", \"info\", \"instagram\", \"internet\", \"internet\", \"internet\", \"internet\", \"internetan\", \"internetan\", \"isi\", \"isi\", \"isi\", \"iya\", \"iya\", \"iya\", \"jam\", \"jam\", \"jam\", \"jaring\", \"jaring\", \"jelek\", \"ka\", \"kadang\", \"kah\", \"kah\", \"kah\", \"kah\", \"kak\", \"kak\", \"kak\", \"kali\", \"kali\", \"kali\", \"kantor\", \"kartu\", \"kartu\", \"kartu\", \"kartu\", \"kasih\", \"kaya\", \"kb\", \"kb\", \"kbps\", \"kemana\", \"kemarin\", \"kemarin\", \"kemarin\", \"kemkominfo\", \"kerja\", \"kesedot\", \"kirim\", \"klik\", \"komplen\", \"komplen\", \"komplen\", \"koneksi\", \"koneksi\", \"konsumen\", \"konsumen\", \"konten\", \"korban\", \"ku\", \"kualitas\", \"kuota\", \"kuota\", \"langgan\", \"langgan\", \"langgan\", \"langgan\", \"lapor\", \"lapor\", \"lapor\", \"layan\", \"layan\", \"layan\", \"lenyap\", \"maaf\", \"maaf\", \"maaf\", \"makasih\", \"maketin\", \"malam\", \"malam\", \"malam\", \"malam\", \"manusia\", \"mas\", \"masi\", \"mb\", \"media\", \"menit\", \"menit\", \"min\", \"min\", \"min\", \"min\", \"minggu\", \"mohon\", \"mohon\", \"mohon\", \"mohon\", \"mulu\", \"mulu\", \"nan\", \"ngisi\", \"ngisi\", \"nih\", \"nih\", \"nih\", \"nmr\", \"no\", \"no\", \"no\", \"nomer\", \"nomer\", \"nomor\", \"nomor\", \"nomor\", \"nomor\", \"notifikasi\", \"notifikasi\", \"nya\", \"nya\", \"nya\", \"nya\", \"nyaman\", \"nyedot\", \"ok\", \"ok\", \"operator\", \"operator\", \"orang\", \"pagi\", \"pagi\", \"pagi\", \"paham\", \"pakai\", \"pakai\", \"paket\", \"paket\", \"paket\", \"paket\", \"paketin\", \"parah\", \"payah\", \"pelihara\", \"perkb\", \"permisi\", \"perpanjang\", \"posisi\", \"premium\", \"prime\", \"promo\", \"proses\", \"pulsa\", \"pulsa\", \"pulsa\", \"pulsa\", \"pulsaku\", \"pulsanya\", \"quota\", \"rb\", \"rb\", \"reg\", \"registrasi\", \"registrasi\", \"registrasi\", \"respon\", \"respon\", \"rudiantara\", \"rumah\", \"rupiah\", \"saldo\", \"sampah\", \"sedot\", \"sedot\", \"segini\", \"si\", \"siang\", \"siang\", \"siang\", \"sih\", \"sih\", \"sinyal\", \"sinyal\", \"sinyal\", \"sinyalnya\", \"sisa\", \"sms\", \"sms\", \"sms\", \"sms\", \"solusi\", \"spam\", \"speed\", \"tangan\", \"telepon\", \"telepon\", \"telkomsel\", \"tenggang\", \"terang\", \"tingkat\", \"topup\", \"trims\", \"twitter\", \"unreg\", \"unreg\", \"unreg\", \"wib\", \"xxl\", \"ya\", \"ya\", \"ya\", \"ya\"]}, \"R\": 30, \"lambda.step\": 0.01, \"plot.opts\": {\"xlab\": \"PC1\", \"ylab\": \"PC2\"}, \"topic.order\": [3, 2, 4, 1]};\n",
       "\n",
       "function LDAvis_load_lib(url, callback){\n",
       "  var s = document.createElement('script');\n",
       "  s.src = url;\n",
       "  s.async = true;\n",
       "  s.onreadystatechange = s.onload = callback;\n",
       "  s.onerror = function(){console.warn(\"failed to load library \" + url);};\n",
       "  document.getElementsByTagName(\"head\")[0].appendChild(s);\n",
       "}\n",
       "\n",
       "if(typeof(LDAvis) !== \"undefined\"){\n",
       "   // already loaded: just create the visualization\n",
       "   !function(LDAvis){\n",
       "       new LDAvis(\"#\" + \"ldavis_el1588016611680732483981068297\", ldavis_el1588016611680732483981068297_data);\n",
       "   }(LDAvis);\n",
       "}else if(typeof define === \"function\" && define.amd){\n",
       "   // require.js is available: use it to load d3/LDAvis\n",
       "   require.config({paths: {d3: \"https://cdnjs.cloudflare.com/ajax/libs/d3/3.5.5/d3.min\"}});\n",
       "   require([\"d3\"], function(d3){\n",
       "      window.d3 = d3;\n",
       "      LDAvis_load_lib(\"https://cdn.rawgit.com/bmabey/pyLDAvis/files/ldavis.v1.0.0.js\", function(){\n",
       "        new LDAvis(\"#\" + \"ldavis_el1588016611680732483981068297\", ldavis_el1588016611680732483981068297_data);\n",
       "      });\n",
       "    });\n",
       "}else{\n",
       "    // require.js not available: dynamically load d3 & LDAvis\n",
       "    LDAvis_load_lib(\"https://cdnjs.cloudflare.com/ajax/libs/d3/3.5.5/d3.min.js\", function(){\n",
       "         LDAvis_load_lib(\"https://cdn.rawgit.com/bmabey/pyLDAvis/files/ldavis.v1.0.0.js\", function(){\n",
       "                 new LDAvis(\"#\" + \"ldavis_el1588016611680732483981068297\", ldavis_el1588016611680732483981068297_data);\n",
       "            })\n",
       "         });\n",
       "}\n",
       "</script>"
      ],
      "text/plain": [
       "PreparedData(topic_coordinates=            Freq  cluster  topics         x         y\n",
       "topic                                                \n",
       "2      31.523017        1       1 -0.115753 -0.147540\n",
       "1      27.316506        1       2 -0.056365  0.199357\n",
       "3      23.788423        1       3 -0.075374 -0.021628\n",
       "0      17.372054        1       4  0.247493 -0.030189, topic_info=     Category        Freq        Term       Total  loglift  logprob\n",
       "term                                                               \n",
       "357   Default  185.000000         nan  185.000000  30.0000  30.0000\n",
       "296   Default  146.000000       kuota  146.000000  29.0000  29.0000\n",
       "504   Default  118.000000      sinyal  118.000000  28.0000  28.0000\n",
       "402   Default  154.000000       paket  154.000000  27.0000  27.0000\n",
       "219   Default   70.000000      jaring   70.000000  26.0000  26.0000\n",
       "348   Default  244.000000         min  244.000000  25.0000  25.0000\n",
       "263   Default   36.000000     kesedot   36.000000  24.0000  24.0000\n",
       "441   Default  351.000000       pulsa  351.000000  23.0000  23.0000\n",
       "379   Default   38.000000       nomer   38.000000  22.0000  22.0000\n",
       "163   Default   46.000000          gb   46.000000  21.0000  21.0000\n",
       "507   Default   44.000000        sisa   44.000000  20.0000  20.0000\n",
       "90    Default   36.000000      daerah   36.000000  19.0000  19.0000\n",
       "96    Default   85.000000        data   85.000000  18.0000  18.0000\n",
       "205   Default  118.000000    internet  118.000000  17.0000  17.0000\n",
       "233   Default   73.000000         kak   73.000000  16.0000  16.0000\n",
       "458   Default   48.000000      respon   48.000000  15.0000  15.0000\n",
       "131   Default  127.000000          dm  127.000000  14.0000  14.0000\n",
       "43    Default   27.000000       bantu   27.000000  13.0000  13.0000\n",
       "78    Default   98.000000         cek   98.000000  12.0000  12.0000\n",
       "451   Default   62.000000          rb   62.000000  11.0000  11.0000\n",
       "499   Default   36.000000       siang   36.000000  10.0000  10.0000\n",
       "220   Default   31.000000       jelek   31.000000   9.0000   9.0000\n",
       "23    Default   34.000000    aplikasi   34.000000   8.0000   8.0000\n",
       "206   Default   27.000000  internetan   27.000000   7.0000   7.0000\n",
       "515   Default   26.000000      solusi   26.000000   6.0000   6.0000\n",
       "537   Default   21.000000     telepon   21.000000   5.0000   5.0000\n",
       "40    Default   75.000000      banget   75.000000   4.0000   4.0000\n",
       "2     Default   29.000000       admin   29.000000   3.0000   3.0000\n",
       "286   Default   29.000000    konsumen   29.000000   2.0000   2.0000\n",
       "293   Default   18.000000          ku   18.000000   1.0000   1.0000\n",
       "...       ...         ...         ...         ...      ...      ...\n",
       "114    Topic4    8.234676       diisi    8.931324   1.6691  -5.2018\n",
       "308    Topic4    7.886764      lenyap    8.591131   1.6648  -5.2450\n",
       "24     Topic4    7.785098         app    8.488019   1.6639  -5.2579\n",
       "428    Topic4    7.664436      posisi    8.373489   1.6618  -5.2736\n",
       "63     Topic4    7.254237      blokir    7.945818   1.6592  -5.3286\n",
       "274    Topic4    7.295896        klik    7.994119   1.6589  -5.3228\n",
       "562    Topic4    7.047553       trims    7.740318   1.6565  -5.3575\n",
       "245    Topic4    6.958781        kbps    7.656670   1.6547  -5.3701\n",
       "332    Topic4    6.960797        masi    7.665171   1.6539  -5.3698\n",
       "519    Topic4    6.431228        spam    7.122094   1.6483  -5.4490\n",
       "320    Topic4    6.335139     makasih    7.025807   1.6468  -5.4640\n",
       "74     Topic4    6.207594        call    6.907031   1.6435  -5.4844\n",
       "420    Topic4    6.824275     permisi    7.597809   1.6429  -5.3897\n",
       "379    Topic4   34.314230       nomer   38.338896   1.6394  -3.7746\n",
       "43     Topic4   23.560670       bantu   27.255434   1.6046  -4.1506\n",
       "2      Topic4   20.266131       admin   29.213440   1.3846  -4.3012\n",
       "499    Topic4   24.000675       siang   36.056498   1.3433  -4.1321\n",
       "348    Topic4   90.476847         min  244.826054   0.7549  -2.8050\n",
       "166    Topic4   20.015303        gini   34.037684   1.2193  -4.3136\n",
       "380    Topic4   24.699556       nomor   78.361437   0.5958  -4.1034\n",
       "385    Topic4   22.763976         nya   81.400048   0.4761  -4.1850\n",
       "441    Topic4   43.128138       pulsa  351.513513  -0.3478  -3.5460\n",
       "587    Topic4   28.712730          ya  197.272820  -0.1769  -3.9528\n",
       "232    Topic4   20.361150         kah   93.572329   0.2252  -4.2965\n",
       "353    Topic4   14.904347       mohon   44.221420   0.6628  -4.6085\n",
       "153    Topic4   12.117891      gabisa   28.074415   0.9101  -4.8155\n",
       "91     Topic4   16.165892      daftar   77.156612   0.1874  -4.5272\n",
       "301    Topic4   13.206673     langgan  110.697310  -0.3758  -4.7294\n",
       "514    Topic4   11.273906         sms  106.762980  -0.4978  -4.8877\n",
       "131    Topic4   11.274610          dm  127.337294  -0.6740  -4.8876\n",
       "\n",
       "[240 rows x 6 columns], token_table=      Topic      Freq       Term\n",
       "term                            \n",
       "2         2  0.273847      admin\n",
       "2         3  0.034231      admin\n",
       "2         4  0.684616      admin\n",
       "8         1  0.960514    aktifin\n",
       "23        1  0.986124   aplikasi\n",
       "24        4  0.942505        app\n",
       "28        2  0.892111       area\n",
       "30        2  0.953127       atur\n",
       "33        3  0.949715       baca\n",
       "36        3  0.971023      bales\n",
       "37        1  0.968498    balesan\n",
       "40        1  0.079748     banget\n",
       "40        2  0.558233     banget\n",
       "40        3  0.345573     banget\n",
       "41        1  0.967885    bangsat\n",
       "43        2  0.110070      bantu\n",
       "43        4  0.880558      bantu\n",
       "47        1  0.916833    barusan\n",
       "47        2  0.048254    barusan\n",
       "47        3  0.048254    barusan\n",
       "48        1  0.980386      batas\n",
       "53        4  0.965172    beneran\n",
       "60        4  0.950871     bilang\n",
       "63        4  0.880967     blokir\n",
       "71        3  0.923063      buang\n",
       "74        4  0.868680       call\n",
       "78        1  0.791848        cek\n",
       "78        2  0.050760        cek\n",
       "78        3  0.101519        cek\n",
       "78        4  0.050760        cek\n",
       "...     ...       ...        ...\n",
       "504       2  0.982704     sinyal\n",
       "504       3  0.008472     sinyal\n",
       "506       4  0.961685  sinyalnya\n",
       "507       1  0.976277       sisa\n",
       "514       1  0.318462        sms\n",
       "514       2  0.346562        sms\n",
       "514       3  0.224797        sms\n",
       "514       4  0.103032        sms\n",
       "515       3  0.974825     solusi\n",
       "519       4  0.842449       spam\n",
       "520       4  0.976721      speed\n",
       "531       4  0.876895     tangan\n",
       "537       3  0.047085    telepon\n",
       "537       4  0.941707    telepon\n",
       "539       2  0.978065  telkomsel\n",
       "542       4  0.971038   tenggang\n",
       "544       2  0.897942     terang\n",
       "552       3  0.923471    tingkat\n",
       "558       3  0.905757      topup\n",
       "562       4  0.904356      trims\n",
       "565       2  0.952756    twitter\n",
       "569       2  0.667707      unreg\n",
       "569       3  0.078554      unreg\n",
       "569       4  0.235661      unreg\n",
       "581       1  0.923483        wib\n",
       "586       1  0.879273        xxl\n",
       "587       1  0.319355         ya\n",
       "587       2  0.349769         ya\n",
       "587       3  0.182488         ya\n",
       "587       4  0.147005         ya\n",
       "\n",
       "[312 rows x 3 columns], R=30, lambda_step=0.01, plot_opts={'xlab': 'PC1', 'ylab': 'PC2'}, topic_order=[3, 2, 4, 1])"
      ]
     },
     "execution_count": 40,
     "metadata": {},
     "output_type": "execute_result"
    }
   ],
   "source": [
    "Ntopic=4\n",
    "Vectorized = Tfidf_vectorizer\n",
    "import pyLDAvis, pyLDAvis.sklearn; pyLDAvis.enable_notebook()\n",
    "pyLDAvis.sklearn.prepare(lda[Ntopic-2], X, Vectorized)  "
   ]
  },
  {
   "cell_type": "markdown",
   "metadata": {},
   "source": [
    "## NMF Clustering"
   ]
  },
  {
   "cell_type": "code",
   "execution_count": 26,
   "metadata": {
    "ExecuteTime": {
     "end_time": "2018-12-20T05:54:16.916297Z",
     "start_time": "2018-12-20T05:54:15.866385Z"
    }
   },
   "outputs": [
    {
     "name": "stderr",
     "output_type": "stream",
     "text": [
      "100%|████████████████████████████████████████████████████████████████████████████████████| 7/7 [00:01<00:00,  6.90it/s]\n"
     ]
    }
   ],
   "source": [
    "from sklearn.decomposition import NMF\n",
    "\n",
    "nmf=[]\n",
    "for n_topics in tqdm(range(2,9)):\n",
    "    model=NMF(n_components=n_topics, random_state=0).fit(X)\n",
    "    nmf.append(model)"
   ]
  },
  {
   "cell_type": "code",
   "execution_count": 27,
   "metadata": {
    "ExecuteTime": {
     "end_time": "2018-12-20T05:54:17.782981Z",
     "start_time": "2018-12-20T05:54:17.702028Z"
    }
   },
   "outputs": [
    {
     "name": "stderr",
     "output_type": "stream",
     "text": [
      "100%|███████████████████████████████████████████████████████████████████████████████████| 7/7 [00:00<00:00, 149.02it/s]\n"
     ]
    }
   ],
   "source": [
    "vsm_topics_nmf=[]\n",
    "for i in tqdm(nmf):\n",
    "    vsm_topics_nmf.append(i.transform(X))\n",
    "    #ini matriks topik terhadap masing-masing kata "
   ]
  },
  {
   "cell_type": "code",
   "execution_count": 28,
   "metadata": {
    "ExecuteTime": {
     "end_time": "2018-12-20T05:54:18.708212Z",
     "start_time": "2018-12-20T05:54:18.599273Z"
    }
   },
   "outputs": [
    {
     "name": "stderr",
     "output_type": "stream",
     "text": [
      "100%|████████████████████████████████████████████████████████████████████████████████████| 7/7 [00:00<00:00, 79.59it/s]\n"
     ]
    }
   ],
   "source": [
    "doc_topic_nmf=[]\n",
    "for i in tqdm(range(len(vsm_topics_nmf))):\n",
    "    doc_topic_nmf.append([a.argmax()+1 for a in vsm_topics_nmf[i]]) # topic of docs"
   ]
  },
  {
   "cell_type": "code",
   "execution_count": 29,
   "metadata": {
    "ExecuteTime": {
     "end_time": "2018-12-20T05:54:20.633109Z",
     "start_time": "2018-12-20T05:54:19.396818Z"
    }
   },
   "outputs": [
    {
     "data": {
      "image/png": "[encoded data removed]",
      "text/plain": [
       "<Figure size 432x288 with 1 Axes>"
      ]
     },
     "metadata": {},
     "output_type": "display_data"
    },
    {
     "data": {
      "image/png": "[encoded data removed]",
      "text/plain": [
       "<Figure size 432x288 with 1 Axes>"
      ]
     },
     "metadata": {},
     "output_type": "display_data"
    },
    {
     "data": {
      "image/png": "[encoded data removed]",
      "text/plain": [
       "<Figure size 432x288 with 1 Axes>"
      ]
     },
     "metadata": {},
     "output_type": "display_data"
    },
    {
     "data": {
      "image/png": "[encoded data removed]",
      "text/plain": [
       "<Figure size 432x288 with 1 Axes>"
      ]
     },
     "metadata": {},
     "output_type": "display_data"
    },
    {
     "data": {
      "image/png": "[encoded data removed]",
      "text/plain": [
       "<Figure size 432x288 with 1 Axes>"
      ]
     },
     "metadata": {},
     "output_type": "display_data"
    },
    {
     "data": {
      "image/png": "[encoded data removed]",
      "text/plain": [
       "<Figure size 432x288 with 1 Axes>"
      ]
     },
     "metadata": {},
     "output_type": "display_data"
    },
    {
     "data": {
      "image/png": "[encoded data removed]",
      "text/plain": [
       "<Figure size 432x288 with 1 Axes>"
      ]
     },
     "metadata": {},
     "output_type": "display_data"
    }
   ],
   "source": [
    "# mari kita plot\n",
    "import matplotlib.pyplot as plt\n",
    "import seaborn as sns\n",
    "for i in doc_topic_nmf:\n",
    "    sns.countplot(i)\n",
    "    plt.show() "
   ]
  },
  {
   "cell_type": "code",
   "execution_count": null,
   "metadata": {},
   "outputs": [],
   "source": []
  }
 ],
 "metadata": {
  "kernelspec": {
   "display_name": "Python 3",
   "language": "python",
   "name": "python3"
  },
  "language_info": {
   "codemirror_mode": {
    "name": "ipython",
    "version": 3
   },
   "file_extension": ".py",
   "mimetype": "text/x-python",
   "name": "python",
   "nbconvert_exporter": "python",
   "pygments_lexer": "ipython3",
   "version": "3.6.5"
  },
  "toc": {
   "base_numbering": 1,
   "nav_menu": {},
   "number_sections": true,
   "sideBar": true,
   "skip_h1_title": false,
   "title_cell": "Table of Contents",
   "title_sidebar": "Contents",
   "toc_cell": false,
   "toc_position": {},
   "toc_section_display": true,
   "toc_window_display": false
  },
  "varInspector": {
   "cols": {
    "lenName": 16,
    "lenType": 16,
    "lenVar": 40
   },
   "kernels_config": {
    "python": {
     "delete_cmd_postfix": "",
     "delete_cmd_prefix": "del ",
     "library": "var_list.py",
     "varRefreshCmd": "print(var_dic_list())"
    },
    "r": {
     "delete_cmd_postfix": ") ",
     "delete_cmd_prefix": "rm(",
     "library": "var_list.r",
     "varRefreshCmd": "cat(var_dic_list()) "
    }
   },
   "types_to_exclude": [
    "module",
    "function",
    "builtin_function_or_method",
    "instance",
    "_Feature"
   ],
   "window_display": false
  }
 },
 "nbformat": 4,
 "nbformat_minor": 2
}
