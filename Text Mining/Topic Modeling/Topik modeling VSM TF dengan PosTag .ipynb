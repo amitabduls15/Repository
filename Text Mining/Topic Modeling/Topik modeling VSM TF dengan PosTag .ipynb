{
 "cells": [
  {
   "cell_type": "markdown",
   "metadata": {},
   "source": [
    "# Loading Data"
   ]
  },
  {
   "cell_type": "code",
   "execution_count": 1,
   "metadata": {
    "ExecuteTime": {
     "end_time": "2018-12-20T05:13:36.698032Z",
     "start_time": "2018-12-20T05:13:23.735058Z"
    }
   },
   "outputs": [],
   "source": [
    "import pandas as pd"
   ]
  },
  {
   "cell_type": "code",
   "execution_count": 2,
   "metadata": {
    "ExecuteTime": {
     "end_time": "2018-12-20T05:13:37.653005Z",
     "start_time": "2018-12-20T05:13:36.704028Z"
    }
   },
   "outputs": [
    {
     "data": {
      "text/html": [
       "<div>\n",
       "<style scoped>\n",
       "    .dataframe tbody tr th:only-of-type {\n",
       "        vertical-align: middle;\n",
       "    }\n",
       "\n",
       "    .dataframe tbody tr th {\n",
       "        vertical-align: top;\n",
       "    }\n",
       "\n",
       "    .dataframe thead th {\n",
       "        text-align: right;\n",
       "    }\n",
       "</style>\n",
       "<table border=\"1\" class=\"dataframe\">\n",
       "  <thead>\n",
       "    <tr style=\"text-align: right;\">\n",
       "      <th></th>\n",
       "      <th>Unnamed: 0</th>\n",
       "      <th>Tweet</th>\n",
       "      <th>TweetClean_NonPT</th>\n",
       "      <th>TweetClean_PT</th>\n",
       "    </tr>\n",
       "  </thead>\n",
       "  <tbody>\n",
       "    <tr>\n",
       "      <th>0</th>\n",
       "      <td>0</td>\n",
       "      <td>Udah ngeh blm min?\\r\\nItu sms 86mb jam 16.06 t...</td>\n",
       "      <td>sadar min sms 86 mb jam 16.06 tanggal 30.01 ke...</td>\n",
       "      <td>sadar min sms mb jam tanggal kemarin paketin t...</td>\n",
       "    </tr>\n",
       "    <tr>\n",
       "      <th>1</th>\n",
       "      <td>1</td>\n",
       "      <td>Dibaca itu yang kemarin min 86 mb... Pas jam 1...</td>\n",
       "      <td>dibaca kemarin min 86 mb .. jam 16.06 paketin ...</td>\n",
       "      <td>dibaca kemarin min mb jam paketin</td>\n",
       "    </tr>\n",
       "    <tr>\n",
       "      <th>2</th>\n",
       "      <td>2</td>\n",
       "      <td>@IndosatCare pusing saya min pake indosat... \\...</td>\n",
       "      <td>pusing min pakai .. kuota kesedot</td>\n",
       "      <td>pusing min kuota</td>\n",
       "    </tr>\n",
       "    <tr>\n",
       "      <th>3</th>\n",
       "      <td>3</td>\n",
       "      <td>Sudah min sudah, lagian apa yang mau di clear ...</td>\n",
       "      <td>min clear cache .. dibilang diuninstal diinsta...</td>\n",
       "      <td>min dibilang diuninstal diinstal sebulan min k...</td>\n",
       "    </tr>\n",
       "    <tr>\n",
       "      <th>4</th>\n",
       "      <td>4</td>\n",
       "      <td>@IndosatCare masi juga lelet euy,, apakah bts ...</td>\n",
       "      <td>masi lelet euy bts bermasalah didaerah karna k...</td>\n",
       "      <td>masi didaerah karna kantor</td>\n",
       "    </tr>\n",
       "  </tbody>\n",
       "</table>\n",
       "</div>"
      ],
      "text/plain": [
       "   Unnamed: 0                                              Tweet  \\\n",
       "0           0  Udah ngeh blm min?\\r\\nItu sms 86mb jam 16.06 t...   \n",
       "1           1  Dibaca itu yang kemarin min 86 mb... Pas jam 1...   \n",
       "2           2  @IndosatCare pusing saya min pake indosat... \\...   \n",
       "3           3  Sudah min sudah, lagian apa yang mau di clear ...   \n",
       "4           4  @IndosatCare masi juga lelet euy,, apakah bts ...   \n",
       "\n",
       "                                    TweetClean_NonPT  \\\n",
       "0  sadar min sms 86 mb jam 16.06 tanggal 30.01 ke...   \n",
       "1  dibaca kemarin min 86 mb .. jam 16.06 paketin ...   \n",
       "2                  pusing min pakai .. kuota kesedot   \n",
       "3  min clear cache .. dibilang diuninstal diinsta...   \n",
       "4  masi lelet euy bts bermasalah didaerah karna k...   \n",
       "\n",
       "                                       TweetClean_PT  \n",
       "0  sadar min sms mb jam tanggal kemarin paketin t...  \n",
       "1                  dibaca kemarin min mb jam paketin  \n",
       "2                                   pusing min kuota  \n",
       "3  min dibilang diuninstal diinstal sebulan min k...  \n",
       "4                         masi didaerah karna kantor  "
      ]
     },
     "execution_count": 2,
     "metadata": {},
     "output_type": "execute_result"
    }
   ],
   "source": [
    "tweet = pd.read_csv('C:/WinPython_64bit/notebooks/Kapita Selekta/Scrapping Tweet/TweetClean.csv')\n",
    "tweet.head()"
   ]
  },
  {
   "cell_type": "code",
   "execution_count": 3,
   "metadata": {
    "ExecuteTime": {
     "end_time": "2018-12-20T05:13:37.718968Z",
     "start_time": "2018-12-20T05:13:37.660002Z"
    }
   },
   "outputs": [],
   "source": [
    "listTweet=tweet['TweetClean_PT'].values.astype('U')\n",
    "listTweet = [d for d in listTweet]"
   ]
  },
  {
   "cell_type": "markdown",
   "metadata": {},
   "source": [
    "# MODEL VSM TF"
   ]
  },
  {
   "cell_type": "code",
   "execution_count": 4,
   "metadata": {
    "ExecuteTime": {
     "end_time": "2018-12-20T05:14:09.039321Z",
     "start_time": "2018-12-20T05:13:37.724965Z"
    }
   },
   "outputs": [
    {
     "data": {
      "text/plain": [
       "(4359, 3747)"
      ]
     },
     "execution_count": 4,
     "metadata": {},
     "output_type": "execute_result"
    }
   ],
   "source": [
    "#Pembentukan model svm TF untuk LDA\n",
    "import numpy as np\n",
    "from sklearn.feature_extraction.text import CountVectorizer\n",
    "tf_vectorizer = CountVectorizer()\n",
    "\n",
    "X = tf_vectorizer.fit_transform(listTweet)\n",
    "X_terms = tf_vectorizer.get_feature_names()\n",
    "# Mengapa tf bukan tfidf?\n",
    "# Blei, D. M., Ng, A. Y., & Jordan, M. I. (2003). Latent dirichlet allocation. Journal of machine Learning research, 3(Jan), 993-1022.\n",
    "# Saran: untuk penelitian VS di Industri.\n",
    "X.shape"
   ]
  },
  {
   "cell_type": "code",
   "execution_count": 5,
   "metadata": {
    "ExecuteTime": {
     "end_time": "2018-12-20T05:14:09.136021Z",
     "start_time": "2018-12-20T05:14:09.044321Z"
    }
   },
   "outputs": [
    {
     "name": "stdout",
     "output_type": "stream",
     "text": [
      "(4359, 3747)\n"
     ]
    }
   ],
   "source": [
    "import numpy as np\n",
    "#menghapus tf yang bernilai 0\n",
    "nidx = np.array(range(len(listTweet)))\n",
    "nidx = nidx[X.getnnz(1)>0] # Remove Zero Rows\n",
    "data_bersih = [listTweet[i] for i in nidx]\n",
    "X = X[X.getnnz(1)>0] # Remove Zero Rows\n",
    "X_terms = tf_vectorizer.get_feature_names()\n",
    "print(X.shape)"
   ]
  },
  {
   "cell_type": "markdown",
   "metadata": {},
   "source": [
    "# Percobaan berbagai Model"
   ]
  },
  {
   "cell_type": "markdown",
   "metadata": {},
   "source": [
    "## K-Means ++"
   ]
  },
  {
   "cell_type": "code",
   "execution_count": 6,
   "metadata": {
    "ExecuteTime": {
     "end_time": "2018-12-20T05:16:54.449864Z",
     "start_time": "2018-12-20T05:14:09.140933Z"
    }
   },
   "outputs": [
    {
     "name": "stderr",
     "output_type": "stream",
     "text": [
      "100%|████████████████████████████████████████████████████████████████████████████████████| 7/7 [02:39<00:00, 22.72s/it]\n"
     ]
    }
   ],
   "source": [
    "from sklearn import cluster\n",
    "from tqdm import tqdm\n",
    "\n",
    "seed = 99 #harus ditetapkan untuk mengoptimalkan cost function \n",
    "#atau untuk konvergen lebih cepat aja dalam pengelompokannya, \n",
    "#tidak ada hubungan antara nilai pasti dari seed dan hasil pengelompokan KMeans\n",
    "#seed ini harus ditentukan terlebih dahulu agar tidak menghasilkan pengelompokan yg berbeda setiap dijalankan aja\n",
    "C=[]\n",
    "K=[] \n",
    "kelompok = []\n",
    "for k in tqdm(range(2,9)):\n",
    "    kelompok.append(k)\n",
    "    kmPP = cluster.KMeans(n_clusters=k, init='k-means++', max_iter=300, tol=0.0001, n_jobs=-1, random_state = seed)\n",
    "    K.append(kmPP.fit(X))\n",
    "    C.append(kmPP.predict(X))"
   ]
  },
  {
   "cell_type": "code",
   "execution_count": 7,
   "metadata": {
    "ExecuteTime": {
     "end_time": "2018-12-20T05:17:10.447233Z",
     "start_time": "2018-12-20T05:16:54.455478Z"
    }
   },
   "outputs": [
    {
     "name": "stdout",
     "output_type": "stream",
     "text": [
      "K=2 ,nilai siluet 0.09437994744243708 \n",
      "K=3 ,nilai siluet 0.04885243809696042 \n",
      "K=4 ,nilai siluet 0.043854332683526155 \n",
      "K=5 ,nilai siluet 0.04755323697187677 \n",
      "K=6 ,nilai siluet 0.03905870017001625 \n",
      "K=7 ,nilai siluet 0.035785138856716046 \n",
      "K=8 ,nilai siluet 0.03689263101676078 \n",
      "dengan score terbesar 0.09437994744243708\n"
     ]
    }
   ],
   "source": [
    "#Evaluasi : Internal . Contoh Silouette Coefficient ==> warning hanya cocok untuk k-means/menggunakan centroid\n",
    "from sklearn.metrics import silhouette_score as siluet\n",
    "\n",
    "ScoreSiluet=[]\n",
    "i=int(kelompok[0])\n",
    "for res in C:\n",
    "    ScoreSiluet.append(siluet(X,res))\n",
    "    print(\"K={} ,nilai siluet {} \".format(i, siluet(X,res)))\n",
    "    i=i+1\n",
    "print(\"dengan score terbesar {}\".format(max(ScoreSiluet)))    "
   ]
  },
  {
   "cell_type": "code",
   "execution_count": null,
   "metadata": {
    "ExecuteTime": {
     "start_time": "2018-12-21T00:57:37.238Z"
    }
   },
   "outputs": [],
   "source": [
    "#dengan 9 Kluster yang menurut Evaluasi secara internal terbaik \n",
    "import seaborn as sns\n",
    "import matplotlib.pyplot as plt\n",
    "\n",
    "for i in C:\n",
    "    sns.countplot(i)\n",
    "    plt.show()"
   ]
  },
  {
   "cell_type": "markdown",
   "metadata": {},
   "source": [
    "## Mini Batch K-Means++"
   ]
  },
  {
   "cell_type": "code",
   "execution_count": 9,
   "metadata": {
    "ExecuteTime": {
     "end_time": "2018-12-20T05:17:27.200353Z",
     "start_time": "2018-12-20T05:17:23.076004Z"
    }
   },
   "outputs": [
    {
     "name": "stderr",
     "output_type": "stream",
     "text": [
      "100%|████████████████████████████████████████████████████████████████████████████████████| 7/7 [00:03<00:00,  1.75it/s]\n"
     ]
    }
   ],
   "source": [
    "from sklearn import cluster\n",
    "from tqdm import tqdm\n",
    "\n",
    "# MiniBatch k-Means \n",
    "# http://scikit-learn.org/stable/modules/generated/sklearn.cluster.MiniBatchKMeans.html\n",
    "# minibatch \"tidak bisa parallel\"!!!...\n",
    "# parameter penting km = batch_size ... pada aplikasi sesungguhnya disarankan \"minimal\" 3xk\n",
    "\n",
    "seed = 99 #harus ditetapkan untuk mengoptimalkan cost function \n",
    "#atau untuk konvergen lebih cepat aja dalam pengelompokannya, \n",
    "#tidak ada hubungan antara nilai pasti dari seed dan hasil pengelompokan KMeans\n",
    "#seed ini harus ditentukan terlebih dahulu agar tidak menghasilkan pengelompokan yg berbeda setiap dijalankan aja\n",
    "Cmb=[]\n",
    "Kmb=[] \n",
    "kelompokMb = []\n",
    "for k in tqdm(range(2,9)):\n",
    "    kelompokMb.append(k)\n",
    "    MiniBatchKM = cluster.MiniBatchKMeans(n_clusters=k, init='k-means++', max_iter=300,batch_size=10 , tol=0.0001, random_state = seed) \n",
    "    Kmb.append(MiniBatchKM.fit(X))\n",
    "    Cmb.append(MiniBatchKM.predict(X))"
   ]
  },
  {
   "cell_type": "code",
   "execution_count": 10,
   "metadata": {
    "ExecuteTime": {
     "end_time": "2018-12-20T05:17:46.487575Z",
     "start_time": "2018-12-20T05:17:27.205299Z"
    }
   },
   "outputs": [
    {
     "name": "stdout",
     "output_type": "stream",
     "text": [
      "K=2 ,nilai siluet 0.11145188520797432 \n",
      "K=3 ,nilai siluet 0.09586138181378055 \n",
      "K=4 ,nilai siluet 0.05065799006707683 \n",
      "K=5 ,nilai siluet 0.08491937965692936 \n",
      "K=6 ,nilai siluet -0.08900710298680253 \n",
      "K=7 ,nilai siluet 0.035560909848090724 \n",
      "K=8 ,nilai siluet 0.1019624038081332 \n",
      "dengan score terbesar 0.11145188520797432\n"
     ]
    }
   ],
   "source": [
    "#Evaluasi : Internal . Contoh Silouette Coefficient ==> warning hanya cocok untuk k-means/menggunakan centroid\n",
    "from sklearn.metrics import silhouette_score as siluet\n",
    "\n",
    "ScoreSiluet=[]\n",
    "i=int(kelompok[0])\n",
    "for res in Cmb:\n",
    "    ScoreSiluet.append(siluet(X,res))\n",
    "    print(\"K={} ,nilai siluet {} \".format(i, siluet(X,res)))\n",
    "    i=i+1\n",
    "print(\"dengan score terbesar {}\".format(max(ScoreSiluet)))   "
   ]
  },
  {
   "cell_type": "code",
   "execution_count": 11,
   "metadata": {
    "ExecuteTime": {
     "end_time": "2018-12-20T05:17:48.632402Z",
     "start_time": "2018-12-20T05:17:46.492573Z"
    },
    "scrolled": false
   },
   "outputs": [
    {
     "data": {
      "image/png": "[encoded data removed]",
      "text/plain": [
       "<Figure size 432x288 with 1 Axes>"
      ]
     },
     "metadata": {},
     "output_type": "display_data"
    },
    {
     "data": {
      "image/png": "[encoded data removed]",
      "text/plain": [
       "<Figure size 432x288 with 1 Axes>"
      ]
     },
     "metadata": {},
     "output_type": "display_data"
    },
    {
     "data": {
      "image/png": "[encoded data removed]",
      "text/plain": [
       "<Figure size 432x288 with 1 Axes>"
      ]
     },
     "metadata": {},
     "output_type": "display_data"
    },
    {
     "data": {
      "image/png": "[encoded data removed]",
      "text/plain": [
       "<Figure size 432x288 with 1 Axes>"
      ]
     },
     "metadata": {},
     "output_type": "display_data"
    },
    {
     "data": {
      "image/png": "[encoded data removed]",
      "text/plain": [
       "<Figure size 432x288 with 1 Axes>"
      ]
     },
     "metadata": {},
     "output_type": "display_data"
    },
    {
     "data": {
      "image/png": "[encoded data removed]",
      "text/plain": [
       "<Figure size 432x288 with 1 Axes>"
      ]
     },
     "metadata": {},
     "output_type": "display_data"
    },
    {
     "data": {
      "image/png": "[encoded data removed]",
      "text/plain": [
       "<Figure size 432x288 with 1 Axes>"
      ]
     },
     "metadata": {},
     "output_type": "display_data"
    }
   ],
   "source": [
    "import seaborn as sns\n",
    "import matplotlib.pyplot as plt\n",
    "\n",
    "for i in Cmb:\n",
    "    sns.countplot(i)\n",
    "    plt.show()"
   ]
  },
  {
   "cell_type": "markdown",
   "metadata": {},
   "source": [
    "## DBSCAN Clustering"
   ]
  },
  {
   "cell_type": "code",
   "execution_count": 12,
   "metadata": {
    "ExecuteTime": {
     "end_time": "2018-12-20T05:17:49.821083Z",
     "start_time": "2018-12-20T05:17:48.662401Z"
    }
   },
   "outputs": [],
   "source": [
    "from sklearn import cluster\n",
    "\n",
    "DBScan = cluster.DBSCAN(eps=1)\n",
    "DBScan.fit(X)\n",
    "C_DB = DBScan.labels_.astype(np.int)"
   ]
  },
  {
   "cell_type": "code",
   "execution_count": 13,
   "metadata": {
    "ExecuteTime": {
     "end_time": "2018-12-20T05:17:51.108307Z",
     "start_time": "2018-12-20T05:17:49.826084Z"
    }
   },
   "outputs": [
    {
     "data": {
      "text/plain": [
       "-0.19002004734996486"
      ]
     },
     "execution_count": 13,
     "metadata": {},
     "output_type": "execute_result"
    }
   ],
   "source": [
    "siluet(X,C_DB)"
   ]
  },
  {
   "cell_type": "code",
   "execution_count": 14,
   "metadata": {
    "ExecuteTime": {
     "end_time": "2018-12-20T05:17:51.454831Z",
     "start_time": "2018-12-20T05:17:51.113304Z"
    }
   },
   "outputs": [
    {
     "data": {
      "image/png": "[encoded data removed]",
      "text/plain": [
       "<Figure size 432x288 with 1 Axes>"
      ]
     },
     "metadata": {},
     "output_type": "display_data"
    }
   ],
   "source": [
    "import seaborn as sns\n",
    "import matplotlib.pyplot as plt\n",
    "\n",
    "sns.countplot(C_DB)\n",
    "plt.show()"
   ]
  },
  {
   "cell_type": "markdown",
   "metadata": {},
   "source": [
    "## LDA Clustering"
   ]
  },
  {
   "cell_type": "code",
   "execution_count": 15,
   "metadata": {
    "ExecuteTime": {
     "end_time": "2018-12-20T05:21:43.818504Z",
     "start_time": "2018-12-20T05:17:51.478047Z"
    }
   },
   "outputs": [
    {
     "name": "stderr",
     "output_type": "stream",
     "text": [
      "100%|████████████████████████████████████████████████████████████████████████████████████| 7/7 [03:50<00:00, 32.95s/it]\n"
     ]
    }
   ],
   "source": [
    "from sklearn.decomposition import LatentDirichletAllocation as LDA\n",
    "\n",
    "lda=[]\n",
    "for n_topics in tqdm(range(2,9)):\n",
    "    model=LDA(n_components=n_topics, learning_method='batch', random_state=0).fit(X)\n",
    "    lda.append(model)"
   ]
  },
  {
   "cell_type": "code",
   "execution_count": 16,
   "metadata": {
    "ExecuteTime": {
     "end_time": "2018-12-20T05:21:55.798345Z",
     "start_time": "2018-12-20T05:21:43.824762Z"
    }
   },
   "outputs": [
    {
     "name": "stderr",
     "output_type": "stream",
     "text": [
      "100%|████████████████████████████████████████████████████████████████████████████████████| 7/7 [00:11<00:00,  1.70s/it]\n"
     ]
    }
   ],
   "source": [
    "vsm_topics=[]\n",
    "for i in tqdm(lda):\n",
    "    vsm_topics.append(i.transform(X))\n",
    "    #ini matriks topik terhadap masing-masing kata "
   ]
  },
  {
   "cell_type": "code",
   "execution_count": 17,
   "metadata": {
    "ExecuteTime": {
     "end_time": "2018-12-20T05:21:55.972808Z",
     "start_time": "2018-12-20T05:21:55.813345Z"
    }
   },
   "outputs": [
    {
     "name": "stderr",
     "output_type": "stream",
     "text": [
      "100%|████████████████████████████████████████████████████████████████████████████████████| 7/7 [00:00<00:00, 60.82it/s]\n"
     ]
    }
   ],
   "source": [
    "doc_topic=[]\n",
    "for i in tqdm(range(len(vsm_topics))):\n",
    "    doc_topic.append([a.argmax()+1 for a in vsm_topics[i]]) # topic of docs"
   ]
  },
  {
   "cell_type": "code",
   "execution_count": 18,
   "metadata": {
    "ExecuteTime": {
     "end_time": "2018-12-20T05:21:58.462165Z",
     "start_time": "2018-12-20T05:21:55.977811Z"
    },
    "scrolled": false
   },
   "outputs": [
    {
     "data": {
      "image/png": "[encoded data removed]",
      "text/plain": [
       "<Figure size 432x288 with 1 Axes>"
      ]
     },
     "metadata": {},
     "output_type": "display_data"
    },
    {
     "data": {
      "image/png": "[encoded data removed]",
      "text/plain": [
       "<Figure size 432x288 with 1 Axes>"
      ]
     },
     "metadata": {},
     "output_type": "display_data"
    },
    {
     "data": {
      "image/png": "[encoded data removed]",
      "text/plain": [
       "<Figure size 432x288 with 1 Axes>"
      ]
     },
     "metadata": {},
     "output_type": "display_data"
    },
    {
     "data": {
      "image/png": "[encoded data removed]",
      "text/plain": [
       "<Figure size 432x288 with 1 Axes>"
      ]
     },
     "metadata": {},
     "output_type": "display_data"
    },
    {
     "data": {
      "image/png": "[encoded data removed]",
      "text/plain": [
       "<Figure size 432x288 with 1 Axes>"
      ]
     },
     "metadata": {},
     "output_type": "display_data"
    },
    {
     "data": {
      "image/png": "[encoded data removed]",
      "text/plain": [
       "<Figure size 432x288 with 1 Axes>"
      ]
     },
     "metadata": {},
     "output_type": "display_data"
    },
    {
     "data": {
      "image/png": "[encoded data removed]",
      "text/plain": [
       "<Figure size 432x288 with 1 Axes>"
      ]
     },
     "metadata": {},
     "output_type": "display_data"
    }
   ],
   "source": [
    "import matplotlib.pyplot as plt\n",
    "import seaborn as sns\n",
    "for i in doc_topic:\n",
    "    sns.countplot(i)\n",
    "    plt.show() "
   ]
  },
  {
   "cell_type": "code",
   "execution_count": 19,
   "metadata": {
    "ExecuteTime": {
     "end_time": "2018-12-20T05:21:58.482166Z",
     "start_time": "2018-12-20T05:21:58.467166Z"
    }
   },
   "outputs": [],
   "source": [
    "def print_Topics(model, feature_names, Top_Topics, n_top_words):\n",
    "    for topic_idx, topic in enumerate(model.components_[:Top_Topics]):\n",
    "        print(\"Topic #%d:\" %(topic_idx+1))\n",
    "        print(\" \".join([feature_names[i]\n",
    "                        for i in topic.argsort()[:-n_top_words - 1:-1]]))"
   ]
  },
  {
   "cell_type": "code",
   "execution_count": 34,
   "metadata": {
    "ExecuteTime": {
     "end_time": "2018-12-20T13:24:03.120512Z",
     "start_time": "2018-12-20T13:24:03.090533Z"
    }
   },
   "outputs": [
    {
     "name": "stdout",
     "output_type": "stream",
     "text": [
      "Printing top 2 Topics, with top 15 Words:\n",
      "Topic #1:\n",
      "min sinyal ya dm nomor pulsa kali banget nan jaring nya dokter kartu internet layan\n",
      "Topic #2:\n",
      "pulsa paket kuota ya sms min internet data langgan cek kah jam daftar rb isi\n"
     ]
    }
   ],
   "source": [
    "# Mari kita coba maknai masing-masing topic ini\n",
    "Top_Words=15 #ini mau memunculkan berapa banyak kata, untuk memudahkan pendefinisian kelompok\n",
    "Ntopic=2\n",
    "print('Printing top {0} Topics, with top {1} Words:'.format(Ntopic, Top_Words))\n",
    "print_Topics(lda[Ntopic-2], X_terms,Ntopic, Top_Words)"
   ]
  },
  {
   "cell_type": "code",
   "execution_count": 32,
   "metadata": {
    "ExecuteTime": {
     "end_time": "2018-12-20T13:21:38.629678Z",
     "start_time": "2018-12-20T13:21:22.186031Z"
    }
   },
   "outputs": [
    {
     "data": {
      "text/html": [
       "\n",
       "<link rel=\"stylesheet\" type=\"text/css\" href=\"https://cdn.rawgit.com/bmabey/pyLDAvis/files/ldavis.v1.0.0.css\">\n",
       "\n",
       "\n",
       "<div id=\"ldavis_el454830806867345767141441521\"></div>\n",
       "<script type=\"text/javascript\">\n",
       "\n",
       "var ldavis_el454830806867345767141441521_data = {\"mdsDat\": {\"Freq\": [20.768083257494034, 19.77837112275285, 17.02151539126949, 16.825935863934554, 13.298093030576391, 12.308001333972685], \"cluster\": [1, 1, 1, 1, 1, 1], \"topics\": [1, 2, 3, 4, 5, 6], \"x\": [0.11233535556958239, 0.15888355204668583, -0.044234393217217484, 0.047785457862991446, -0.1497986953533639, -0.12497127690867885], \"y\": [-0.052745051528212274, 0.01684070169415214, 0.08713640037131454, 0.01942888452565437, 0.10694450652307513, -0.17760544158598385]}, \"tinfo\": {\"Category\": [\"Default\", \"Default\", \"Default\", \"Default\", \"Default\", \"Default\", \"Default\", \"Default\", \"Default\", \"Default\", \"Default\", \"Default\", \"Default\", \"Default\", \"Default\", \"Default\", \"Default\", \"Default\", \"Default\", \"Default\", \"Default\", \"Default\", \"Default\", \"Default\", \"Default\", \"Default\", \"Default\", \"Default\", \"Default\", \"Default\", \"Topic1\", \"Topic1\", \"Topic1\", \"Topic1\", \"Topic1\", \"Topic1\", \"Topic1\", \"Topic1\", \"Topic1\", \"Topic1\", \"Topic1\", \"Topic1\", \"Topic1\", \"Topic1\", \"Topic1\", \"Topic1\", \"Topic1\", \"Topic1\", \"Topic1\", \"Topic1\", \"Topic1\", \"Topic1\", \"Topic1\", \"Topic1\", \"Topic1\", \"Topic1\", \"Topic1\", \"Topic1\", \"Topic1\", \"Topic1\", \"Topic1\", \"Topic1\", \"Topic1\", \"Topic1\", \"Topic1\", \"Topic1\", \"Topic1\", \"Topic1\", \"Topic1\", \"Topic1\", \"Topic1\", \"Topic1\", \"Topic1\", \"Topic1\", \"Topic1\", \"Topic1\", \"Topic1\", \"Topic1\", \"Topic1\", \"Topic1\", \"Topic1\", \"Topic1\", \"Topic1\", \"Topic1\", \"Topic1\", \"Topic1\", \"Topic1\", \"Topic1\", \"Topic1\", \"Topic1\", \"Topic1\", \"Topic1\", \"Topic1\", \"Topic1\", \"Topic2\", \"Topic2\", \"Topic2\", \"Topic2\", \"Topic2\", \"Topic2\", \"Topic2\", \"Topic2\", \"Topic2\", \"Topic2\", \"Topic2\", \"Topic2\", \"Topic2\", \"Topic2\", \"Topic2\", \"Topic2\", \"Topic2\", \"Topic2\", \"Topic2\", \"Topic2\", \"Topic2\", \"Topic2\", \"Topic2\", \"Topic2\", \"Topic2\", \"Topic2\", \"Topic2\", \"Topic2\", \"Topic2\", \"Topic2\", \"Topic2\", \"Topic2\", \"Topic2\", \"Topic2\", \"Topic2\", \"Topic2\", \"Topic2\", \"Topic2\", \"Topic2\", \"Topic2\", \"Topic2\", \"Topic2\", \"Topic2\", \"Topic2\", \"Topic2\", \"Topic2\", \"Topic2\", \"Topic2\", \"Topic2\", \"Topic2\", \"Topic2\", \"Topic2\", \"Topic2\", \"Topic2\", \"Topic2\", \"Topic2\", \"Topic2\", \"Topic2\", \"Topic2\", \"Topic2\", \"Topic2\", \"Topic2\", \"Topic2\", \"Topic3\", \"Topic3\", \"Topic3\", \"Topic3\", \"Topic3\", \"Topic3\", \"Topic3\", \"Topic3\", \"Topic3\", \"Topic3\", \"Topic3\", \"Topic3\", \"Topic3\", \"Topic3\", \"Topic3\", \"Topic3\", \"Topic3\", \"Topic3\", \"Topic3\", \"Topic3\", \"Topic3\", \"Topic3\", \"Topic3\", \"Topic3\", \"Topic3\", \"Topic3\", \"Topic3\", \"Topic3\", \"Topic3\", \"Topic3\", \"Topic3\", \"Topic3\", \"Topic3\", \"Topic3\", \"Topic3\", \"Topic3\", \"Topic3\", \"Topic3\", \"Topic3\", \"Topic3\", \"Topic3\", \"Topic3\", \"Topic3\", \"Topic3\", \"Topic3\", \"Topic3\", \"Topic3\", \"Topic3\", \"Topic3\", \"Topic3\", \"Topic3\", \"Topic3\", \"Topic3\", \"Topic3\", \"Topic3\", \"Topic3\", \"Topic3\", \"Topic3\", \"Topic3\", \"Topic3\", \"Topic3\", \"Topic3\", \"Topic3\", \"Topic3\", \"Topic3\", \"Topic3\", \"Topic3\", \"Topic3\", \"Topic3\", \"Topic3\", \"Topic3\", \"Topic3\", \"Topic4\", \"Topic4\", \"Topic4\", \"Topic4\", \"Topic4\", \"Topic4\", \"Topic4\", \"Topic4\", \"Topic4\", \"Topic4\", \"Topic4\", \"Topic4\", \"Topic4\", \"Topic4\", \"Topic4\", \"Topic4\", \"Topic4\", \"Topic4\", \"Topic4\", \"Topic4\", \"Topic4\", \"Topic4\", \"Topic4\", \"Topic4\", \"Topic4\", \"Topic4\", \"Topic4\", \"Topic4\", \"Topic4\", \"Topic4\", \"Topic4\", \"Topic4\", \"Topic4\", \"Topic4\", \"Topic4\", \"Topic4\", \"Topic4\", \"Topic4\", \"Topic4\", \"Topic4\", \"Topic4\", \"Topic4\", \"Topic4\", \"Topic4\", \"Topic4\", \"Topic4\", \"Topic4\", \"Topic4\", \"Topic4\", \"Topic4\", \"Topic4\", \"Topic4\", \"Topic4\", \"Topic4\", \"Topic4\", \"Topic4\", \"Topic4\", \"Topic4\", \"Topic4\", \"Topic4\", \"Topic4\", \"Topic4\", \"Topic4\", \"Topic4\", \"Topic4\", \"Topic5\", \"Topic5\", \"Topic5\", \"Topic5\", \"Topic5\", \"Topic5\", \"Topic5\", \"Topic5\", \"Topic5\", \"Topic5\", \"Topic5\", \"Topic5\", \"Topic5\", \"Topic5\", \"Topic5\", \"Topic5\", \"Topic5\", \"Topic5\", \"Topic5\", \"Topic5\", \"Topic5\", \"Topic5\", \"Topic5\", \"Topic5\", \"Topic5\", \"Topic5\", \"Topic5\", \"Topic5\", \"Topic5\", \"Topic5\", \"Topic5\", \"Topic5\", \"Topic5\", \"Topic5\", \"Topic5\", \"Topic5\", \"Topic5\", \"Topic5\", \"Topic5\", \"Topic5\", \"Topic5\", \"Topic5\", \"Topic5\", \"Topic5\", \"Topic5\", \"Topic5\", \"Topic5\", \"Topic5\", \"Topic5\", \"Topic5\", \"Topic5\", \"Topic5\", \"Topic5\", \"Topic5\", \"Topic5\", \"Topic5\", \"Topic5\", \"Topic5\", \"Topic5\", \"Topic5\", \"Topic5\", \"Topic5\", \"Topic5\", \"Topic5\", \"Topic5\", \"Topic5\", \"Topic5\", \"Topic5\", \"Topic5\", \"Topic5\", \"Topic6\", \"Topic6\", \"Topic6\", \"Topic6\", \"Topic6\", \"Topic6\", \"Topic6\", \"Topic6\", \"Topic6\", \"Topic6\", \"Topic6\", \"Topic6\", \"Topic6\", \"Topic6\", \"Topic6\", \"Topic6\", \"Topic6\", \"Topic6\", \"Topic6\", \"Topic6\", \"Topic6\", \"Topic6\", \"Topic6\", \"Topic6\", \"Topic6\", \"Topic6\", \"Topic6\", \"Topic6\", \"Topic6\", \"Topic6\", \"Topic6\", \"Topic6\", \"Topic6\", \"Topic6\", \"Topic6\", \"Topic6\", \"Topic6\", \"Topic6\", \"Topic6\", \"Topic6\", \"Topic6\", \"Topic6\", \"Topic6\", \"Topic6\", \"Topic6\", \"Topic6\", \"Topic6\", \"Topic6\", \"Topic6\", \"Topic6\", \"Topic6\", \"Topic6\", \"Topic6\", \"Topic6\", \"Topic6\", \"Topic6\", \"Topic6\", \"Topic6\", \"Topic6\", \"Topic6\", \"Topic6\", \"Topic6\", \"Topic6\", \"Topic6\"], \"Freq\": [588.0, 306.0, 349.0, 1609.0, 524.0, 362.0, 148.0, 139.0, 313.0, 701.0, 179.0, 135.0, 218.0, 216.0, 214.0, 86.0, 297.0, 774.0, 412.0, 140.0, 211.0, 189.0, 106.0, 70.0, 170.0, 94.0, 143.0, 275.0, 71.0, 50.0, 34.445233235172616, 19.10661650878499, 13.689322063975421, 13.68593234716476, 11.884694852730403, 10.077863186799009, 9.17678425243608, 16.252986107949532, 6.468795210139497, 6.468522327611001, 29.75052600573003, 5.566579004871793, 5.526189480169075, 11.81708749768543, 32.85684671075303, 4.663242779808848, 4.656673447636677, 59.85128688712112, 20.51969425394364, 11.40072992582598, 14.288400991423249, 3.7604181672336883, 3.760446025176903, 3.760334242611963, 3.760243931884061, 3.754766987707189, 4.385123966979473, 2.858612342480907, 2.8586115550715605, 2.8586006645735735, 26.81230311229573, 55.92778222495408, 33.40310799020658, 147.67305710347546, 836.8869524646926, 13.552207974848045, 32.83348373867131, 109.14854317044072, 9.178908020369656, 85.40026194043789, 25.88493848109731, 46.14152325353936, 26.125853231289547, 113.67853884919286, 213.35103181061586, 17.945708677224697, 55.45417300669006, 90.94281247082132, 118.93697656151946, 74.23304629606893, 27.803616728033816, 69.4227636051638, 36.737084798002975, 36.057781251123934, 25.918484323734848, 45.92923045779698, 41.91790001741611, 63.41597069488533, 52.59426742560828, 54.89734412066799, 46.88556487207791, 35.69062254690768, 33.72625943017781, 34.08593757191598, 134.82256231025696, 86.06734045789878, 32.70822098963903, 16.42943120713089, 11.906510090081309, 10.095368443300725, 19.919753591530412, 7.384982430748638, 50.25692612860068, 5.57622254662937, 5.570733017519867, 4.672497441943578, 4.671623193274569, 4.669021095012941, 40.31030092762468, 9.01904408051636, 3.7682536681616874, 18.095387107867936, 3.765996811315244, 3.7453242455089946, 3.701640434887892, 3.676678466020989, 479.75663201545774, 2.8639392040880542, 2.8639390211293, 2.8637729918469446, 2.86335160269293, 2.862808179258168, 2.862726416105376, 2.861743948385509, 20.64450367469421, 9.984048751151413, 66.88759353266283, 355.9322281455884, 5.577739376480869, 23.668029702180014, 7.316508165302077, 50.98117019825854, 76.51904726503324, 191.2905918327792, 7.279628230881438, 23.383409978106467, 122.90110603314942, 98.46562069437577, 29.114799538203773, 33.84447021851801, 16.586635117233392, 68.91535504536424, 45.634822947966214, 64.23043919243135, 23.529492473631006, 222.35012526899976, 128.80450307884314, 59.56958876172666, 41.21361588567059, 44.91086816822589, 47.03265841002881, 78.04487057192843, 47.52508795234516, 49.97636774419316, 39.043817059802485, 36.8897494929226, 34.656028606612914, 13.888823935931338, 46.13510843311062, 6.1573205562094095, 6.156923001930887, 6.092654466635461, 4.438100685282376, 4.438014285989326, 4.437709219377267, 4.437409055860897, 4.434011073826245, 13.157256322705317, 3.5798929238960286, 3.579397450880791, 3.578844664564887, 3.5787662965691287, 3.5395705468752454, 3.498307032513278, 60.09705224073742, 2.7207179921468825, 2.7207172780889386, 2.720716057968471, 2.72063620849763, 2.720558969163953, 2.720376124932368, 2.7202615612978636, 2.7197566244340785, 2.719677511892424, 2.7193461238084065, 2.718343527688163, 2.7173706584159616, 140.17166243285413, 54.76151776550029, 6.011272354467807, 11.045178375668183, 5.297910683589863, 13.310941400215523, 5.299445840877114, 53.55032921307905, 5.886621729745365, 17.71040818403636, 19.213779453122736, 6.986357562131852, 82.32890554917147, 107.18478432580119, 308.90849703721676, 25.789558665922986, 82.58649406480801, 33.80890521145404, 32.27141911343619, 55.708847272820044, 22.925787247463447, 28.826997152239205, 24.790160571091445, 51.46117937382536, 94.22259137875741, 78.90175655725007, 95.09334561652175, 23.736854819087004, 25.420314131968365, 16.676510199966383, 20.57533323591683, 56.149547372056226, 29.941587704551495, 27.201803569061653, 76.12112776312748, 53.352854948513695, 47.33675415264333, 87.39566218930065, 38.32786983586133, 37.299902365163604, 32.66985451861348, 28.136504969638622, 147.2712020109713, 138.54442557483952, 27.99466133286061, 10.345953231981568, 8.643220942930336, 7.632510353090691, 62.40815640987247, 5.242489621347556, 55.24659930605657, 4.393408733601546, 4.393308746056723, 4.393020740454387, 4.392942464902658, 4.3921858114009, 4.391509581542056, 16.528419232753187, 3.543578503924965, 3.54313633234036, 3.5426641087635855, 3.5424314424307273, 3.5409167044253516, 3.5283370195889656, 6.095356778834826, 2.693120579620474, 2.693120387007392, 2.693120387007392, 2.6931178952866985, 2.6929550147230517, 2.6927571590593304, 2.6925520350626333, 5.9910151804759035, 5.8933602858712755, 236.48229026785663, 141.061631990663, 9.495581433389276, 5.244309802514645, 23.286948540375736, 11.852129693378224, 10.351051042926047, 29.09233586394619, 8.49466684151707, 30.783974075509867, 33.3377786326426, 313.0355047151887, 152.69456973570848, 23.26980956281381, 36.295382721722575, 34.249253594086134, 122.61475696784395, 11.590917599236883, 51.555633064596215, 17.369778772709402, 70.99263530950574, 47.28905906257488, 26.46365995425396, 44.47003101095105, 44.98423961428889, 21.832272685889766, 40.675409867677224, 29.769434186791678, 46.12290612617561, 28.556827349609293, 27.33079978439544, 28.694355160979363, 26.33536710832165, 29.219842436229666, 28.594688549508803, 11.599524596709385, 9.836719819610387, 9.835403441918002, 7.19443357367453, 7.194162803984031, 7.152893649022871, 9.473072398099205, 6.31302554272783, 45.128153928310944, 13.188210692373348, 5.432166163062662, 4.43126563468308, 3.6709268966230124, 3.6700167296422257, 3.66943245176452, 3.6694325452541823, 4.367441089271976, 4.357159685795975, 4.357159685795975, 7.081800439558092, 10.632908806237973, 2.7898929931868572, 2.789843380127417, 2.7897808470017935, 2.7896453253694595, 2.7895590523121347, 2.789467159436677, 2.7892676335767215, 13.849459876933084, 4.872455839427905, 8.957724065281816, 6.22609106663438, 6.885043355946738, 6.73337534565154, 222.14804330069558, 60.69939985496581, 31.116215929512194, 7.884521168850726, 102.66828886305314, 54.936272437996784, 43.511765389178436, 16.510061440276672, 12.79273370201442, 21.561965522682044, 33.27820822108556, 17.33085808425871, 20.866077542591757, 11.505394936016248, 63.36488835342411, 15.980146639256766, 47.84762285927883, 37.53927736473578, 60.06060512778692, 22.959031062426423, 74.8498177451087, 18.21690374767333, 14.861482939846766, 27.565221138360226, 14.653185096716767, 14.773645699399228, 25.878479206371328, 45.9918322972183, 18.539738355343687, 29.682048574907807, 16.333708868175634, 22.176202527487327, 19.381309522981972, 17.55806954054069, 35.343236528815204, 27.410512702597714, 20.384047742471157, 13.34195950848953, 10.704104596933673, 17.987080846691228, 8.944160214588411, 8.065530337389971, 6.3046754993106005, 6.304449191065492, 5.426316895105928, 4.544317293540425, 4.54223521529749, 6.687312033708287, 8.891152726800453, 3.666284476391354, 3.6660675198624446, 3.664679152638778, 3.664504487650347, 3.6611821096311843, 10.707669135792084, 3.5292401622334686, 4.948338950190786, 2.7864462321772137, 2.7863023176742403, 2.78622167391339, 2.7862029545970146, 2.786141124769114, 2.7861356655078517, 2.785711824937975, 228.01480038421565, 8.705458822449968, 12.570661927438776, 5.427466606540544, 5.428586727548699, 10.699951389677096, 172.52332946065917, 13.144813738644427, 56.01628096000799, 19.55160168103453, 11.58752698470613, 17.41720986198442, 10.939868297290793, 179.74283815353758, 37.1672812098782, 24.262478344255165, 81.87246267128117, 51.51852092643526, 28.54614407654233, 16.819408432641264, 50.26143678956652, 55.110914360669376, 75.26041341311476, 103.8990057690945, 30.359996978392864, 28.654950989429707, 13.432795182349057, 16.151222895708717, 18.869488267711734, 15.936118000469946, 17.903582781544074, 14.319755846772749, 14.433541545110034, 13.877085835711137], \"Term\": [\"paket\", \"dm\", \"sinyal\", \"pulsa\", \"kuota\", \"sms\", \"nan\", \"registrasi\", \"langgan\", \"ya\", \"kak\", \"gb\", \"isi\", \"nomor\", \"banget\", \"freedom\", \"data\", \"min\", \"internet\", \"pagi\", \"rb\", \"jaring\", \"dokter\", \"gara\", \"layan\", \"ilang\", \"sisa\", \"kali\", \"selamat\", \"minggu\", \"sedot\", \"wib\", \"off\", \"hangus\", \"diisi\", \"nyoba\", \"males\", \"inet\", \"dipaketin\", \"lupa\", \"paketin\", \"pemberitahun\", \"nelfon\", \"bangsat\", \"yah\", \"hati\", \"urus\", \"kesedot\", \"kemana\", \"posisi\", \"buang\", \"hub\", \"tahap\", \"maksud\", \"mbanking\", \"tugas\", \"disedot\", \"hti\", \"ajaib\", \"berhijrah\", \"teman\", \"mb\", \"rp\", \"isi\", \"pulsa\", \"plsa\", \"barusan\", \"rb\", \"lenyap\", \"kartu\", \"kemaren\", \"operator\", \"hp\", \"data\", \"min\", \"uang\", \"sisa\", \"kah\", \"kuota\", \"kali\", \"habis\", \"cek\", \"paketan\", \"no\", \"unreg\", \"nya\", \"banget\", \"ya\", \"internet\", \"paket\", \"sms\", \"daftar\", \"jam\", \"langgan\", \"gb\", \"freedom\", \"combo\", \"xxl\", \"rollover\", \"haloo\", \"fup\", \"kuotanya\", \"perpanjang\", \"akumulasi\", \"jelas\", \"komen\", \"kenapaa\", \"rebu\", \"solusi\", \"restart\", \"retail\", \"youtube\", \"haram\", \"perbulan\", \"super\", \"twit\", \"paket\", \"indosatpro\", \"rokok\", \"sinyl\", \"mention\", \"dagang\", \"akal\", \"anggota\", \"quota\", \"informasi\", \"aplikasi\", \"kuota\", \"dikonfirmasi\", \"batas\", \"rupa\", \"halo\", \"sisa\", \"internet\", \"kbps\", \"loh\", \"data\", \"cek\", \"tarif\", \"koneksi\", \"aktifin\", \"isi\", \"malam\", \"daftar\", \"konfirmasi\", \"pulsa\", \"ya\", \"jam\", \"pagi\", \"kemarin\", \"rb\", \"min\", \"nya\", \"kah\", \"kak\", \"jaring\", \"langgan\", \"salam\", \"bantu\", \"bla\", \"ragu\", \"lucu\", \"blom\", \"karangdowo\", \"muter\", \"ngabisin\", \"november\", \"klaten\", \"nite\", \"berat\", \"pencet\", \"tito\", \"survei\", \"malang\", \"jelek\", \"lawan\", \"peras\", \"tq\", \"card\", \"roaming\", \"maks\", \"indoshit\", \"fisik\", \"pasar\", \"diluar\", \"pict\", \"ditanggapi\", \"kak\", \"selamat\", \"internetnya\", \"foto\", \"rampok\", \"diperpanjang\", \"antri\", \"daerah\", \"reset\", \"atur\", \"ka\", \"bogor\", \"pagi\", \"jaring\", \"ya\", \"kualitas\", \"layan\", \"henti\", \"internetan\", \"mohon\", \"error\", \"admin\", \"sore\", \"malam\", \"kali\", \"jam\", \"sinyal\", \"konfirmasi\", \"maaf\", \"kirim\", \"iya\", \"daftar\", \"siang\", \"nomer\", \"min\", \"sms\", \"langgan\", \"pulsa\", \"banget\", \"internet\", \"dm\", \"cek\", \"nan\", \"registrasi\", \"premium\", \"verifikasi\", \"woi\", \"gagal\", \"gara\", \"format\", \"dapet\", \"regristrasi\", \"okt\", \"nii\", \"denpasar\", \"br\", \"pin\", \"coba\", \"curang\", \"twitteran\", \"teregistrasi\", \"infoin\", \"ngefek\", \"kunci\", \"sukses\", \"timaaciih\", \"harta\", \"sebahagian\", \"dikirimin\", \"ngambilin\", \"rencana\", \"dak\", \"buru\", \"daftarin\", \"sms\", \"nomor\", \"segini\", \"januari\", \"info\", \"nelpon\", \"beneran\", \"tgl\", \"spam\", \"mulu\", \"hasil\", \"pulsa\", \"min\", \"konten\", \"dokter\", \"paketan\", \"ya\", \"kondisi\", \"rb\", \"pakai\", \"internet\", \"jam\", \"halo\", \"daftar\", \"data\", \"sih\", \"kah\", \"kartu\", \"paket\", \"kemarin\", \"banget\", \"sinyal\", \"kali\", \"kadang\", \"lemot\", \"ditanggepin\", \"sayang\", \"maret\", \"ilangan\", \"bar\", \"dibaca\", \"putus\", \"joywahjudi\", \"minggu\", \"bekasi\", \"kacau\", \"hobi\", \"komplek\", \"chek\", \"tanda\", \"opsi\", \"tower\", \"divhumas\", \"polri\", \"vpn\", \"pantesan\", \"bu\", \"nikmat\", \"fu\", \"waras\", \"kelompok\", \"raya\", \"kominfo\", \"payah\", \"tetangga\", \"konek\", \"bapuk\", \"jogja\", \"jl\", \"sinyal\", \"ilang\", \"parah\", \"adik\", \"banget\", \"dokter\", \"nih\", \"susah\", \"tweet\", \"lokasi\", \"cs\", \"rumah\", \"kemkominfo\", \"an\", \"kali\", \"id\", \"nya\", \"layan\", \"internet\", \"gini\", \"min\", \"jalan\", \"ku\", \"kemarin\", \"dicek\", \"komplen\", \"nomor\", \"pulsa\", \"daerah\", \"kuota\", \"yaa\", \"dm\", \"jaring\", \"ganti\", \"direspon\", \"bales\", \"telkomsel\", \"masi\", \"bodoh\", \"galeri\", \"trims\", \"pemberitauan\", \"beres\", \"istri\", \"dipelihara\", \"ra\", \"terblokir\", \"hahaha\", \"makasih\", \"hri\", \"infonya\", \"bosen\", \"instruksi\", \"tb\", \"fitur\", \"ikutin\", \"kelar\", \"sarinah\", \"urusin\", \"ajalah\", \"judi\", \"peringkat\", \"malingin\", \"model\", \"dm\", \"media\", \"dibales\", \"nov\", \"alhamdulillah\", \"in\", \"langgan\", \"kerja\", \"respon\", \"orang\", \"si\", \"tenggang\", \"dibilang\", \"min\", \"ganti\", \"manusia\", \"kah\", \"kemarin\", \"kecewa\", \"sistem\", \"nya\", \"cek\", \"ya\", \"pulsa\", \"layan\", \"nomor\", \"komplen\", \"nomer\", \"jaring\", \"operator\", \"kartu\", \"admin\", \"cs\", \"dokter\"], \"Total\": [588.0, 306.0, 349.0, 1609.0, 524.0, 362.0, 148.0, 139.0, 313.0, 701.0, 179.0, 135.0, 218.0, 216.0, 214.0, 86.0, 297.0, 774.0, 412.0, 140.0, 211.0, 189.0, 106.0, 70.0, 170.0, 94.0, 143.0, 275.0, 71.0, 50.0, 35.182580291387296, 19.836712147416883, 14.420358908054812, 14.420304751326006, 12.614948413652462, 10.809455080879083, 9.906786841329227, 18.004843823467485, 7.198633365183095, 7.198612364643708, 33.30501784268505, 6.295939068174683, 6.2939841055386845, 13.461518526280855, 37.683526960562084, 5.393217724360719, 5.392809552498349, 69.94046142472021, 24.200813823144163, 13.520210153783868, 17.03694737130586, 4.490450830967945, 4.4904852281366665, 4.49047946789886, 4.490456622288335, 4.4903201008627285, 5.378500098965797, 3.5877835630870654, 3.5877835395693296, 3.5877832108738, 34.08174094407282, 75.82803203658892, 44.921625418599476, 218.51642832391997, 1609.5590827044946, 18.924396173153845, 52.75651866651032, 211.66603383006134, 12.45834717605053, 161.8053114143063, 41.063839697726316, 85.22557184129593, 43.357982342222776, 297.2810840336279, 774.8042557800266, 28.63412674993194, 143.00902508624668, 302.59769060308815, 524.1632640071504, 275.47395232923674, 56.712761070807844, 282.91757284384704, 99.14736988216288, 97.27794803159155, 57.23792319337925, 231.8986891807144, 214.04884159857835, 701.7239165996608, 412.3853668209931, 588.9347005296189, 362.79639013448514, 213.58076591134343, 219.78124379262567, 313.5196871802533, 135.6320607115587, 86.79779171046077, 33.43807538314639, 17.158846937780375, 12.63682425151528, 10.827929246346429, 21.678806740642496, 8.114824582210153, 56.0386955248302, 6.305997252092374, 6.305869407481242, 5.401622011835872, 5.401596322344646, 5.401487393370684, 46.84700464259585, 10.763670406829931, 4.49723039763092, 21.60706254553097, 4.497189090402111, 4.495885111491315, 4.4954301535480585, 4.4926889358998645, 588.9347005296189, 3.5928302863322026, 3.5928302803876973, 3.592825982280844, 3.59281436079491, 3.592801045942848, 3.5928075910199984, 3.592773496411135, 25.99937462679019, 12.56081502488064, 86.2320866600753, 524.1632640071504, 7.208709601331039, 34.60547317525486, 9.842212634099628, 85.82590151699415, 143.00902508624668, 412.3853668209931, 9.872962576063555, 39.64881675442348, 297.2810840336279, 282.91757284384704, 62.42631159930224, 79.6932894765295, 30.346159001887568, 218.51642832391997, 124.74180682305766, 213.58076591134343, 51.100823529903636, 1609.5590827044946, 701.7239165996608, 219.78124379262567, 140.81377607024052, 175.72011205271298, 211.66603383006134, 774.8042557800266, 231.8986891807144, 302.59769060308815, 179.81487607825676, 189.16190193430722, 313.5196871802533, 14.626445469567487, 49.822435792357616, 6.893851425565908, 6.893850262192811, 6.895518327477484, 5.175524164754521, 5.175527046319282, 5.175540381078447, 5.175567774825363, 5.1757122141406, 15.52609064387847, 4.316322149472242, 4.316334134675364, 4.3163758871084905, 4.316367213179931, 4.317297355304837, 4.3204505046079715, 75.92828341305818, 3.457147429351132, 3.4571474494794874, 3.4571474819607797, 3.4571517034094184, 3.4571514752400687, 3.4571557054715845, 3.457171396356856, 3.457161273194445, 3.4571681959313207, 3.4571335658293374, 3.4572724013296963, 3.457162576470321, 179.81487607825676, 71.23171124688432, 7.778670843789665, 14.62697258978521, 6.915735819215421, 18.2588975282717, 6.938992026412533, 81.50228270748426, 7.812490305973824, 25.267716820485113, 27.912151377113908, 9.507538847370759, 140.81377607024052, 189.16190193430722, 701.7239165996608, 41.86374771292845, 170.1501882686362, 59.62588709963014, 57.41004082582187, 116.02924794209486, 40.2113262031433, 55.95136538454377, 48.29270043675784, 124.74180682305766, 275.47395232923674, 219.78124379262567, 349.0037324221656, 51.100823529903636, 59.41012908051869, 31.785459042166913, 44.190736371353914, 213.58076591134343, 83.82765787553376, 79.77999193071682, 774.8042557800266, 362.79639013448514, 313.5196871802533, 1609.5590827044946, 214.04884159857835, 412.3853668209931, 306.9434556329693, 282.91757284384704, 148.00910412857536, 139.50988375420272, 29.806165778674256, 11.085201581210784, 9.384321719236398, 8.539438886296047, 70.69391309204562, 5.982406848539773, 64.28632608225406, 5.131940764134139, 5.131961279670237, 5.131959935635532, 5.131964537147854, 5.132030970570547, 5.13200918544262, 19.67325827785207, 4.281460983740439, 4.281482994288657, 4.281495412402627, 4.281497746880924, 4.281554472981296, 4.28242568135418, 7.712784395862109, 3.4310015018735203, 3.43100150911719, 3.43100150911719, 3.431001607899284, 3.431011637063473, 3.4310145738735396, 3.431021223822286, 7.71638459616857, 7.747917389418067, 362.79639013448514, 216.40239376254846, 12.812323324456287, 6.885017336882924, 33.343398763369244, 16.340227800345193, 14.67307643463713, 48.63749319308985, 12.030599477963921, 56.32250215779056, 70.84792539935009, 1609.5590827044946, 774.8042557800266, 54.116310230218836, 106.15369287445839, 99.14736988216288, 701.7239165996608, 21.69141568655305, 211.66603383006134, 41.258085887442924, 412.3853668209931, 219.78124379262567, 85.82590151699415, 213.58076591134343, 297.2810840336279, 71.96235678769551, 302.59769060308815, 161.8053114143063, 588.9347005296189, 175.72011205271298, 214.04884159857835, 349.0037324221656, 275.47395232923674, 29.95365687414245, 29.9381814515182, 12.333045693919802, 10.570969875891445, 10.570941755941604, 7.927873290163406, 7.927866033213748, 7.928833939596033, 10.569371123002423, 7.046838226791306, 50.91680464320146, 14.949961268086097, 6.165804107592108, 5.281862429008235, 4.40374808125164, 4.403754980978861, 4.403719965411312, 4.403787594881804, 5.278388110568217, 5.289574582799779, 5.289574582799779, 8.774484522495408, 13.214071082500457, 3.522718372652874, 3.522714471929993, 3.522713822094792, 3.522719404949904, 3.522721323762812, 3.522706008706948, 3.5226975900851953, 17.54388762764429, 6.1651223117031915, 11.408366698310589, 7.9038532187719985, 8.838198960140977, 8.819155963981654, 349.0037324221656, 94.57245282395282, 49.72430892615708, 10.620911497340353, 214.04884159857835, 106.15369287445839, 87.36855403238127, 27.171375134572944, 20.122867386622445, 40.03355089814719, 71.02573567582235, 30.71007646734898, 44.096479545370975, 18.602595700227262, 275.47395232923674, 32.49780444295886, 231.8986891807144, 170.1501882686362, 412.3853668209931, 74.7578387406811, 774.8042557800266, 51.180219863181854, 33.414474588742436, 175.72011205271298, 34.48596734584551, 36.23051282107801, 216.40239376254846, 1609.5590827044946, 81.50228270748426, 524.1632640071504, 54.95268423044885, 306.9434556329693, 189.16190193430722, 95.02827174350773, 36.077664329787254, 28.15790085788231, 21.118473264571282, 14.078925581892044, 11.439055317291373, 19.343651485804248, 9.679090479442879, 8.799176685060125, 7.0392502380248025, 7.039247994071009, 6.159329691433932, 5.27939128865952, 5.27933468169664, 7.933079487098003, 10.583246748511462, 4.399432405196475, 4.399415155923579, 4.399475402216793, 4.39937604443741, 4.399484223631063, 13.201106125040798, 4.3997154531947835, 6.172605634432059, 3.519476493423482, 3.519471130020664, 3.5194668174551333, 3.519466278016151, 3.5194865009406864, 3.5194868150902923, 3.5194618753643674, 306.9434556329693, 11.431285185763986, 16.810853338933686, 7.009854440207169, 7.063639025164123, 14.98732308762272, 313.5196871802533, 19.365326681275533, 107.36056362686918, 31.51187378163125, 17.735021769235043, 32.469511972734836, 18.31517690352428, 774.8042557800266, 95.02827174350773, 54.32852226047477, 302.59769060308815, 175.72011205271298, 81.97104440474907, 36.24699820750848, 231.8986891807144, 282.91757284384704, 701.7239165996608, 1609.5590827044946, 170.1501882686362, 216.40239376254846, 36.23051282107801, 79.77999193071682, 189.16190193430722, 85.22557184129593, 161.8053114143063, 55.95136538454377, 71.02573567582235, 106.15369287445839], \"loglift\": [30.0, 29.0, 28.0, 27.0, 26.0, 25.0, 24.0, 23.0, 22.0, 21.0, 20.0, 19.0, 18.0, 17.0, 16.0, 15.0, 14.0, 13.0, 12.0, 11.0, 10.0, 9.0, 8.0, 7.0, 6.0, 5.0, 4.0, 3.0, 2.0, 1.0, 1.5506, 1.5343, 1.5197, 1.5195, 1.5121, 1.5017, 1.4952, 1.4694, 1.4649, 1.4648, 1.4589, 1.4486, 1.4417, 1.4415, 1.4347, 1.4263, 1.425, 1.416, 1.4068, 1.4012, 1.3958, 1.3943, 1.3943, 1.3943, 1.3943, 1.3929, 1.3676, 1.3446, 1.3446, 1.3446, 1.3319, 1.2673, 1.2755, 1.1799, 0.9177, 1.2379, 1.0975, 0.9095, 1.2663, 0.9327, 1.1103, 0.9582, 1.0652, 0.6104, 0.2821, 1.1045, 0.6244, 0.3696, 0.0885, 0.2605, 0.8589, 0.1668, 0.5789, 0.5793, 0.7795, -0.0474, -0.0587, -0.8321, -0.4876, -0.8011, -0.4744, -0.2174, -0.3026, -0.6472, 1.6146, 1.6121, 1.5985, 1.5771, 1.5611, 1.5505, 1.536, 1.5263, 1.5117, 1.4976, 1.4966, 1.4756, 1.4754, 1.4749, 1.4703, 1.4437, 1.4437, 1.4432, 1.4431, 1.4379, 1.4263, 1.4201, 1.4155, 1.3938, 1.3938, 1.3938, 1.3936, 1.3935, 1.3934, 1.3931, 1.39, 1.391, 1.3666, 1.2335, 1.3641, 1.2407, 1.324, 1.0997, 0.9952, 0.8524, 1.3159, 1.0925, 0.7373, 0.5651, 0.8578, 0.7642, 1.0165, 0.4666, 0.615, 0.419, 0.845, -0.3589, -0.0747, 0.3151, 0.3919, 0.2564, 0.1164, -0.6747, 0.0355, -0.1803, 0.0933, -0.0141, -0.5818, 1.7189, 1.6938, 1.6577, 1.6576, 1.6469, 1.617, 1.617, 1.6169, 1.6168, 1.616, 1.6051, 1.5836, 1.5835, 1.5833, 1.5833, 1.5721, 1.5596, 1.5369, 1.5311, 1.5311, 1.5311, 1.5311, 1.5311, 1.531, 1.531, 1.5308, 1.5308, 1.5306, 1.5302, 1.5299, 1.5216, 1.5077, 1.5129, 1.4898, 1.5042, 1.4546, 1.5011, 1.3507, 1.4877, 1.4153, 1.3973, 1.4626, 1.234, 1.2026, 0.9502, 1.2862, 1.0479, 1.2033, 1.1947, 1.037, 1.2088, 1.1075, 1.1039, 0.8853, 0.6979, 0.7463, 0.4705, 1.0039, 0.9218, 1.1257, 1.0063, 0.4347, 0.7412, 0.6947, -0.5496, -0.1462, -0.1199, -1.1426, 0.0507, -0.6323, -0.4695, -0.5374, 1.7773, 1.7753, 1.7195, 1.7132, 1.7, 1.67, 1.6576, 1.6502, 1.6307, 1.6269, 1.6268, 1.6268, 1.6268, 1.6266, 1.6264, 1.6081, 1.5931, 1.593, 1.5928, 1.5928, 1.5923, 1.5886, 1.5469, 1.5401, 1.5401, 1.5401, 1.5401, 1.54, 1.54, 1.5399, 1.5292, 1.5087, 1.3543, 1.3543, 1.4827, 1.51, 1.4233, 1.4611, 1.4333, 1.2683, 1.4342, 1.1781, 1.0284, 0.1448, 0.1581, 0.9383, 0.7091, 0.7193, 0.0378, 1.1556, 0.3699, 0.9171, 0.0229, 0.2459, 0.6057, 0.213, -0.1061, 0.5895, -0.2245, 0.0893, -0.7648, -0.0347, -0.2759, -0.7161, -0.5653, 1.9927, 1.9716, 1.9562, 1.9456, 1.9454, 1.9205, 1.9204, 1.9146, 1.908, 1.9076, 1.8969, 1.8922, 1.8909, 1.842, 1.8355, 1.8353, 1.8351, 1.8351, 1.8281, 1.8236, 1.8236, 1.8032, 1.8002, 1.7843, 1.7843, 1.7843, 1.7842, 1.7842, 1.7842, 1.7841, 1.7811, 1.7822, 1.7757, 1.7789, 1.7678, 1.7477, 1.5658, 1.5741, 1.5488, 1.7196, 1.2828, 1.3588, 1.3204, 1.5194, 1.5646, 1.3988, 1.2594, 1.4454, 1.2693, 1.5371, 0.548, 1.3077, 0.4393, 0.5063, 0.0909, 0.837, -0.3196, 0.9845, 1.2073, 0.1652, 1.1617, 1.1205, -0.1062, -1.5377, 0.5368, -0.8537, 0.8043, -0.6101, -0.2607, 0.3289, 2.0744, 2.068, 2.0595, 2.0412, 2.0285, 2.0222, 2.016, 2.0079, 1.9847, 1.9847, 1.9682, 1.945, 1.9445, 1.9241, 1.9207, 1.9126, 1.9126, 1.9122, 1.9122, 1.9112, 1.8856, 1.8745, 1.8739, 1.8614, 1.8613, 1.8613, 1.8613, 1.8613, 1.8613, 1.8611, 1.7977, 1.8225, 1.8043, 1.8391, 1.8316, 1.758, 1.4976, 1.7075, 1.4444, 1.6176, 1.6693, 1.4721, 1.5796, 0.6338, 1.1562, 1.2888, 0.7877, 0.868, 1.0401, 1.3271, 0.5659, 0.4591, -0.1377, -0.6454, 0.3714, 0.0731, 1.1027, 0.4976, -0.2101, 0.4182, -0.1065, 0.7321, 0.5014, 0.0603], \"logprob\": [30.0, 29.0, 28.0, 27.0, 26.0, 25.0, 24.0, 23.0, 22.0, 21.0, 20.0, 19.0, 18.0, 17.0, 16.0, 15.0, 14.0, 13.0, 12.0, 11.0, 10.0, 9.0, 8.0, 7.0, 6.0, 5.0, 4.0, 3.0, 2.0, 1.0, -5.1162, -5.7056, -6.039, -6.0392, -6.1803, -6.3453, -6.4389, -5.8673, -6.7886, -6.7886, -5.2627, -6.9388, -6.9461, -6.186, -5.1634, -7.1159, -7.1173, -4.5637, -5.6342, -6.2219, -5.9961, -7.3311, -7.3311, -7.3311, -7.3311, -7.3326, -7.1774, -7.6053, -7.6053, -7.6053, -5.3667, -4.6315, -5.1469, -3.6606, -1.9259, -6.049, -5.1641, -3.9629, -6.4387, -4.2082, -5.4019, -4.8239, -5.3927, -3.9222, -3.2927, -5.7682, -4.64, -4.1454, -3.877, -4.3484, -5.3304, -4.4154, -5.0518, -5.0705, -5.4006, -4.8285, -4.9199, -4.5059, -4.693, -4.6501, -4.8079, -5.0807, -5.1373, -5.1267, -3.7028, -4.1516, -5.1191, -5.8077, -6.1297, -6.2947, -5.6151, -6.6073, -4.6896, -6.8883, -6.8892, -7.0651, -7.0653, -7.0658, -4.9102, -6.4074, -7.2802, -5.7111, -7.2808, -7.2863, -7.298, -7.3048, -2.4335, -7.5546, -7.5546, -7.5546, -7.5548, -7.555, -7.555, -7.5553, -5.5793, -6.3058, -4.4038, -2.732, -6.888, -5.4426, -6.6166, -4.6753, -4.2692, -3.353, -6.6217, -5.4547, -3.7954, -4.0171, -5.2355, -5.085, -5.7982, -4.3739, -4.7861, -4.4443, -5.4485, -3.2025, -3.7485, -4.5196, -4.888, -4.8021, -4.7559, -4.2495, -4.7455, -4.6952, -4.9421, -4.9988, -5.0613, -5.8256, -4.6251, -6.639, -6.6391, -6.6496, -6.9664, -6.9664, -6.9665, -6.9666, -6.9673, -5.8797, -7.1813, -7.1815, -7.1816, -7.1816, -7.1926, -7.2044, -4.3607, -7.4558, -7.4558, -7.4558, -7.4558, -7.4558, -7.4559, -7.4559, -7.4561, -7.4561, -7.4563, -7.4566, -7.457, -3.5138, -4.4537, -6.663, -6.0547, -6.7893, -5.8681, -6.7891, -4.476, -6.684, -5.5825, -5.501, -6.5127, -4.0459, -3.7821, -2.7236, -5.2067, -4.0428, -4.9359, -4.9825, -4.4365, -5.3244, -5.0953, -5.2462, -4.5158, -3.911, -4.0884, -3.9018, -5.2896, -5.2211, -5.6427, -5.4326, -4.4286, -5.0574, -5.1534, -4.1243, -4.4797, -4.5994, -3.9862, -4.8105, -4.8377, -4.9702, -5.1196, -3.4528, -3.5139, -5.1131, -6.1085, -6.2883, -6.4127, -4.3114, -6.7883, -4.4333, -6.965, -6.965, -6.9651, -6.9651, -6.9653, -6.9654, -5.64, -7.18, -7.1801, -7.1802, -7.1803, -7.1807, -7.1843, -6.6376, -7.4544, -7.4544, -7.4544, -7.4544, -7.4545, -7.4545, -7.4546, -6.6548, -6.6713, -2.9792, -3.4959, -6.1943, -6.788, -5.2972, -5.9726, -6.108, -5.0746, -6.3057, -5.0181, -4.9384, -2.6988, -3.4167, -5.2979, -4.8534, -4.9114, -3.636, -5.9949, -4.5024, -5.5904, -4.1825, -4.5888, -5.1693, -4.6503, -4.6388, -5.3617, -4.7395, -5.0516, -4.6138, -5.0932, -5.1371, -5.0884, -5.1742, -4.8349, -4.8566, -5.7588, -5.9237, -5.9238, -6.2365, -6.2365, -6.2423, -5.9613, -6.3672, -4.4003, -5.6305, -6.5175, -6.7211, -6.9094, -6.9096, -6.9098, -6.9098, -6.7356, -6.738, -6.738, -6.2523, -5.8458, -7.1838, -7.1838, -7.1838, -7.1839, -7.1839, -7.1839, -7.184, -5.5815, -6.6262, -6.0173, -6.381, -6.2804, -6.3027, -2.8065, -4.1039, -4.7721, -6.1449, -3.5783, -4.2036, -4.4368, -5.4058, -5.6609, -5.1389, -4.7049, -5.3573, -5.1717, -5.767, -4.0609, -5.4384, -4.3418, -4.5844, -4.1144, -5.0761, -3.8943, -5.3074, -5.511, -4.8932, -5.5251, -5.517, -4.9564, -4.3813, -5.2899, -4.8193, -5.4166, -5.1108, -5.2455, -5.3443, -4.5673, -4.8215, -5.1177, -5.5415, -5.7618, -5.2428, -5.9414, -6.0448, -6.2911, -6.2912, -6.4412, -6.6185, -6.619, -6.2322, -5.9474, -6.8332, -6.8333, -6.8337, -6.8337, -6.8346, -5.7615, -6.8713, -6.5334, -7.1077, -7.1077, -7.1077, -7.1077, -7.1078, -7.1078, -7.1079, -2.703, -5.9685, -5.6011, -6.441, -6.4407, -5.7622, -2.9819, -5.5564, -4.1068, -5.1594, -5.6825, -5.275, -5.74, -2.9409, -4.517, -4.9435, -3.7273, -4.1905, -4.7809, -5.3099, -4.2152, -4.1231, -3.8115, -3.489, -4.7193, -4.7771, -5.5347, -5.3504, -5.1949, -5.3638, -5.2474, -5.4708, -5.4629, -5.5022]}, \"token.table\": {\"Topic\": [1, 2, 5, 2, 3, 6, 1, 6, 2, 1, 2, 4, 5, 2, 2, 6, 1, 4, 5, 2, 2, 3, 1, 2, 3, 5, 1, 2, 3, 6, 1, 2, 3, 4, 5, 6, 1, 4, 3, 4, 3, 5, 5, 1, 2, 4, 6, 2, 3, 4, 3, 5, 1, 4, 6, 3, 6, 1, 3, 3, 6, 2, 3, 4, 6, 4, 5, 1, 4, 5, 4, 6, 3, 1, 2, 3, 4, 5, 6, 5, 4, 5, 2, 1, 2, 5, 6, 4, 1, 3, 4, 5, 1, 2, 3, 4, 5, 1, 4, 2, 4, 1, 2, 4, 5, 1, 2, 3, 4, 4, 5, 1, 2, 6, 1, 4, 6, 2, 3, 4, 5, 1, 4, 1, 2, 3, 1, 6, 2, 3, 5, 6, 1, 3, 5, 5, 1, 2, 3, 5, 6, 3, 4, 5, 6, 1, 3, 5, 6, 3, 5, 6, 4, 3, 4, 6, 2, 5, 1, 2, 4, 3, 6, 1, 2, 3, 5, 6, 3, 4, 2, 1, 2, 3, 4, 5, 6, 1, 2, 5, 6, 2, 6, 2, 4, 5, 2, 1, 2, 4, 1, 2, 3, 4, 1, 1, 3, 6, 5, 1, 3, 4, 5, 6, 1, 1, 1, 3, 5, 6, 1, 2, 4, 5, 5, 2, 5, 6, 2, 3, 1, 6, 3, 4, 5, 4, 6, 2, 3, 6, 6, 1, 2, 3, 4, 5, 1, 3, 4, 3, 5, 1, 2, 4, 5, 6, 1, 2, 3, 4, 5, 1, 2, 3, 4, 5, 6, 1, 2, 3, 4, 1, 4, 2, 3, 4, 5, 6, 2, 3, 4, 5, 6, 1, 5, 6, 1, 5, 5, 6, 2, 3, 5, 5, 1, 2, 3, 4, 5, 6, 2, 3, 1, 2, 3, 4, 5, 6, 3, 1, 3, 4, 5, 6, 2, 5, 6, 1, 2, 3, 4, 5, 6, 2, 6, 5, 1, 3, 1, 2, 4, 1, 2, 3, 4, 5, 6, 1, 3, 5, 6, 2, 5, 6, 1, 4, 5, 3, 4, 5, 6, 3, 5, 2, 5, 5, 1, 2, 4, 5, 6, 1, 3, 4, 6, 3, 5, 1, 2, 3, 4, 5, 6, 2, 3, 5, 6, 3, 4, 5, 1, 4, 5, 1, 2, 3, 4, 6, 4, 1, 2, 4, 5, 6, 2, 1, 2, 3, 4, 5, 6, 3, 2, 3, 4, 5, 6, 3, 5, 1, 4, 1, 2, 4, 5, 3, 4, 5, 3, 1, 1, 3, 4, 5, 1, 6, 3, 1, 1, 2, 3, 3, 1, 6, 1, 3, 4, 5, 6, 5, 6, 1, 2, 1, 1, 4, 6, 2, 1, 2, 3, 4, 5, 6, 4, 5, 6, 1, 2, 3, 4, 6, 1, 4, 5, 6, 3, 4, 1, 1, 4, 6, 3, 4, 4, 1, 2, 3, 4, 5, 6, 4, 5, 3, 1, 2, 3, 4, 5, 6, 1, 3, 4, 5, 6, 3, 4, 5, 6, 4, 6, 3, 1, 2, 3, 4, 5, 6, 1, 1, 4, 1, 2, 3, 4, 6, 5, 1, 3, 4, 5, 6, 2, 3, 5, 6, 1, 2, 4, 5, 6, 1, 2, 3, 4, 1, 2, 3, 4, 5, 6, 1, 2, 4, 5, 6, 3, 4, 5, 6, 3, 3, 5, 1, 6, 3, 3, 2, 6, 1, 2, 3, 4, 1, 2, 5, 5, 1, 2, 3, 4, 1, 2, 3, 4, 5, 6, 5, 2, 4, 5, 6, 3, 3, 5, 5, 1, 2, 4, 5, 2, 4, 4, 4, 2, 3, 1, 2, 3, 4, 5, 6, 2, 4, 2, 3, 2, 2, 1, 2, 3, 1, 2, 3, 5, 2, 4, 5, 3, 6, 5, 4, 1, 3, 4, 1, 3, 1, 6, 1, 2, 3, 4, 5, 1, 2, 3, 4, 5, 6, 1, 3, 4, 5, 6, 2, 1, 2, 4, 1, 2, 3, 4, 6, 1, 2, 3, 4, 6, 2, 5, 6, 1, 2, 3, 5, 4, 5, 6, 4, 6, 2, 3, 1, 2, 4, 5, 1, 5, 1, 2, 3, 4, 6, 6, 6, 1, 3, 5, 6, 1, 3, 4, 6, 6, 4, 5, 6, 2, 4, 5, 4, 3, 5, 3, 6, 1, 3, 5, 6, 2, 4, 1, 2, 3, 5, 6, 1, 2, 3, 4, 6, 1, 6, 4, 4, 5, 5, 1, 4, 2, 1, 2, 3, 4, 5, 6, 1, 2, 3, 4, 5, 6, 1, 3, 2, 5], \"Freq\": [0.09415387749445196, 0.09415387749445196, 0.7532310199556157, 0.21447197789591257, 0.518307279915122, 0.25021730754523136, 0.8361708466838315, 0.8524018425521764, 0.8350015757866677, 0.13181239839121633, 0.5602026931626695, 0.13181239839121633, 0.1977185975868245, 0.9514752005337709, 0.1415700882275429, 0.7078504411377146, 0.32253563409576763, 0.05375593901596127, 0.6450712681915353, 0.8350094997629927, 0.14411315017996945, 0.7205657508998473, 0.011596611409184318, 0.7769729644153492, 0.04638644563673727, 0.16235255972858045, 0.23745714908185386, 0.03957619151364231, 0.7123714472455616, 0.9588782962293094, 0.19621689931294145, 0.004671830936022415, 0.1775295755688518, 0.1261394352726052, 0.48119858641030877, 0.014015492808067246, 0.8914298915514219, 0.07428582429595183, 0.9232788254615213, 0.060213836443142696, 0.12652056817362906, 0.7591234090417742, 0.8829614388882886, 0.6255151180198761, 0.18955003576359883, 0.13268502503451918, 0.05686501072907965, 0.6935319126675472, 0.028897163027814466, 0.28897163027814465, 0.06688980540268788, 0.8695674702349424, 0.2044561011703195, 0.6815203372343983, 0.06815203372343984, 0.9267123154034609, 0.852363504225073, 0.8361709232898031, 0.8703407760934545, 0.7728685776872849, 0.9616178692109572, 0.10517969119595476, 0.7362578383716832, 0.10517969119595476, 0.9091993099869347, 0.7794185231807564, 0.851615054808021, 0.8217434552611943, 0.05869596109008531, 0.05869596109008531, 0.777566219674845, 0.12959436994580747, 0.8677663745682381, 0.24388728952543262, 0.34639064309409273, 0.09896875516974078, 0.06715736957946696, 0.04594977918595108, 0.19440291194056225, 0.9083157481007005, 0.8641171563908356, 0.15249126289250042, 0.9868989055701696, 0.19711165068249617, 0.12671463258160467, 0.46462031946588384, 0.19711165068249617, 0.9342605281679935, 0.07361756997082276, 0.6625581297374048, 0.03680878498541138, 0.2331223049076054, 0.16855450370911892, 0.2996524510384337, 0.26219589465862947, 0.20601106008892314, 0.06086690411718184, 0.1290669414423259, 0.7744016486539552, 0.8350030969256521, 0.8743752382440491, 0.04666622255192362, 0.07777703758653937, 0.855547413451933, 0.015555407517307872, 0.3834754584893283, 0.4137498367911174, 0.05045729716964846, 0.1513718915089454, 0.7794286127750688, 0.8828536520411278, 0.059485380060036265, 0.11897076012007253, 0.7733099407804714, 0.054599527226383275, 0.32759716335829964, 0.600594799490216, 0.37696492227195993, 0.05799460342645537, 0.14498650856613843, 0.4349595256984153, 0.9512524036176845, 0.8743802372732855, 0.13872108259366653, 0.8323264955619992, 0.8677709272364561, 0.8334915386883843, 0.8117766462402125, 0.2190712771023816, 0.7119816505827402, 0.0547678192755954, 0.9701293210132373, 0.7437017619036836, 0.8677636453715541, 0.9729956652893945, 0.756204480603579, 0.058642722852262665, 0.019547574284087557, 0.10751165856248156, 0.07167443904165437, 0.7428078227953271, 0.00942030345739022, 0.339130924466048, 0.5181166901564621, 0.1318842484034631, 0.27355476773954635, 0.5719781507281424, 0.09947446099619868, 0.04973723049809934, 0.8677639724998931, 0.15150245601058063, 0.8332635080581934, 0.8357840124531876, 0.7520353191665843, 0.1367336943939244, 0.0683668471969622, 0.9908086174228713, 0.8516161549041306, 0.046128000123053035, 0.9225600024610606, 0.9368297035111136, 0.051696547610665514, 0.9305378569919792, 0.28412597119387917, 0.10523184118291821, 0.03156955235487546, 0.18941731412925278, 0.3893578123767974, 0.11316391539373068, 0.8770203443014127, 0.9953398871310901, 0.1337652367758765, 0.20064785516381475, 0.1872713314862271, 0.14714176045346417, 0.30766004458451596, 0.01337652367758765, 0.49371604329122737, 0.37028703246842054, 0.0705308633273182, 0.05289814749548865, 0.12605445358594405, 0.8823811751016083, 0.5942262079228102, 0.30293885109790325, 0.09321195418397023, 0.9235376194736598, 0.9708532684590209, 0.8894444773373638, 0.8743802624475999, 0.19760635080118277, 0.2681800475158909, 0.07057369671470813, 0.46578639831707364, 0.9270903300297729, 0.40250973473816665, 0.5702221242124027, 0.01677123894742361, 0.7573086300074408, 0.599658900056351, 0.13838282308992716, 0.18451043078656953, 0.06919141154496358, 0.9092081958743866, 0.8361708412027747, 0.8907791557173725, 0.18462785726129233, 0.3077130954354872, 0.4923409526967795, 0.909149703555366, 0.19033026491876134, 0.07401732524618497, 0.09516513245938067, 0.6450081200024691, 0.8829606306505081, 0.06672305615576206, 0.2001691684672862, 0.7339536177133827, 0.8349963012203945, 0.8677614315452742, 0.8886497520820272, 0.0555406095051267, 0.20993660693312816, 0.689791708494564, 0.05998188769517947, 0.9342525061268582, 0.9092117607073776, 0.7961266828778116, 0.07961266828778116, 0.07961266828778116, 0.9092198438134464, 0.12852056417173033, 0.4631590142792546, 0.08972190328969853, 0.1721690576640161, 0.14549497830761926, 0.2786968929101253, 0.5573937858202506, 0.15676700226194548, 0.771340004030416, 0.12855666733840268, 0.6772946141175745, 0.31576573225751786, 0.004576314960253881, 0.004576314960253881, 0.8523637759393698, 0.1584042397749602, 0.0678875313321258, 0.4752127193248806, 0.2941793024392118, 0.0226291771107086, 0.07815519375831227, 0.3126207750332491, 0.07815519375831227, 0.1758491859562026, 0.3516983719124052, 0.019538798439578068, 0.154699279216386, 0.27299872802891645, 0.35944832523807335, 0.21384900362265122, 0.14524291676696535, 0.7262145838348268, 0.1955996404225703, 0.5656530141950006, 0.03171886060906545, 0.10044305859537395, 0.10044305859537395, 0.951494490653682, 0.7902193662616265, 0.026340645542054213, 0.1580438732523253, 0.013170322771027107, 0.113389535697532, 0.793726749882724, 0.113389535697532, 0.11314522387534588, 0.7920165671274212, 0.8514456848446809, 0.8524019732023222, 0.2866135215417133, 0.6807071136615691, 0.8109242383882056, 0.9681622555085855, 0.3007293275062136, 0.1652358942341833, 0.08261794711709165, 0.1354934332720303, 0.04626605038557133, 0.2709868665440606, 0.21688973043046178, 0.7785785194939654, 0.2686279387735281, 0.05445160921085029, 0.3412300843879951, 0.09438278929880717, 0.2286967586855712, 0.007260214561446705, 0.7728681473792528, 0.5253226810481858, 0.09270400253791514, 0.18540800507583027, 0.08034346886619312, 0.11124480304549816, 0.7090070428273584, 0.10128672040390835, 0.10128672040390835, 0.024398859554900683, 0.28058688488135786, 0.26838745510390755, 0.012199429777450341, 0.07319657866470206, 0.35378346354605994, 0.1620061379625154, 0.810030689812577, 0.8516143413795604, 0.8677394137843785, 0.12396277339776836, 0.6331604689524347, 0.17046628010257858, 0.17046628010257858, 0.005690868212626779, 0.25608906956820504, 0.1308899688904159, 0.16503517816617658, 0.1593443099535498, 0.2959251470565925, 0.2040979255665949, 0.13606528371106327, 0.47622849298872144, 0.1814203782814177, 0.9256522889940197, 0.30983210863163185, 0.6713029020352024, 0.8578725215386298, 0.08578725215386299, 0.057191501435908655, 0.5348357554769817, 0.3460701947203999, 0.06292185358552727, 0.03146092679276363, 0.8373002772031064, 0.12881542726201636, 0.9256478866985046, 0.8516200790109394, 0.9083171712363514, 0.13800522296474713, 0.05520208918589885, 0.027601044592949424, 0.4140156688942414, 0.35881357970834254, 0.27660711899590407, 0.0922023729986347, 0.5532142379918081, 0.0922023729986347, 0.17530993286674162, 0.7888946979003373, 0.1254810795951032, 0.42663567062335095, 0.22586594327118578, 0.10038486367608257, 0.08783675571657225, 0.037644323878530964, 0.469659749924685, 0.469659749924685, 0.03913831249372375, 0.019569156246861875, 0.4065317813873253, 0.4250104987231128, 0.14782973868630012, 0.29927150203849284, 0.2394172016307943, 0.4489072530577393, 0.19109612581411156, 0.09554806290705578, 0.6210624088958625, 0.023887015726763945, 0.07166104718029183, 0.9340500682629775, 0.22702850079622647, 0.67917769986098, 0.034340445498588876, 0.05723407583098146, 0.0019078025276993821, 0.8626187700157877, 0.10844614035498264, 0.11163573271836448, 0.1499108410789466, 0.03827510836058211, 0.04146470072396395, 0.5517994788650588, 0.8677674473845237, 0.029385803512047302, 0.48780433829998526, 0.08815741053614191, 0.2233321066915595, 0.17631482107228383, 0.03340216243993968, 0.9686627107582506, 0.7224072240739341, 0.2408024080246447, 0.3278786370982846, 0.5800929733277342, 0.025221433622944964, 0.05044286724588993, 0.3247276274111787, 0.12489524131199181, 0.549539061772764, 0.870130382525561, 0.8334939702364383, 0.3366429312566204, 0.4208036640707755, 0.1514893190654792, 0.06732858625132408, 0.09448896201353808, 0.8504006581218428, 0.8677653700271436, 0.8907734749918899, 0.21644708127643728, 0.36876169402652276, 0.40884448685549263, 0.6943720329165566, 0.9084681182857104, 0.8523969992264441, 0.09203268912833311, 0.07362615130266649, 0.14725230260533298, 0.2392849917336661, 0.44175690781599897, 0.9459895088703242, 0.9233659148479533, 0.7385131658563762, 0.2505669669869848, 0.8907780068837636, 0.08747922772894823, 0.08747922772894823, 0.787313049560534, 0.8350000024315896, 0.27490814410352504, 0.10067058798157254, 0.09808929085383991, 0.19746923027154614, 0.0967986422899736, 0.23231674149593665, 0.09819940656208505, 0.8837946590587654, 0.852403039509957, 0.08618516604529372, 0.23269994832229304, 0.48263692985364487, 0.16375181548605808, 0.03447406641811749, 0.12428425108652166, 0.5504016833831674, 0.23081360916068308, 0.10652935807416143, 0.7728661560875514, 0.9931821482569156, 0.9532912539006924, 0.06119865721693762, 0.7343838866032514, 0.18359597165081284, 0.7728620653866272, 0.8743776813790214, 0.9342401282622836, 0.10301189140276196, 0.16024071995985195, 0.12590342282559797, 0.04578306284567198, 0.5036136913023919, 0.05722882855708998, 0.7794293116406895, 0.8516159978064833, 0.9267148886208786, 0.37007359559341035, 0.1336376872976204, 0.21587626409615604, 0.09251839889835259, 0.14391750939743736, 0.04111928839926782, 0.2506894211943336, 0.3384307186123503, 0.0626723552985834, 0.13787918165688345, 0.20055153695546685, 0.09242041944298163, 0.6515639570730205, 0.12014654527587612, 0.13400960819232335, 0.14265631455400749, 0.7132815727700375, 0.7728404970182793, 0.1983624839041373, 0.2069869397260563, 0.10349346986302815, 0.07330787448631161, 0.2069869397260563, 0.21561139554797534, 0.9251160141910453, 0.9708496223474707, 0.7794291075120947, 0.5397441050399707, 0.05866783750434464, 0.11733567500868929, 0.10560210750782036, 0.18773708001390285, 0.9083090212272962, 0.031734069732880024, 0.1269362789315201, 0.09520220919864009, 0.1269362789315201, 0.6346813946576005, 0.2911646938545874, 0.5823293877091748, 0.11362524638227799, 0.007101577898892374, 0.14542603882227426, 0.31508975078159424, 0.412040443329777, 0.02423767313704571, 0.09695069254818284, 0.0933889613747321, 0.8150309356340256, 0.013583848927233761, 0.07810713133159412, 0.37318186094068534, 0.08068796993312115, 0.11094595865804159, 0.3429238722157649, 0.05042998120820072, 0.040343984966560574, 0.9007651682309203, 0.06005101121539469, 0.030025505607697345, 0.8324459533570562, 0.15135380970128293, 0.18099799060788196, 0.14077621491724152, 0.6234375232049267, 0.040221775690640435, 0.8677622348633909, 0.170999727293786, 0.7979987273710014, 0.9529952458290735, 0.9091759702453726, 0.9267033512875014, 0.8677674423321701, 0.8897024503086497, 0.8523970753114586, 0.08922406121649545, 0.8922406121649545, 0.8677360797043862, 0.7794218317742571, 0.7397858231197043, 0.21136737803420125, 0.05284184450855031, 0.756204480603579, 0.8135968209725983, 0.1479266947222906, 0.033550105284440204, 0.9394029479643258, 0.5200181894495066, 0.13792597139520965, 0.054052069871095676, 0.19446319390405684, 0.02857925533414254, 0.06461396858153966, 0.8515170765849109, 0.8077117354338689, 0.07692492718417798, 0.11538739077626697, 0.947078882131796, 0.8703409229679884, 0.7229888663629205, 0.1445977732725841, 0.8516180437950275, 0.5149621695444626, 0.22204790796871324, 0.24567002583772526, 0.018897694295209638, 0.9256709561400746, 0.996345178273526, 0.7794322233715182, 0.8743769329469989, 0.12800015882712193, 0.7680009529627316, 0.11177288563523109, 0.08382966422642332, 0.14903051418030813, 0.04657203568134629, 0.08382966422642332, 0.5216067996310785, 0.8361460040888264, 0.09290511156542516, 0.8894363077566908, 0.8677664318401543, 0.8349963026019348, 0.949605673162787, 0.7346127770865697, 0.15582695271533298, 0.08904397298019026, 0.1302504083391915, 0.03256260208479787, 0.29306341876318087, 0.5535642354415639, 0.7112221875544111, 0.10160316965063015, 0.10160316965063015, 0.9571703548294833, 0.8523994990748824, 0.9459869924335306, 0.8743802624475999, 0.9663873348232849, 0.23414957022459548, 0.7024487106737864, 0.22461905968459858, 0.7721280176658076, 0.33831365295576943, 0.6766273059115389, 0.2863016885863004, 0.2147262664397253, 0.35787711073287554, 0.04771694809771673, 0.10736313321986266, 0.06948077054717759, 0.2918192362981459, 0.08337692465661312, 0.3057153904075814, 0.19454615753209725, 0.055584616437742075, 0.005730597739226292, 0.2722033926132489, 0.08309366721878123, 0.6360963490541184, 0.002865298869613146, 0.8349973015101336, 0.38459111211219216, 0.538427556957069, 0.07691822242243844, 0.19311944012373322, 0.16553094867748563, 0.11035396578499042, 0.05517698289249521, 0.46900435458620926, 0.12954924932571008, 0.06615280816632003, 0.1460874513672901, 0.6505026136354805, 0.0055127340138600035, 0.8538432778182327, 0.08538432778182325, 0.06403824583636744, 0.2277776951902939, 0.165656505592941, 0.5176765799779407, 0.0828282527964705, 0.6649710194951926, 0.08312137743689907, 0.16624275487379814, 0.7779291747373343, 0.12965486245622238, 0.8897924922363579, 0.9265055591051746, 0.03680343725877888, 0.11041031177633664, 0.25762406081145217, 0.625658433399241, 0.8907723323387495, 0.90832297044719, 0.2723210704665437, 0.46454770844292753, 0.12815109198425587, 0.09611331898819189, 0.032037772996063967, 0.9091974869496512, 0.947038157041037, 0.7922130516837811, 0.029341224136436337, 0.08802367240930901, 0.058682448272872674, 0.215586855936671, 0.03079812227666729, 0.215586855936671, 0.5235680787033439, 0.9470890370589521, 0.934253015526493, 0.8110139178436977, 0.16220278356873954, 0.2672835120920041, 0.5962478346667784, 0.10280135080461697, 0.874380264293627, 0.9267052135383869, 0.7578071025113386, 0.8677674341791456, 0.9298394326527706, 0.8908050896486148, 0.29816824236434425, 0.6460311917894126, 0.04969470706072404, 0.8903353998174857, 0.9342557252559113, 0.6286205323178847, 0.13969345162619662, 0.06984672581309831, 0.034923362906549155, 0.10477008871964746, 0.4542442938077711, 0.10482560626333179, 0.13976747501777573, 0.2970058844127734, 0.017470934377221966, 0.9271604997961831, 0.8524007980660396, 0.9021035771645163, 0.11396680881210403, 0.7977676616847281, 0.8516148052509059, 0.9578200187007383, 0.9590464041265125, 0.9324635890755093, 0.08977889809610409, 0.1838329818158322, 0.4403441192332725, 0.17528261056858419, 0.004275185623624005, 0.10687964059060012, 0.07278989290542483, 0.09098736613178104, 0.2911595716216993, 0.2001722054899183, 0.2911595716216993, 0.054592419679068624, 0.8757142088779626, 0.10614717683369244, 0.8330609476447771, 0.13884349127412954], \"Term\": [\"adik\", \"adik\", \"adik\", \"admin\", \"admin\", \"admin\", \"ajaib\", \"ajalah\", \"akal\", \"aktifin\", \"aktifin\", \"aktifin\", \"aktifin\", \"akumulasi\", \"alhamdulillah\", \"alhamdulillah\", \"an\", \"an\", \"an\", \"anggota\", \"antri\", \"antri\", \"aplikasi\", \"aplikasi\", \"aplikasi\", \"aplikasi\", \"atur\", \"atur\", \"atur\", \"bales\", \"banget\", \"banget\", \"banget\", \"banget\", \"banget\", \"banget\", \"bangsat\", \"bangsat\", \"bantu\", \"bantu\", \"bapuk\", \"bapuk\", \"bar\", \"barusan\", \"barusan\", \"barusan\", \"barusan\", \"batas\", \"batas\", \"batas\", \"bekasi\", \"bekasi\", \"beneran\", \"beneran\", \"beneran\", \"berat\", \"beres\", \"berhijrah\", \"bla\", \"blom\", \"bodoh\", \"bogor\", \"bogor\", \"bogor\", \"bosen\", \"br\", \"bu\", \"buang\", \"buang\", \"buang\", \"buru\", \"buru\", \"card\", \"cek\", \"cek\", \"cek\", \"cek\", \"cek\", \"cek\", \"chek\", \"coba\", \"coba\", \"combo\", \"cs\", \"cs\", \"cs\", \"cs\", \"curang\", \"daerah\", \"daerah\", \"daerah\", \"daerah\", \"daftar\", \"daftar\", \"daftar\", \"daftar\", \"daftar\", \"daftarin\", \"daftarin\", \"dagang\", \"dak\", \"dapet\", \"dapet\", \"dapet\", \"dapet\", \"data\", \"data\", \"data\", \"data\", \"denpasar\", \"dibaca\", \"dibales\", \"dibales\", \"dibales\", \"dibilang\", \"dibilang\", \"dibilang\", \"dicek\", \"dicek\", \"dicek\", \"dicek\", \"diisi\", \"dikirimin\", \"dikonfirmasi\", \"dikonfirmasi\", \"diluar\", \"dipaketin\", \"dipelihara\", \"diperpanjang\", \"diperpanjang\", \"diperpanjang\", \"direspon\", \"disedot\", \"ditanggapi\", \"ditanggepin\", \"divhumas\", \"dm\", \"dm\", \"dm\", \"dm\", \"dm\", \"dokter\", \"dokter\", \"dokter\", \"dokter\", \"error\", \"error\", \"error\", \"error\", \"fisik\", \"fitur\", \"fitur\", \"format\", \"foto\", \"foto\", \"foto\", \"freedom\", \"fu\", \"fup\", \"fup\", \"gagal\", \"galeri\", \"galeri\", \"ganti\", \"ganti\", \"ganti\", \"ganti\", \"ganti\", \"gara\", \"gara\", \"gb\", \"gini\", \"gini\", \"gini\", \"gini\", \"gini\", \"gini\", \"habis\", \"habis\", \"habis\", \"habis\", \"hahaha\", \"hahaha\", \"halo\", \"halo\", \"halo\", \"haloo\", \"hangus\", \"haram\", \"harta\", \"hasil\", \"hasil\", \"hasil\", \"hasil\", \"hati\", \"henti\", \"henti\", \"henti\", \"hobi\", \"hp\", \"hp\", \"hp\", \"hp\", \"hri\", \"hti\", \"hub\", \"id\", \"id\", \"id\", \"ikutin\", \"ilang\", \"ilang\", \"ilang\", \"ilang\", \"ilangan\", \"in\", \"in\", \"in\", \"indosatpro\", \"indoshit\", \"inet\", \"inet\", \"info\", \"info\", \"info\", \"infoin\", \"infonya\", \"informasi\", \"informasi\", \"informasi\", \"instruksi\", \"internet\", \"internet\", \"internet\", \"internet\", \"internet\", \"internetan\", \"internetan\", \"internetan\", \"internetnya\", \"internetnya\", \"isi\", \"isi\", \"isi\", \"isi\", \"istri\", \"iya\", \"iya\", \"iya\", \"iya\", \"iya\", \"jalan\", \"jalan\", \"jalan\", \"jalan\", \"jalan\", \"jalan\", \"jam\", \"jam\", \"jam\", \"jam\", \"januari\", \"januari\", \"jaring\", \"jaring\", \"jaring\", \"jaring\", \"jaring\", \"jelas\", \"jelek\", \"jelek\", \"jelek\", \"jelek\", \"jl\", \"jl\", \"jl\", \"jogja\", \"jogja\", \"joywahjudi\", \"judi\", \"ka\", \"ka\", \"kacau\", \"kadang\", \"kah\", \"kah\", \"kah\", \"kah\", \"kah\", \"kah\", \"kak\", \"kak\", \"kali\", \"kali\", \"kali\", \"kali\", \"kali\", \"kali\", \"karangdowo\", \"kartu\", \"kartu\", \"kartu\", \"kartu\", \"kartu\", \"kbps\", \"kbps\", \"kbps\", \"kecewa\", \"kecewa\", \"kecewa\", \"kecewa\", \"kecewa\", \"kecewa\", \"kelar\", \"kelar\", \"kelompok\", \"kemana\", \"kemana\", \"kemaren\", \"kemaren\", \"kemaren\", \"kemarin\", \"kemarin\", \"kemarin\", \"kemarin\", \"kemarin\", \"kemarin\", \"kemkominfo\", \"kemkominfo\", \"kemkominfo\", \"kemkominfo\", \"kenapaa\", \"kerja\", \"kerja\", \"kesedot\", \"kesedot\", \"kesedot\", \"kirim\", \"kirim\", \"kirim\", \"kirim\", \"klaten\", \"klaten\", \"komen\", \"kominfo\", \"komplek\", \"komplen\", \"komplen\", \"komplen\", \"komplen\", \"komplen\", \"kondisi\", \"kondisi\", \"kondisi\", \"kondisi\", \"konek\", \"konek\", \"koneksi\", \"koneksi\", \"koneksi\", \"koneksi\", \"koneksi\", \"koneksi\", \"konfirmasi\", \"konfirmasi\", \"konfirmasi\", \"konfirmasi\", \"konten\", \"konten\", \"konten\", \"ku\", \"ku\", \"ku\", \"kualitas\", \"kualitas\", \"kualitas\", \"kualitas\", \"kualitas\", \"kunci\", \"kuota\", \"kuota\", \"kuota\", \"kuota\", \"kuota\", \"kuotanya\", \"langgan\", \"langgan\", \"langgan\", \"langgan\", \"langgan\", \"langgan\", \"lawan\", \"layan\", \"layan\", \"layan\", \"layan\", \"layan\", \"lemot\", \"lemot\", \"lenyap\", \"lenyap\", \"loh\", \"loh\", \"loh\", \"loh\", \"lokasi\", \"lokasi\", \"lokasi\", \"lucu\", \"lupa\", \"maaf\", \"maaf\", \"maaf\", \"maaf\", \"makasih\", \"makasih\", \"maks\", \"maksud\", \"malam\", \"malam\", \"malam\", \"malang\", \"males\", \"malingin\", \"manusia\", \"manusia\", \"manusia\", \"manusia\", \"manusia\", \"maret\", \"masi\", \"mb\", \"mb\", \"mbanking\", \"media\", \"media\", \"media\", \"mention\", \"min\", \"min\", \"min\", \"min\", \"min\", \"min\", \"minggu\", \"minggu\", \"model\", \"mohon\", \"mohon\", \"mohon\", \"mohon\", \"mohon\", \"mulu\", \"mulu\", \"mulu\", \"mulu\", \"muter\", \"nan\", \"nelfon\", \"nelpon\", \"nelpon\", \"nelpon\", \"ngabisin\", \"ngambilin\", \"ngefek\", \"nih\", \"nih\", \"nih\", \"nih\", \"nih\", \"nih\", \"nii\", \"nikmat\", \"nite\", \"no\", \"no\", \"no\", \"no\", \"no\", \"no\", \"nomer\", \"nomer\", \"nomer\", \"nomer\", \"nomer\", \"nomor\", \"nomor\", \"nomor\", \"nomor\", \"nov\", \"nov\", \"november\", \"nya\", \"nya\", \"nya\", \"nya\", \"nya\", \"nya\", \"nyoba\", \"off\", \"okt\", \"operator\", \"operator\", \"operator\", \"operator\", \"operator\", \"opsi\", \"orang\", \"orang\", \"orang\", \"orang\", \"orang\", \"pagi\", \"pagi\", \"pagi\", \"pagi\", \"pakai\", \"pakai\", \"pakai\", \"pakai\", \"pakai\", \"paket\", \"paket\", \"paket\", \"paket\", \"paketan\", \"paketan\", \"paketan\", \"paketan\", \"paketan\", \"paketan\", \"paketin\", \"paketin\", \"paketin\", \"pantesan\", \"pantesan\", \"parah\", \"parah\", \"parah\", \"parah\", \"pasar\", \"payah\", \"payah\", \"pemberitahun\", \"pemberitauan\", \"pencet\", \"peras\", \"perbulan\", \"peringkat\", \"perpanjang\", \"perpanjang\", \"pict\", \"pin\", \"plsa\", \"plsa\", \"plsa\", \"polri\", \"posisi\", \"posisi\", \"premium\", \"premium\", \"pulsa\", \"pulsa\", \"pulsa\", \"pulsa\", \"pulsa\", \"pulsa\", \"putus\", \"quota\", \"quota\", \"quota\", \"ra\", \"ragu\", \"rampok\", \"rampok\", \"raya\", \"rb\", \"rb\", \"rb\", \"rb\", \"rebu\", \"registrasi\", \"regristrasi\", \"rencana\", \"reset\", \"reset\", \"respon\", \"respon\", \"respon\", \"respon\", \"respon\", \"respon\", \"restart\", \"restart\", \"retail\", \"roaming\", \"rokok\", \"rollover\", \"rp\", \"rp\", \"rp\", \"rumah\", \"rumah\", \"rumah\", \"rumah\", \"rupa\", \"rupa\", \"rupa\", \"salam\", \"sarinah\", \"sayang\", \"sebahagian\", \"sedot\", \"segini\", \"segini\", \"selamat\", \"selamat\", \"si\", \"si\", \"siang\", \"siang\", \"siang\", \"siang\", \"siang\", \"sih\", \"sih\", \"sih\", \"sih\", \"sih\", \"sih\", \"sinyal\", \"sinyal\", \"sinyal\", \"sinyal\", \"sinyal\", \"sinyl\", \"sisa\", \"sisa\", \"sisa\", \"sistem\", \"sistem\", \"sistem\", \"sistem\", \"sistem\", \"sms\", \"sms\", \"sms\", \"sms\", \"sms\", \"solusi\", \"solusi\", \"solusi\", \"sore\", \"sore\", \"sore\", \"sore\", \"spam\", \"spam\", \"spam\", \"sukses\", \"sukses\", \"super\", \"survei\", \"susah\", \"susah\", \"susah\", \"susah\", \"tahap\", \"tanda\", \"tarif\", \"tarif\", \"tarif\", \"tarif\", \"tarif\", \"tb\", \"telkomsel\", \"teman\", \"teman\", \"teman\", \"teman\", \"tenggang\", \"tenggang\", \"tenggang\", \"tenggang\", \"terblokir\", \"teregistrasi\", \"tetangga\", \"tetangga\", \"tgl\", \"tgl\", \"tgl\", \"timaaciih\", \"tito\", \"tower\", \"tq\", \"trims\", \"tugas\", \"tweet\", \"tweet\", \"tweet\", \"twit\", \"twitteran\", \"uang\", \"uang\", \"uang\", \"uang\", \"uang\", \"unreg\", \"unreg\", \"unreg\", \"unreg\", \"unreg\", \"urus\", \"urusin\", \"verifikasi\", \"vpn\", \"vpn\", \"waras\", \"wib\", \"woi\", \"xxl\", \"ya\", \"ya\", \"ya\", \"ya\", \"ya\", \"ya\", \"yaa\", \"yaa\", \"yaa\", \"yaa\", \"yaa\", \"yaa\", \"yah\", \"yah\", \"youtube\", \"youtube\"]}, \"R\": 30, \"lambda.step\": 0.01, \"plot.opts\": {\"xlab\": \"PC1\", \"ylab\": \"PC2\"}, \"topic.order\": [3, 2, 4, 5, 1, 6]};\n",
       "\n",
       "function LDAvis_load_lib(url, callback){\n",
       "  var s = document.createElement('script');\n",
       "  s.src = url;\n",
       "  s.async = true;\n",
       "  s.onreadystatechange = s.onload = callback;\n",
       "  s.onerror = function(){console.warn(\"failed to load library \" + url);};\n",
       "  document.getElementsByTagName(\"head\")[0].appendChild(s);\n",
       "}\n",
       "\n",
       "if(typeof(LDAvis) !== \"undefined\"){\n",
       "   // already loaded: just create the visualization\n",
       "   !function(LDAvis){\n",
       "       new LDAvis(\"#\" + \"ldavis_el454830806867345767141441521\", ldavis_el454830806867345767141441521_data);\n",
       "   }(LDAvis);\n",
       "}else if(typeof define === \"function\" && define.amd){\n",
       "   // require.js is available: use it to load d3/LDAvis\n",
       "   require.config({paths: {d3: \"https://cdnjs.cloudflare.com/ajax/libs/d3/3.5.5/d3.min\"}});\n",
       "   require([\"d3\"], function(d3){\n",
       "      window.d3 = d3;\n",
       "      LDAvis_load_lib(\"https://cdn.rawgit.com/bmabey/pyLDAvis/files/ldavis.v1.0.0.js\", function(){\n",
       "        new LDAvis(\"#\" + \"ldavis_el454830806867345767141441521\", ldavis_el454830806867345767141441521_data);\n",
       "      });\n",
       "    });\n",
       "}else{\n",
       "    // require.js not available: dynamically load d3 & LDAvis\n",
       "    LDAvis_load_lib(\"https://cdnjs.cloudflare.com/ajax/libs/d3/3.5.5/d3.min.js\", function(){\n",
       "         LDAvis_load_lib(\"https://cdn.rawgit.com/bmabey/pyLDAvis/files/ldavis.v1.0.0.js\", function(){\n",
       "                 new LDAvis(\"#\" + \"ldavis_el454830806867345767141441521\", ldavis_el454830806867345767141441521_data);\n",
       "            })\n",
       "         });\n",
       "}\n",
       "</script>"
      ],
      "text/plain": [
       "PreparedData(topic_coordinates=            Freq  cluster  topics         x         y\n",
       "topic                                                \n",
       "2      20.768083        1       1  0.112335 -0.052745\n",
       "1      19.778371        1       2  0.158884  0.016841\n",
       "3      17.021515        1       3 -0.044234  0.087136\n",
       "4      16.825936        1       4  0.047785  0.019429\n",
       "0      13.298093        1       5 -0.149799  0.106945\n",
       "5      12.308001        1       6 -0.124971 -0.177605, topic_info=     Category         Freq           Term        Total  loglift  logprob\n",
       "term                                                                    \n",
       "2559  Default   588.000000          paket   588.000000  30.0000  30.0000\n",
       "886   Default   306.000000             dm   306.000000  29.0000  29.0000\n",
       "3195  Default   349.000000         sinyal   349.000000  28.0000  28.0000\n",
       "2833  Default  1609.000000          pulsa  1609.000000  27.0000  27.0000\n",
       "1846  Default   524.000000          kuota   524.000000  26.0000  26.0000\n",
       "3244  Default   362.000000            sms   362.000000  25.0000  25.0000\n",
       "2253  Default   148.000000            nan   148.000000  24.0000  24.0000\n",
       "2903  Default   139.000000     registrasi   139.000000  23.0000  23.0000\n",
       "1882  Default   313.000000        langgan   313.000000  22.0000  22.0000\n",
       "3712  Default   701.000000             ya   701.000000  21.0000  21.0000\n",
       "1517  Default   179.000000            kak   179.000000  20.0000  20.0000\n",
       "1077  Default   135.000000             gb   135.000000  19.0000  19.0000\n",
       "1374  Default   218.000000            isi   218.000000  18.0000  18.0000\n",
       "2411  Default   216.000000          nomor   216.000000  17.0000  17.0000\n",
       "232   Default   214.000000         banget   214.000000  16.0000  16.0000\n",
       "1013  Default    86.000000        freedom    86.000000  15.0000  15.0000\n",
       "615   Default   297.000000           data   297.000000  14.0000  14.0000\n",
       "2151  Default   774.000000            min   774.000000  13.0000  13.0000\n",
       "1357  Default   412.000000       internet   412.000000  12.0000  12.0000\n",
       "2548  Default   140.000000           pagi   140.000000  11.0000  11.0000\n",
       "2889  Default   211.000000             rb   211.000000  10.0000  10.0000\n",
       "1429  Default   189.000000         jaring   189.000000   9.0000   9.0000\n",
       "897   Default   106.000000         dokter   106.000000   8.0000   8.0000\n",
       "1066  Default    70.000000           gara    70.000000   7.0000   7.0000\n",
       "1896  Default   170.000000          layan   170.000000   6.0000   6.0000\n",
       "1288  Default    94.000000          ilang    94.000000   5.0000   5.0000\n",
       "3203  Default   143.000000           sisa   143.000000   4.0000   4.0000\n",
       "1529  Default   275.000000           kali   275.000000   3.0000   3.0000\n",
       "3085  Default    71.000000        selamat    71.000000   2.0000   2.0000\n",
       "2154  Default    50.000000         minggu    50.000000   1.0000   1.0000\n",
       "...       ...          ...            ...          ...      ...      ...\n",
       "83     Topic6     5.428587  alhamdulillah     7.063639   1.8316  -6.4407\n",
       "1296   Topic6    10.699951             in    14.987323   1.7580  -5.7622\n",
       "1882   Topic6   172.523329        langgan   313.519687   1.4976  -2.9819\n",
       "1684   Topic6    13.144814          kerja    19.365327   1.7075  -5.5564\n",
       "2930   Topic6    56.016281         respon   107.360564   1.4444  -4.1068\n",
       "2520   Topic6    19.551602          orang    31.511874   1.6176  -5.1594\n",
       "3164   Topic6    11.587527             si    17.735022   1.6693  -5.6825\n",
       "3427   Topic6    17.417210       tenggang    32.469512   1.4721  -5.2750\n",
       "706    Topic6    10.939868       dibilang    18.315177   1.5796  -5.7400\n",
       "2151   Topic6   179.742838            min   774.804256   0.6338  -2.9409\n",
       "1054   Topic6    37.167281          ganti    95.028272   1.1562  -4.5170\n",
       "2048   Topic6    24.262478        manusia    54.328522   1.2888  -4.9435\n",
       "1513   Topic6    81.872463            kah   302.597691   0.7877  -3.7273\n",
       "1643   Topic6    51.518521        kemarin   175.720112   0.8680  -4.1905\n",
       "1607   Topic6    28.546144         kecewa    81.971044   1.0401  -4.7809\n",
       "3206   Topic6    16.819408         sistem    36.246998   1.3271  -5.3099\n",
       "2441   Topic6    50.261437            nya   231.898689   0.5659  -4.2152\n",
       "497    Topic6    55.110914            cek   282.917573   0.4591  -4.1231\n",
       "3712   Topic6    75.260413             ya   701.723917  -0.1377  -3.8115\n",
       "2833   Topic6   103.899006          pulsa  1609.559083  -0.6454  -3.4890\n",
       "1896   Topic6    30.359997          layan   170.150188   0.3714  -4.7193\n",
       "2411   Topic6    28.654951          nomor   216.402394   0.0731  -4.7771\n",
       "1780   Topic6    13.432795        komplen    36.230513   1.1027  -5.5347\n",
       "2406   Topic6    16.151223          nomer    79.779992   0.4976  -5.3504\n",
       "1429   Topic6    18.869488         jaring   189.161902  -0.2101  -5.1949\n",
       "2512   Topic6    15.936118       operator    85.225572   0.4182  -5.3638\n",
       "1563   Topic6    17.903583          kartu   161.805311  -0.1065  -5.2474\n",
       "19     Topic6    14.319756          admin    55.951365   0.7321  -5.4708\n",
       "569    Topic6    14.433542             cs    71.025736   0.5014  -5.4629\n",
       "897    Topic6    13.877086         dokter   106.153693   0.0603  -5.5022\n",
       "\n",
       "[428 rows x 6 columns], token_table=      Topic      Freq           Term\n",
       "term                                \n",
       "17        1  0.094154           adik\n",
       "17        2  0.094154           adik\n",
       "17        5  0.753231           adik\n",
       "19        2  0.214472          admin\n",
       "19        3  0.518307          admin\n",
       "19        6  0.250217          admin\n",
       "42        1  0.836171          ajaib\n",
       "45        6  0.852402         ajalah\n",
       "50        2  0.835002           akal\n",
       "57        1  0.131812        aktifin\n",
       "57        2  0.560203        aktifin\n",
       "57        4  0.131812        aktifin\n",
       "57        5  0.197719        aktifin\n",
       "66        2  0.951475      akumulasi\n",
       "83        2  0.141570  alhamdulillah\n",
       "83        6  0.707850  alhamdulillah\n",
       "101       1  0.322536             an\n",
       "101       4  0.053756             an\n",
       "101       5  0.645071             an\n",
       "111       2  0.835009        anggota\n",
       "125       2  0.144113          antri\n",
       "125       3  0.720566          antri\n",
       "141       1  0.011597       aplikasi\n",
       "141       2  0.776973       aplikasi\n",
       "141       3  0.046386       aplikasi\n",
       "141       5  0.162353       aplikasi\n",
       "177       1  0.237457           atur\n",
       "177       2  0.039576           atur\n",
       "177       3  0.712371           atur\n",
       "218       6  0.958878          bales\n",
       "...     ...       ...            ...\n",
       "3620      1  0.454244          unreg\n",
       "3620      2  0.104826          unreg\n",
       "3620      3  0.139767          unreg\n",
       "3620      4  0.297006          unreg\n",
       "3620      6  0.017471          unreg\n",
       "3635      1  0.927160           urus\n",
       "3637      6  0.852401         urusin\n",
       "3654      4  0.902104     verifikasi\n",
       "3663      4  0.113967            vpn\n",
       "3663      5  0.797768            vpn\n",
       "3673      5  0.851615          waras\n",
       "3689      1  0.957820            wib\n",
       "3704      4  0.959046            woi\n",
       "3711      2  0.932464            xxl\n",
       "3712      1  0.089779             ya\n",
       "3712      2  0.183833             ya\n",
       "3712      3  0.440344             ya\n",
       "3712      4  0.175283             ya\n",
       "3712      5  0.004275             ya\n",
       "3712      6  0.106880             ya\n",
       "3713      1  0.072790            yaa\n",
       "3713      2  0.090987            yaa\n",
       "3713      3  0.291160            yaa\n",
       "3713      4  0.200172            yaa\n",
       "3713      5  0.291160            yaa\n",
       "3713      6  0.054592            yaa\n",
       "3717      1  0.875714            yah\n",
       "3717      3  0.106147            yah\n",
       "3733      2  0.833061        youtube\n",
       "3733      5  0.138843        youtube\n",
       "\n",
       "[737 rows x 3 columns], R=30, lambda_step=0.01, plot_opts={'xlab': 'PC1', 'ylab': 'PC2'}, topic_order=[3, 2, 4, 5, 1, 6])"
      ]
     },
     "execution_count": 32,
     "metadata": {},
     "output_type": "execute_result"
    }
   ],
   "source": [
    "Ntopic=6\n",
    "Vectorized = tf_vectorizer\n",
    "import pyLDAvis, pyLDAvis.sklearn; pyLDAvis.enable_notebook()\n",
    "pyLDAvis.sklearn.prepare(lda[Ntopic-2], X, Vectorized)  "
   ]
  },
  {
   "cell_type": "markdown",
   "metadata": {},
   "source": [
    "## NMF Clustering"
   ]
  },
  {
   "cell_type": "code",
   "execution_count": 22,
   "metadata": {
    "ExecuteTime": {
     "end_time": "2018-12-20T05:22:33.761148Z",
     "start_time": "2018-12-20T05:22:32.302835Z"
    }
   },
   "outputs": [
    {
     "name": "stderr",
     "output_type": "stream",
     "text": [
      "100%|████████████████████████████████████████████████████████████████████████████████████| 7/7 [00:01<00:00,  5.10it/s]\n"
     ]
    }
   ],
   "source": [
    "from sklearn.decomposition import NMF\n",
    "from sklearn.feature_extraction.text import TfidfVectorizer\n",
    "\n",
    "nmf=[]\n",
    "for n_topics in tqdm(range(2,9)):\n",
    "    model=NMF(n_components=n_topics, random_state=0).fit(X)\n",
    "    nmf.append(model)"
   ]
  },
  {
   "cell_type": "code",
   "execution_count": 23,
   "metadata": {
    "ExecuteTime": {
     "end_time": "2018-12-20T05:22:33.847891Z",
     "start_time": "2018-12-20T05:22:33.764676Z"
    }
   },
   "outputs": [
    {
     "name": "stderr",
     "output_type": "stream",
     "text": [
      "100%|███████████████████████████████████████████████████████████████████████████████████| 7/7 [00:00<00:00, 142.63it/s]\n"
     ]
    }
   ],
   "source": [
    "vsm_topics=[]\n",
    "for i in tqdm(nmf):\n",
    "    vsm_topics.append(i.transform(X))\n",
    "    #ini matriks topik terhadap masing-masing kata "
   ]
  },
  {
   "cell_type": "code",
   "execution_count": 24,
   "metadata": {
    "ExecuteTime": {
     "end_time": "2018-12-20T05:22:34.058099Z",
     "start_time": "2018-12-20T05:22:33.852892Z"
    }
   },
   "outputs": [
    {
     "name": "stderr",
     "output_type": "stream",
     "text": [
      "100%|████████████████████████████████████████████████████████████████████████████████████| 7/7 [00:00<00:00, 73.80it/s]\n"
     ]
    }
   ],
   "source": [
    "doc_topic=[]\n",
    "for i in tqdm(range(len(vsm_topics))):\n",
    "    doc_topic.append([a.argmax()+1 for a in vsm_topics[i]]) # topic of docs"
   ]
  },
  {
   "cell_type": "code",
   "execution_count": 25,
   "metadata": {
    "ExecuteTime": {
     "end_time": "2018-12-20T05:22:35.692053Z",
     "start_time": "2018-12-20T05:22:34.064134Z"
    }
   },
   "outputs": [
    {
     "data": {
      "image/png": "[encoded data removed]",
      "text/plain": [
       "<Figure size 432x288 with 1 Axes>"
      ]
     },
     "metadata": {},
     "output_type": "display_data"
    },
    {
     "data": {
      "image/png": "[encoded data removed]",
      "text/plain": [
       "<Figure size 432x288 with 1 Axes>"
      ]
     },
     "metadata": {},
     "output_type": "display_data"
    },
    {
     "data": {
      "image/png": "[encoded data removed]",
      "text/plain": [
       "<Figure size 432x288 with 1 Axes>"
      ]
     },
     "metadata": {},
     "output_type": "display_data"
    },
    {
     "data": {
      "image/png": "[encoded data removed]",
      "text/plain": [
       "<Figure size 432x288 with 1 Axes>"
      ]
     },
     "metadata": {},
     "output_type": "display_data"
    },
    {
     "data": {
      "image/png": "[encoded data removed]",
      "text/plain": [
       "<Figure size 432x288 with 1 Axes>"
      ]
     },
     "metadata": {},
     "output_type": "display_data"
    },
    {
     "data": {
      "image/png": "[encoded data removed]",
      "text/plain": [
       "<Figure size 432x288 with 1 Axes>"
      ]
     },
     "metadata": {},
     "output_type": "display_data"
    },
    {
     "data": {
      "image/png": "[encoded data removed]",
      "text/plain": [
       "<Figure size 432x288 with 1 Axes>"
      ]
     },
     "metadata": {},
     "output_type": "display_data"
    }
   ],
   "source": [
    "# mari kita plot\n",
    "import matplotlib.pyplot as plt\n",
    "import seaborn as sns\n",
    "for i in doc_topic:\n",
    "    sns.countplot(i)\n",
    "    plt.show() "
   ]
  },
  {
   "cell_type": "code",
   "execution_count": null,
   "metadata": {},
   "outputs": [],
   "source": []
  }
 ],
 "metadata": {
  "kernelspec": {
   "display_name": "Python 3",
   "language": "python",
   "name": "python3"
  },
  "language_info": {
   "codemirror_mode": {
    "name": "ipython",
    "version": 3
   },
   "file_extension": ".py",
   "mimetype": "text/x-python",
   "name": "python",
   "nbconvert_exporter": "python",
   "pygments_lexer": "ipython3",
   "version": "3.6.5"
  },
  "toc": {
   "base_numbering": 1,
   "nav_menu": {},
   "number_sections": true,
   "sideBar": true,
   "skip_h1_title": false,
   "title_cell": "Table of Contents",
   "title_sidebar": "Contents",
   "toc_cell": false,
   "toc_position": {},
   "toc_section_display": true,
   "toc_window_display": false
  },
  "varInspector": {
   "cols": {
    "lenName": 16,
    "lenType": 16,
    "lenVar": 40
   },
   "kernels_config": {
    "python": {
     "delete_cmd_postfix": "",
     "delete_cmd_prefix": "del ",
     "library": "var_list.py",
     "varRefreshCmd": "print(var_dic_list())"
    },
    "r": {
     "delete_cmd_postfix": ") ",
     "delete_cmd_prefix": "rm(",
     "library": "var_list.r",
     "varRefreshCmd": "cat(var_dic_list()) "
    }
   },
   "types_to_exclude": [
    "module",
    "function",
    "builtin_function_or_method",
    "instance",
    "_Feature"
   ],
   "window_display": false
  }
 },
 "nbformat": 4,
 "nbformat_minor": 2
}
