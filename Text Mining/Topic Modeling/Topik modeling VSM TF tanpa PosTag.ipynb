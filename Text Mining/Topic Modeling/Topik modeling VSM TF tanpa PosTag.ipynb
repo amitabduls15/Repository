{
 "cells": [
  {
   "cell_type": "markdown",
   "metadata": {},
   "source": [
    "# Loading Data"
   ]
  },
  {
   "cell_type": "code",
   "execution_count": 1,
   "metadata": {
    "ExecuteTime": {
     "end_time": "2018-12-20T05:13:36.706026Z",
     "start_time": "2018-12-20T05:13:35.064776Z"
    }
   },
   "outputs": [],
   "source": [
    "import pandas as pd"
   ]
  },
  {
   "cell_type": "code",
   "execution_count": 2,
   "metadata": {
    "ExecuteTime": {
     "end_time": "2018-12-20T05:13:37.680989Z",
     "start_time": "2018-12-20T05:13:36.713024Z"
    }
   },
   "outputs": [
    {
     "data": {
      "text/html": [
       "<div>\n",
       "<style scoped>\n",
       "    .dataframe tbody tr th:only-of-type {\n",
       "        vertical-align: middle;\n",
       "    }\n",
       "\n",
       "    .dataframe tbody tr th {\n",
       "        vertical-align: top;\n",
       "    }\n",
       "\n",
       "    .dataframe thead th {\n",
       "        text-align: right;\n",
       "    }\n",
       "</style>\n",
       "<table border=\"1\" class=\"dataframe\">\n",
       "  <thead>\n",
       "    <tr style=\"text-align: right;\">\n",
       "      <th></th>\n",
       "      <th>Unnamed: 0</th>\n",
       "      <th>Tweet</th>\n",
       "      <th>TweetClean_NonPT</th>\n",
       "      <th>TweetClean_PT</th>\n",
       "    </tr>\n",
       "  </thead>\n",
       "  <tbody>\n",
       "    <tr>\n",
       "      <th>0</th>\n",
       "      <td>0</td>\n",
       "      <td>Udah ngeh blm min?\\r\\nItu sms 86mb jam 16.06 t...</td>\n",
       "      <td>sadar min sms 86 mb jam 16.06 tanggal 30.01 ke...</td>\n",
       "      <td>sadar min sms mb jam tanggal kemarin paketin t...</td>\n",
       "    </tr>\n",
       "    <tr>\n",
       "      <th>1</th>\n",
       "      <td>1</td>\n",
       "      <td>Dibaca itu yang kemarin min 86 mb... Pas jam 1...</td>\n",
       "      <td>dibaca kemarin min 86 mb .. jam 16.06 paketin ...</td>\n",
       "      <td>dibaca kemarin min mb jam paketin</td>\n",
       "    </tr>\n",
       "    <tr>\n",
       "      <th>2</th>\n",
       "      <td>2</td>\n",
       "      <td>@IndosatCare pusing saya min pake indosat... \\...</td>\n",
       "      <td>pusing min pakai .. kuota kesedot</td>\n",
       "      <td>pusing min kuota</td>\n",
       "    </tr>\n",
       "    <tr>\n",
       "      <th>3</th>\n",
       "      <td>3</td>\n",
       "      <td>Sudah min sudah, lagian apa yang mau di clear ...</td>\n",
       "      <td>min clear cache .. dibilang diuninstal diinsta...</td>\n",
       "      <td>min dibilang diuninstal diinstal sebulan min k...</td>\n",
       "    </tr>\n",
       "    <tr>\n",
       "      <th>4</th>\n",
       "      <td>4</td>\n",
       "      <td>@IndosatCare masi juga lelet euy,, apakah bts ...</td>\n",
       "      <td>masi lelet euy bts bermasalah didaerah karna k...</td>\n",
       "      <td>masi didaerah karna kantor</td>\n",
       "    </tr>\n",
       "  </tbody>\n",
       "</table>\n",
       "</div>"
      ],
      "text/plain": [
       "   Unnamed: 0                                              Tweet  \\\n",
       "0           0  Udah ngeh blm min?\\r\\nItu sms 86mb jam 16.06 t...   \n",
       "1           1  Dibaca itu yang kemarin min 86 mb... Pas jam 1...   \n",
       "2           2  @IndosatCare pusing saya min pake indosat... \\...   \n",
       "3           3  Sudah min sudah, lagian apa yang mau di clear ...   \n",
       "4           4  @IndosatCare masi juga lelet euy,, apakah bts ...   \n",
       "\n",
       "                                    TweetClean_NonPT  \\\n",
       "0  sadar min sms 86 mb jam 16.06 tanggal 30.01 ke...   \n",
       "1  dibaca kemarin min 86 mb .. jam 16.06 paketin ...   \n",
       "2                  pusing min pakai .. kuota kesedot   \n",
       "3  min clear cache .. dibilang diuninstal diinsta...   \n",
       "4  masi lelet euy bts bermasalah didaerah karna k...   \n",
       "\n",
       "                                       TweetClean_PT  \n",
       "0  sadar min sms mb jam tanggal kemarin paketin t...  \n",
       "1                  dibaca kemarin min mb jam paketin  \n",
       "2                                   pusing min kuota  \n",
       "3  min dibilang diuninstal diinstal sebulan min k...  \n",
       "4                         masi didaerah karna kantor  "
      ]
     },
     "execution_count": 2,
     "metadata": {},
     "output_type": "execute_result"
    }
   ],
   "source": [
    "tweet = pd.read_csv('C:/WinPython_64bit/notebooks/Kapita Selekta/Scrapping Tweet/TweetClean.csv')\n",
    "tweet.head()"
   ]
  },
  {
   "cell_type": "code",
   "execution_count": 3,
   "metadata": {
    "ExecuteTime": {
     "end_time": "2018-12-20T05:13:37.734962Z",
     "start_time": "2018-12-20T05:13:37.686988Z"
    }
   },
   "outputs": [],
   "source": [
    "listTweet=tweet['TweetClean_NonPT'].values.astype('U')\n",
    "listTweet = [d for d in listTweet]"
   ]
  },
  {
   "cell_type": "markdown",
   "metadata": {},
   "source": [
    "# MODEL VSM TF"
   ]
  },
  {
   "cell_type": "code",
   "execution_count": 4,
   "metadata": {
    "ExecuteTime": {
     "end_time": "2018-12-20T05:14:09.107453Z",
     "start_time": "2018-12-20T05:13:37.740955Z"
    }
   },
   "outputs": [
    {
     "data": {
      "text/plain": [
       "(4359, 7348)"
      ]
     },
     "execution_count": 4,
     "metadata": {},
     "output_type": "execute_result"
    }
   ],
   "source": [
    "#Pembentukan model svm TF untuk LDA\n",
    "import numpy as np\n",
    "from sklearn.feature_extraction.text import CountVectorizer\n",
    "tf_vectorizer = CountVectorizer()\n",
    "\n",
    "X = tf_vectorizer.fit_transform(listTweet)\n",
    "X_terms = tf_vectorizer.get_feature_names()\n",
    "# Mengapa tf bukan tfidf?\n",
    "# Blei, D. M., Ng, A. Y., & Jordan, M. I. (2003). Latent dirichlet allocation. Journal of machine Learning research, 3(Jan), 993-1022.\n",
    "# Saran: untuk penelitian VS di Industri.\n",
    "X.shape"
   ]
  },
  {
   "cell_type": "code",
   "execution_count": 5,
   "metadata": {
    "ExecuteTime": {
     "end_time": "2018-12-20T05:14:09.197643Z",
     "start_time": "2018-12-20T05:14:09.113798Z"
    }
   },
   "outputs": [
    {
     "name": "stdout",
     "output_type": "stream",
     "text": [
      "(4359, 7348)\n"
     ]
    }
   ],
   "source": [
    "import numpy as np\n",
    "#menghapus tf yang bernilai 0\n",
    "nidx = np.array(range(len(listTweet)))\n",
    "nidx = nidx[X.getnnz(1)>0] # Remove Zero Rows\n",
    "data_bersih = [listTweet[i] for i in nidx]\n",
    "X = X[X.getnnz(1)>0] # Remove Zero Rows\n",
    "X_terms = tf_vectorizer.get_feature_names()\n",
    "print(X.shape)"
   ]
  },
  {
   "cell_type": "markdown",
   "metadata": {},
   "source": [
    "# Percobaan berbagai Model"
   ]
  },
  {
   "cell_type": "markdown",
   "metadata": {},
   "source": [
    "## K-Means ++"
   ]
  },
  {
   "cell_type": "code",
   "execution_count": 6,
   "metadata": {
    "ExecuteTime": {
     "end_time": "2018-12-20T05:19:33.541975Z",
     "start_time": "2018-12-20T05:14:09.206637Z"
    }
   },
   "outputs": [
    {
     "name": "stderr",
     "output_type": "stream",
     "text": [
      "100%|████████████████████████████████████████████████████████████████████████████████████| 7/7 [05:18<00:00, 45.46s/it]\n"
     ]
    }
   ],
   "source": [
    "from sklearn import cluster\n",
    "from tqdm import tqdm\n",
    "\n",
    "seed = 99 #harus ditetapkan untuk mengoptimalkan cost function \n",
    "#atau untuk konvergen lebih cepat aja dalam pengelompokannya, \n",
    "#tidak ada hubungan antara nilai pasti dari seed dan hasil pengelompokan KMeans\n",
    "#seed ini harus ditentukan terlebih dahulu agar tidak menghasilkan pengelompokan yg berbeda setiap dijalankan aja\n",
    "C=[]\n",
    "K=[] \n",
    "kelompok = []\n",
    "for k in tqdm(range(2,9)):\n",
    "    kelompok.append(k)\n",
    "    kmPP = cluster.KMeans(n_clusters=k, init='k-means++', max_iter=300, tol=0.0001, n_jobs=-1, random_state = seed)\n",
    "    K.append(kmPP.fit(X))\n",
    "    C.append(kmPP.predict(X))"
   ]
  },
  {
   "cell_type": "code",
   "execution_count": 7,
   "metadata": {
    "ExecuteTime": {
     "end_time": "2018-12-20T05:19:54.771592Z",
     "start_time": "2018-12-20T05:19:33.547971Z"
    }
   },
   "outputs": [
    {
     "name": "stdout",
     "output_type": "stream",
     "text": [
      "K=2 ,nilai siluet 0.06108564474109709 \n",
      "K=3 ,nilai siluet 0.05200411095948502 \n",
      "K=4 ,nilai siluet 0.02065231373139576 \n",
      "K=5 ,nilai siluet 0.026014451713444582 \n",
      "K=6 ,nilai siluet -0.011427987820822407 \n",
      "K=7 ,nilai siluet 0.004055678798949313 \n",
      "K=8 ,nilai siluet 0.006824328141372005 \n",
      "dengan score terbesar 0.06108564474109709\n"
     ]
    }
   ],
   "source": [
    "#Evaluasi : Internal . Contoh Silouette Coefficient ==> warning hanya cocok untuk k-means/menggunakan centroid\n",
    "from sklearn.metrics import silhouette_score as siluet\n",
    "\n",
    "ScoreSiluet=[]\n",
    "i=int(kelompok[0])\n",
    "for res in C:\n",
    "    ScoreSiluet.append(siluet(X,res))\n",
    "    print(\"K={} ,nilai siluet {} \".format(i, siluet(X,res)))\n",
    "    i=i+1\n",
    "print(\"dengan score terbesar {}\".format(max(ScoreSiluet)))    "
   ]
  },
  {
   "cell_type": "code",
   "execution_count": 26,
   "metadata": {
    "ExecuteTime": {
     "end_time": "2018-12-20T13:09:11.890992Z",
     "start_time": "2018-12-20T13:08:51.110908Z"
    }
   },
   "outputs": [
    {
     "data": {
      "image/png": "[encoded data removed]",
      "text/plain": [
       "<Figure size 432x288 with 1 Axes>"
      ]
     },
     "metadata": {},
     "output_type": "display_data"
    },
    {
     "data": {
      "image/png": "[encoded data removed]",
      "text/plain": [
       "<Figure size 432x288 with 1 Axes>"
      ]
     },
     "metadata": {},
     "output_type": "display_data"
    },
    {
     "data": {
      "image/png": "[encoded data removed]",
      "text/plain": [
       "<Figure size 432x288 with 1 Axes>"
      ]
     },
     "metadata": {},
     "output_type": "display_data"
    },
    {
     "data": {
      "image/png": "[encoded data removed]",
      "text/plain": [
       "<Figure size 432x288 with 1 Axes>"
      ]
     },
     "metadata": {},
     "output_type": "display_data"
    },
    {
     "data": {
      "image/png": "[encoded data removed]",
      "text/plain": [
       "<Figure size 432x288 with 1 Axes>"
      ]
     },
     "metadata": {},
     "output_type": "display_data"
    },
    {
     "data": {
      "image/png": "[encoded data removed]",
      "text/plain": [
       "<Figure size 432x288 with 1 Axes>"
      ]
     },
     "metadata": {},
     "output_type": "display_data"
    },
    {
     "data": {
      "image/png": "[encoded data removed]",
      "text/plain": [
       "<Figure size 432x288 with 1 Axes>"
      ]
     },
     "metadata": {},
     "output_type": "display_data"
    }
   ],
   "source": [
    "#dengan 9 Kluster yang menurut Evaluasi secara internal terbaik \n",
    "import seaborn as sns\n",
    "import matplotlib.pyplot as plt\n",
    "\n",
    "for i in C:\n",
    "    sns.countplot(i)\n",
    "    plt.show()"
   ]
  },
  {
   "cell_type": "markdown",
   "metadata": {},
   "source": [
    "## Mini Batch K-Means++"
   ]
  },
  {
   "cell_type": "code",
   "execution_count": 9,
   "metadata": {
    "ExecuteTime": {
     "end_time": "2018-12-20T05:20:00.141389Z",
     "start_time": "2018-12-20T05:19:56.084031Z"
    }
   },
   "outputs": [
    {
     "name": "stderr",
     "output_type": "stream",
     "text": [
      "100%|████████████████████████████████████████████████████████████████████████████████████| 7/7 [00:03<00:00,  1.75it/s]\n"
     ]
    }
   ],
   "source": [
    "from sklearn import cluster\n",
    "from tqdm import tqdm\n",
    "\n",
    "# MiniBatch k-Means \n",
    "# http://scikit-learn.org/stable/modules/generated/sklearn.cluster.MiniBatchKMeans.html\n",
    "# minibatch \"tidak bisa parallel\"!!!...\n",
    "# parameter penting km = batch_size ... pada aplikasi sesungguhnya disarankan \"minimal\" 3xk\n",
    "\n",
    "seed = 99 #harus ditetapkan untuk mengoptimalkan cost function \n",
    "#atau untuk konvergen lebih cepat aja dalam pengelompokannya, \n",
    "#tidak ada hubungan antara nilai pasti dari seed dan hasil pengelompokan KMeans\n",
    "#seed ini harus ditentukan terlebih dahulu agar tidak menghasilkan pengelompokan yg berbeda setiap dijalankan aja\n",
    "Cmb=[]\n",
    "Kmb=[] \n",
    "kelompokMb = []\n",
    "for k in tqdm(range(2,9)):\n",
    "    kelompokMb.append(k)\n",
    "    MiniBatchKM = cluster.MiniBatchKMeans(n_clusters=k, init='k-means++', max_iter=300,batch_size=10 , tol=0.0001, random_state = seed) \n",
    "    Kmb.append(MiniBatchKM.fit(X))\n",
    "    Cmb.append(MiniBatchKM.predict(X))"
   ]
  },
  {
   "cell_type": "code",
   "execution_count": 10,
   "metadata": {
    "ExecuteTime": {
     "end_time": "2018-12-20T05:20:19.106526Z",
     "start_time": "2018-12-20T05:20:00.146391Z"
    }
   },
   "outputs": [
    {
     "name": "stdout",
     "output_type": "stream",
     "text": [
      "K=2 ,nilai siluet 0.0892613943640298 \n",
      "K=3 ,nilai siluet 0.07171874143766606 \n",
      "K=4 ,nilai siluet 0.053488002184451836 \n",
      "K=5 ,nilai siluet -0.15878074003496181 \n",
      "K=6 ,nilai siluet 0.05570346506754456 \n",
      "K=7 ,nilai siluet -0.07793429881722708 \n",
      "K=8 ,nilai siluet 0.08310677594311161 \n",
      "dengan score terbesar 0.0892613943640298\n"
     ]
    }
   ],
   "source": [
    "#Evaluasi : Internal . Contoh Silouette Coefficient ==> warning hanya cocok untuk k-means/menggunakan centroid\n",
    "from sklearn.metrics import silhouette_score as siluet\n",
    "\n",
    "ScoreSiluet=[]\n",
    "i=int(kelompok[0])\n",
    "for res in Cmb:\n",
    "    ScoreSiluet.append(siluet(X,res))\n",
    "    print(\"K={} ,nilai siluet {} \".format(i, siluet(X,res)))\n",
    "    i=i+1\n",
    "print(\"dengan score terbesar {}\".format(max(ScoreSiluet)))   "
   ]
  },
  {
   "cell_type": "code",
   "execution_count": 11,
   "metadata": {
    "ExecuteTime": {
     "end_time": "2018-12-20T05:20:21.363966Z",
     "start_time": "2018-12-20T05:20:19.111527Z"
    },
    "scrolled": true
   },
   "outputs": [
    {
     "data": {
      "image/png": "[encoded data removed]",
      "text/plain": [
       "<Figure size 432x288 with 1 Axes>"
      ]
     },
     "metadata": {},
     "output_type": "display_data"
    },
    {
     "data": {
      "image/png": "[encoded data removed]",
      "text/plain": [
       "<Figure size 432x288 with 1 Axes>"
      ]
     },
     "metadata": {},
     "output_type": "display_data"
    },
    {
     "data": {
      "image/png": "[encoded data removed]",
      "text/plain": [
       "<Figure size 432x288 with 1 Axes>"
      ]
     },
     "metadata": {},
     "output_type": "display_data"
    },
    {
     "data": {
      "image/png": "[encoded data removed]",
      "text/plain": [
       "<Figure size 432x288 with 1 Axes>"
      ]
     },
     "metadata": {},
     "output_type": "display_data"
    },
    {
     "data": {
      "image/png": "[encoded data removed]",
      "text/plain": [
       "<Figure size 432x288 with 1 Axes>"
      ]
     },
     "metadata": {},
     "output_type": "display_data"
    },
    {
     "data": {
      "image/png": "[encoded data removed]",
      "text/plain": [
       "<Figure size 432x288 with 1 Axes>"
      ]
     },
     "metadata": {},
     "output_type": "display_data"
    },
    {
     "data": {
      "image/png": "[encoded data removed]",
      "text/plain": [
       "<Figure size 432x288 with 1 Axes>"
      ]
     },
     "metadata": {},
     "output_type": "display_data"
    }
   ],
   "source": [
    "import seaborn as sns\n",
    "import matplotlib.pyplot as plt\n",
    "\n",
    "for i in Cmb:\n",
    "    sns.countplot(i)\n",
    "    plt.show()"
   ]
  },
  {
   "cell_type": "markdown",
   "metadata": {},
   "source": [
    "## DBSCAN Clustering"
   ]
  },
  {
   "cell_type": "code",
   "execution_count": 12,
   "metadata": {
    "ExecuteTime": {
     "end_time": "2018-12-20T05:20:22.648689Z",
     "start_time": "2018-12-20T05:20:21.373698Z"
    }
   },
   "outputs": [],
   "source": [
    "from sklearn import cluster\n",
    "\n",
    "DBScan = cluster.DBSCAN(eps=1)\n",
    "DBScan.fit(X)\n",
    "C_DB = DBScan.labels_.astype(np.int)"
   ]
  },
  {
   "cell_type": "code",
   "execution_count": 13,
   "metadata": {
    "ExecuteTime": {
     "end_time": "2018-12-20T05:20:24.003058Z",
     "start_time": "2018-12-20T05:20:22.653688Z"
    }
   },
   "outputs": [
    {
     "data": {
      "text/plain": [
       "-0.29152693213614805"
      ]
     },
     "execution_count": 13,
     "metadata": {},
     "output_type": "execute_result"
    }
   ],
   "source": [
    "siluet(X,C_DB)"
   ]
  },
  {
   "cell_type": "code",
   "execution_count": 14,
   "metadata": {
    "ExecuteTime": {
     "end_time": "2018-12-20T05:20:24.352509Z",
     "start_time": "2018-12-20T05:20:24.010438Z"
    }
   },
   "outputs": [
    {
     "data": {
      "image/png": "[encoded data removed]",
      "text/plain": [
       "<Figure size 432x288 with 1 Axes>"
      ]
     },
     "metadata": {},
     "output_type": "display_data"
    }
   ],
   "source": [
    "import seaborn as sns\n",
    "import matplotlib.pyplot as plt\n",
    "\n",
    "sns.countplot(C_DB)\n",
    "plt.show()"
   ]
  },
  {
   "cell_type": "markdown",
   "metadata": {},
   "source": [
    "## LDA Clustering"
   ]
  },
  {
   "cell_type": "code",
   "execution_count": 15,
   "metadata": {
    "ExecuteTime": {
     "end_time": "2018-12-20T05:24:57.222346Z",
     "start_time": "2018-12-20T05:20:24.358470Z"
    }
   },
   "outputs": [
    {
     "name": "stderr",
     "output_type": "stream",
     "text": [
      "100%|████████████████████████████████████████████████████████████████████████████████████| 7/7 [04:32<00:00, 38.97s/it]\n"
     ]
    }
   ],
   "source": [
    "from sklearn.decomposition import LatentDirichletAllocation as LDA\n",
    "\n",
    "lda=[]\n",
    "for n_topics in tqdm(range(2,9)):\n",
    "    model=LDA(n_components=n_topics, learning_method='batch', random_state=0).fit(X)\n",
    "    lda.append(model)"
   ]
  },
  {
   "cell_type": "code",
   "execution_count": 16,
   "metadata": {
    "ExecuteTime": {
     "end_time": "2018-12-20T05:25:08.443484Z",
     "start_time": "2018-12-20T05:24:57.228341Z"
    }
   },
   "outputs": [
    {
     "name": "stderr",
     "output_type": "stream",
     "text": [
      "100%|████████████████████████████████████████████████████████████████████████████████████| 7/7 [00:11<00:00,  1.60s/it]\n"
     ]
    }
   ],
   "source": [
    "vsm_topics=[]\n",
    "for i in tqdm(lda):\n",
    "    vsm_topics.append(i.transform(X))\n",
    "    #ini matriks topik terhadap masing-masing kata "
   ]
  },
  {
   "cell_type": "code",
   "execution_count": 17,
   "metadata": {
    "ExecuteTime": {
     "end_time": "2018-12-20T05:25:08.521699Z",
     "start_time": "2018-12-20T05:25:08.443484Z"
    }
   },
   "outputs": [
    {
     "name": "stderr",
     "output_type": "stream",
     "text": [
      "100%|███████████████████████████████████████████████████████████████████████████████████| 7/7 [00:00<00:00, 143.83it/s]\n"
     ]
    }
   ],
   "source": [
    "doc_topic=[]\n",
    "for i in tqdm(range(len(vsm_topics))):\n",
    "    doc_topic.append([a.argmax()+1 for a in vsm_topics[i]]) # topic of docs"
   ]
  },
  {
   "cell_type": "code",
   "execution_count": 18,
   "metadata": {
    "ExecuteTime": {
     "end_time": "2018-12-20T05:25:09.688839Z",
     "start_time": "2018-12-20T05:25:08.526687Z"
    },
    "scrolled": false
   },
   "outputs": [
    {
     "data": {
      "image/png": "[encoded data removed]",
      "text/plain": [
       "<Figure size 432x288 with 1 Axes>"
      ]
     },
     "metadata": {},
     "output_type": "display_data"
    },
    {
     "data": {
      "image/png": "[encoded data removed]",
      "text/plain": [
       "<Figure size 432x288 with 1 Axes>"
      ]
     },
     "metadata": {},
     "output_type": "display_data"
    },
    {
     "data": {
      "image/png": "[encoded data removed]",
      "text/plain": [
       "<Figure size 432x288 with 1 Axes>"
      ]
     },
     "metadata": {},
     "output_type": "display_data"
    },
    {
     "data": {
      "image/png": "[encoded data removed]",
      "text/plain": [
       "<Figure size 432x288 with 1 Axes>"
      ]
     },
     "metadata": {},
     "output_type": "display_data"
    },
    {
     "data": {
      "image/png": "[encoded data removed]",
      "text/plain": [
       "<Figure size 432x288 with 1 Axes>"
      ]
     },
     "metadata": {},
     "output_type": "display_data"
    },
    {
     "data": {
      "image/png": "[encoded data removed]",
      "text/plain": [
       "<Figure size 432x288 with 1 Axes>"
      ]
     },
     "metadata": {},
     "output_type": "display_data"
    },
    {
     "data": {
      "image/png": "[encoded data removed]",
      "text/plain": [
       "<Figure size 432x288 with 1 Axes>"
      ]
     },
     "metadata": {},
     "output_type": "display_data"
    }
   ],
   "source": [
    "import matplotlib.pyplot as plt\n",
    "import seaborn as sns\n",
    "for i in doc_topic:\n",
    "    sns.countplot(i)\n",
    "    plt.show() "
   ]
  },
  {
   "cell_type": "code",
   "execution_count": 19,
   "metadata": {
    "ExecuteTime": {
     "end_time": "2018-12-20T05:25:09.703895Z",
     "start_time": "2018-12-20T05:25:09.688839Z"
    }
   },
   "outputs": [],
   "source": [
    "def print_Topics(model, feature_names, Top_Topics, n_top_words):\n",
    "    for topic_idx, topic in enumerate(model.components_[:Top_Topics]):\n",
    "        print(\"Topic #%d:\" %(topic_idx+1))\n",
    "        print(\" \".join([feature_names[i]\n",
    "                        for i in topic.argsort()[:-n_top_words - 1:-1]]))"
   ]
  },
  {
   "cell_type": "code",
   "execution_count": 28,
   "metadata": {
    "ExecuteTime": {
     "end_time": "2018-12-20T13:10:36.995441Z",
     "start_time": "2018-12-20T13:10:36.809547Z"
    }
   },
   "outputs": [
    {
     "name": "stdout",
     "output_type": "stream",
     "text": [
      "Printing top 3 Topics, with top 15 Words:\n",
      "Topic #1:\n",
      "paket min ya kuota pulsa internet pakai data gb yellow kak beli sms kah habis\n",
      "Topic #2:\n",
      "pulsa dm sms tolong langgan ya cek min isi kali potong mohon nya respon kepotong\n",
      "Topic #3:\n",
      "jaring sinyal banget lemot nya min ya internet pakai tolong kali kah nih cepat dm\n"
     ]
    }
   ],
   "source": [
    "# Mari kita coba maknai masing-masing topic ini\n",
    "Top_Words=15 #ini mau memunculkan berapa banyak kata, untuk memudahkan pendefinisian kelompok\n",
    "Ntopic=3\n",
    "print('Printing top {0} Topics, with top {1} Words:'.format(Ntopic, Top_Words))\n",
    "print_Topics(lda[Ntopic-2], X_terms,Ntopic, Top_Words)"
   ]
  },
  {
   "cell_type": "code",
   "execution_count": 21,
   "metadata": {
    "ExecuteTime": {
     "end_time": "2018-12-20T05:25:28.860264Z",
     "start_time": "2018-12-20T05:25:09.924970Z"
    }
   },
   "outputs": [
    {
     "data": {
      "text/html": [
       "\n",
       "<link rel=\"stylesheet\" type=\"text/css\" href=\"https://cdn.rawgit.com/bmabey/pyLDAvis/files/ldavis.v1.0.0.css\">\n",
       "\n",
       "\n",
       "<div id=\"ldavis_el1106425497636049121857934422\"></div>\n",
       "<script type=\"text/javascript\">\n",
       "\n",
       "var ldavis_el1106425497636049121857934422_data = {\"mdsDat\": {\"Freq\": [38.247425265987204, 34.075475215564374, 27.67709951844842], \"cluster\": [1, 1, 1], \"topics\": [1, 2, 3], \"x\": [-0.09558335376218499, -0.0802631553112444, 0.1758465090734294], \"y\": [0.10325169988211236, -0.10942810301157423, 0.006176403129461845]}, \"tinfo\": {\"Category\": [\"Default\", \"Default\", \"Default\", \"Default\", \"Default\", \"Default\", \"Default\", \"Default\", \"Default\", \"Default\", \"Default\", \"Default\", \"Default\", \"Default\", \"Default\", \"Default\", \"Default\", \"Default\", \"Default\", \"Default\", \"Default\", \"Default\", \"Default\", \"Default\", \"Default\", \"Default\", \"Default\", \"Default\", \"Default\", \"Default\", \"Topic1\", \"Topic1\", \"Topic1\", \"Topic1\", \"Topic1\", \"Topic1\", \"Topic1\", \"Topic1\", \"Topic1\", \"Topic1\", \"Topic1\", \"Topic1\", \"Topic1\", \"Topic1\", \"Topic1\", \"Topic1\", \"Topic1\", \"Topic1\", \"Topic1\", \"Topic1\", \"Topic1\", \"Topic1\", \"Topic1\", \"Topic1\", \"Topic1\", \"Topic1\", \"Topic1\", \"Topic1\", \"Topic1\", \"Topic1\", \"Topic1\", \"Topic1\", \"Topic1\", \"Topic1\", \"Topic1\", \"Topic1\", \"Topic1\", \"Topic1\", \"Topic1\", \"Topic1\", \"Topic1\", \"Topic1\", \"Topic1\", \"Topic1\", \"Topic1\", \"Topic1\", \"Topic1\", \"Topic1\", \"Topic1\", \"Topic1\", \"Topic1\", \"Topic1\", \"Topic1\", \"Topic1\", \"Topic1\", \"Topic1\", \"Topic1\", \"Topic1\", \"Topic1\", \"Topic1\", \"Topic1\", \"Topic1\", \"Topic1\", \"Topic1\", \"Topic2\", \"Topic2\", \"Topic2\", \"Topic2\", \"Topic2\", \"Topic2\", \"Topic2\", \"Topic2\", \"Topic2\", \"Topic2\", \"Topic2\", \"Topic2\", \"Topic2\", \"Topic2\", \"Topic2\", \"Topic2\", \"Topic2\", \"Topic2\", \"Topic2\", \"Topic2\", \"Topic2\", \"Topic2\", \"Topic2\", \"Topic2\", \"Topic2\", \"Topic2\", \"Topic2\", \"Topic2\", \"Topic2\", \"Topic2\", \"Topic2\", \"Topic2\", \"Topic2\", \"Topic2\", \"Topic2\", \"Topic2\", \"Topic2\", \"Topic2\", \"Topic2\", \"Topic2\", \"Topic2\", \"Topic2\", \"Topic2\", \"Topic2\", \"Topic2\", \"Topic2\", \"Topic2\", \"Topic2\", \"Topic2\", \"Topic2\", \"Topic2\", \"Topic2\", \"Topic2\", \"Topic2\", \"Topic2\", \"Topic2\", \"Topic2\", \"Topic2\", \"Topic2\", \"Topic2\", \"Topic2\", \"Topic2\", \"Topic2\", \"Topic2\", \"Topic2\", \"Topic2\", \"Topic2\", \"Topic2\", \"Topic3\", \"Topic3\", \"Topic3\", \"Topic3\", \"Topic3\", \"Topic3\", \"Topic3\", \"Topic3\", \"Topic3\", \"Topic3\", \"Topic3\", \"Topic3\", \"Topic3\", \"Topic3\", \"Topic3\", \"Topic3\", \"Topic3\", \"Topic3\", \"Topic3\", \"Topic3\", \"Topic3\", \"Topic3\", \"Topic3\", \"Topic3\", \"Topic3\", \"Topic3\", \"Topic3\", \"Topic3\", \"Topic3\", \"Topic3\", \"Topic3\", \"Topic3\", \"Topic3\", \"Topic3\", \"Topic3\", \"Topic3\", \"Topic3\", \"Topic3\", \"Topic3\", \"Topic3\", \"Topic3\", \"Topic3\", \"Topic3\", \"Topic3\", \"Topic3\", \"Topic3\", \"Topic3\", \"Topic3\", \"Topic3\", \"Topic3\", \"Topic3\", \"Topic3\", \"Topic3\", \"Topic3\", \"Topic3\", \"Topic3\", \"Topic3\", \"Topic3\"], \"Freq\": [1650.0, 990.0, 363.0, 407.0, 207.0, 304.0, 456.0, 236.0, 225.0, 295.0, 150.0, 249.0, 250.0, 492.0, 81.0, 104.0, 84.0, 263.0, 79.0, 170.0, 77.0, 213.0, 95.0, 272.0, 294.0, 78.0, 87.0, 146.0, 103.0, 78.0, 95.29376793199049, 84.60791278286247, 148.30405900097088, 34.89181805580048, 67.14086316958495, 30.398318056750853, 27.78656475736136, 26.90875107816552, 55.54020629633672, 25.142299741880763, 24.24691451720258, 24.20810615122294, 22.468296570830475, 18.038505537688074, 21.427255053059806, 18.82602765208555, 227.56622694698225, 100.05421637859115, 62.43870522965789, 15.385269005144519, 14.476042524272346, 14.461807374197065, 19.546946407278103, 946.969850910612, 12.723567532497606, 11.840065671212018, 11.829553199602856, 12.67045400330767, 12.666553078470686, 11.810130196696797, 208.23870459954756, 27.566648444990008, 38.016914190680474, 211.30472551273624, 205.1112988376248, 78.59512930617807, 236.74780414709312, 104.87406906543379, 70.50134697574785, 191.50187214360633, 75.08611519172717, 332.7061065255851, 507.37111994559217, 503.24401064067945, 195.60757480385166, 129.44379018728964, 78.13052288165197, 67.67013728984047, 253.7481675004883, 64.11190760965309, 162.49099236849017, 241.77208930109774, 110.00782470592631, 198.632704759786, 125.52429210264788, 199.26381274145493, 156.6364322028991, 94.40987856896702, 329.72008090334316, 127.33700600270717, 91.45304032969148, 119.44077847009285, 88.5618369050538, 89.0886190749719, 68.89408699723218, 40.690071232736486, 36.331897270633156, 50.12747655188462, 70.85698923236482, 34.53915454567325, 30.183400862662115, 102.44192116741718, 28.401825451712096, 27.524771854399724, 42.94151913932326, 25.750601830852396, 41.10567965305425, 19.635320596351917, 85.34792459778863, 18.70995472768447, 20.39623306890755, 19.527175422582726, 16.121509832906188, 16.09663469510374, 18.636340263509698, 16.910461182159217, 15.175854966020903, 13.47907973353552, 12.59214320266907, 11.719651670849387, 11.705031855664043, 11.681605805193186, 10.83871994973851, 10.83633368158649, 34.43338758794042, 67.21258292518911, 1320.7001886041016, 37.81012508888225, 50.80218096432604, 75.73910558232569, 356.48886122608434, 118.44090724648633, 136.20088077494728, 108.9653934033739, 59.48485057562572, 146.56879147133495, 56.41822792547019, 114.67725152622361, 60.75293445679417, 277.2716277518145, 257.348149405212, 169.91930879602648, 111.28994786536924, 154.10654887741916, 78.96767801910356, 75.69412838648783, 91.10551929275094, 146.4805730689954, 93.66259784859572, 108.21492718025243, 127.88769870636806, 109.69202178346238, 77.87662577679828, 124.78818972688507, 167.47060326602042, 71.8566064006533, 150.23930029513627, 112.44925780369638, 105.27044257430133, 95.5739626689515, 102.15765917768712, 83.07690814603345, 207.27518432759092, 361.0717089855674, 80.84599997912602, 79.11038424285898, 61.77509994170346, 75.9869556461524, 43.530491121429904, 39.221114377697546, 36.62614341048709, 44.25583973459577, 36.59602013775055, 31.458699694727954, 30.59256806335144, 33.10597169301894, 46.66604092861801, 82.97902728323403, 27.929586105353938, 41.449667221512165, 23.665365174505897, 21.06871055057553, 34.47231853723052, 22.633122922018366, 52.78768856407022, 16.746125639062406, 19.24625491273576, 16.73407324760982, 16.725284294613758, 15.87876823009662, 16.709881509678766, 15.872297928103045, 385.70162550744345, 73.91742180949815, 32.06283262179267, 71.53757277437391, 35.82905032690505, 242.29971884355675, 45.699250153849086, 37.996564117386534, 43.07570061047336, 81.4465167397202, 190.021475694907, 43.601243675390634, 61.031815439241356, 104.45901597114369, 160.05653508759576, 137.03060362966525, 141.7695386030891, 186.19987227530146, 140.31307659783832, 171.52220205701448, 79.39281237390882, 61.176609505926905, 107.14540764500393, 78.86779790876814, 72.77380221452042, 82.46694296136518, 66.96665552297478, 68.91855187178744], \"Term\": [\"pulsa\", \"paket\", \"sinyal\", \"jaring\", \"lemot\", \"banget\", \"dm\", \"gb\", \"kak\", \"data\", \"unlimited\", \"yellow\", \"beli\", \"sms\", \"daerah\", \"id\", \"cepat\", \"daftar\", \"jelek\", \"potong\", \"sinyalnya\", \"isi\", \"myim3\", \"rb\", \"habis\", \"parah\", \"ylki\", \"respon\", \"freedom\", \"koneksi\", \"myim3\", \"aplikasi\", \"unlimited\", \"paketin\", \"off\", \"sim\", \"apps\", \"rollover\", \"combo\", \"paketnya\", \"my\", \"bonus\", \"363\", \"card\", \"gambar\", \"not\", \"gb\", \"freedom\", \"perpanjang\", \"regis\", \"upgrade\", \"vpn\", \"plsa\", \"paket\", \"kk\", \"http\", \"usage\", \"arti\", \"pkt\", \"01\", \"kak\", \"terang\", \"hangus\", \"yellow\", \"beli\", \"selamat\", \"data\", \"malam\", \"youtube\", \"daftar\", \"muncul\", \"kuota\", \"min\", \"ya\", \"habis\", \"aktif\", \"halo\", \"gagal\", \"internet\", \"otomatis\", \"rb\", \"pakai\", \"kartu\", \"kah\", \"jam\", \"sms\", \"mohon\", \"bantu\", \"pulsa\", \"cek\", \"registrasi\", \"tolong\", \"nomor\", \"kali\", \"konten\", \"kembalikan\", \"transfer\", \"balikin\", \"kemkominfo\", \"aduanbrti\", \"curi\", \"id\", \"maling\", \"dipotong\", \"tau\", \"ngisi\", \"cc\", \"jelas\", \"ylki\", \"ditindaklanjuti\", \"wib\", \"400\", \"rudiantara\", \"kalinya\", \"dikembalikan\", \"21\", \"ludes\", \"ditanggepin\", \"700\", \"lenyap\", \"ngambil\", \"diisi\", \"disedot\", \"nyolong\", \"12\", \"apapun\", \"pulsa\", \"prime\", \"direspon\", \"rp\", \"dm\", \"respon\", \"potong\", \"komplain\", \"tinggal\", \"isi\", \"bayar\", \"kepotong\", \"sedot\", \"sms\", \"tolong\", \"langgan\", \"hilang\", \"cek\", \"keluh\", \"ribu\", \"kesedot\", \"kali\", \"layan\", \"nomor\", \"mohon\", \"rb\", \"sisa\", \"nya\", \"ya\", \"langsung\", \"min\", \"kuota\", \"kah\", \"habis\", \"pakai\", \"kemarin\", \"lemot\", \"sinyal\", \"daerah\", \"jelek\", \"speed\", \"sinyalnya\", \"kualitas\", \"lokasi\", \"kadang\", \"lelet\", \"perbaiki\", \"kbps\", \"rumah\", \"fup\", \"signal\", \"cepat\", \"jakarta\", \"manual\", \"mbps\", \"area\", \"buruk\", \"kota\", \"susah\", \"klaten\", \"mentok\", \"edge\", \"payah\", \"down\", \"murah\", \"lte\", \"jaring\", \"parah\", \"stabil\", \"koneksi\", \"turun\", \"banget\", \"internetnya\", \"full\", \"pindah\", \"ganggu\", \"nya\", \"minggu\", \"provider\", \"nih\", \"internet\", \"kali\", \"pakai\", \"min\", \"tolong\", \"ya\", \"layan\", \"ganti\", \"kah\", \"gini\", \"sih\", \"dm\", \"langgan\", \"kuota\"], \"Total\": [1650.0, 990.0, 363.0, 407.0, 207.0, 304.0, 456.0, 236.0, 225.0, 295.0, 150.0, 249.0, 250.0, 492.0, 81.0, 104.0, 84.0, 263.0, 79.0, 170.0, 77.0, 213.0, 95.0, 272.0, 294.0, 78.0, 87.0, 146.0, 103.0, 78.0, 95.906676529833, 85.24854310134967, 150.05364285343353, 35.514428444218005, 68.36832429383178, 31.07319866692786, 28.409210676849792, 27.52137912027076, 56.812701160226126, 25.74518284585541, 24.85681409379353, 24.85591395395472, 23.080652031306297, 18.640164593381296, 22.188921682210616, 19.527066170814226, 236.13137695755162, 103.82267306431903, 64.80558883221047, 15.976041963182254, 15.08733373422259, 15.087525748356587, 20.41395210589382, 990.7103681684112, 13.311709705267171, 12.423632929097222, 12.42353473916266, 13.31043705873231, 13.311102159374736, 12.423245819924464, 225.21916206857708, 29.28702128159957, 41.70180303152602, 249.1933072960734, 250.88977133148165, 91.25401672099818, 295.17745048055974, 125.67961584915287, 85.76924841714003, 263.95832235724436, 93.69726637205888, 514.073916201069, 843.8102925160299, 842.2368159637144, 294.7355725239432, 180.67907750587258, 100.83966684450247, 85.03181857563587, 466.1805806949025, 82.33410749063768, 272.478383494101, 485.699287081874, 172.88521856488723, 411.04855497909125, 223.40189399647795, 492.5019070900266, 330.6560364220198, 143.28046741677684, 1650.7299538303707, 298.27890860210294, 146.0091822554565, 517.1020044731431, 237.72275857269813, 372.59979577363254, 69.49096969640024, 41.34268283553377, 36.94364382195902, 51.016055665263856, 72.13144103330394, 35.18466013830092, 30.7862268506411, 104.69251802951784, 29.027025967840935, 28.1471155871006, 43.97469257588534, 26.388094344499, 42.217455671835076, 20.23048128722429, 87.9826723718891, 19.35023714530176, 21.11109200323752, 20.23128745831246, 16.711786890769254, 16.711884537474592, 19.351977893996875, 17.59177720101804, 15.832654233671125, 14.072714727403293, 13.193335394683976, 12.313596690173016, 12.313533750102875, 12.313919303725783, 11.433973476481523, 11.433890664339136, 36.961629082318474, 73.89846877120642, 1650.7299538303707, 41.333372036390884, 57.107199820231095, 87.18744854921542, 456.3198647347743, 146.5046279865413, 170.9770288540407, 134.2436946076264, 74.70347729700234, 213.49879290700176, 70.39382946844859, 164.07926913642993, 77.5623670888665, 492.5019070900266, 517.1020044731431, 315.51793166852264, 180.046592835045, 298.27890860210294, 119.90612919888943, 114.71936975646886, 164.30599125239436, 372.59979577363254, 178.28094020210074, 237.72275857269813, 330.6560364220198, 272.478383494101, 140.45410352044712, 394.56877046128244, 842.2368159637144, 118.96576235292034, 843.8102925160299, 514.073916201069, 411.04855497909125, 294.7355725239432, 485.699287081874, 182.11368422756033, 207.94007237942643, 363.050769762068, 81.44992712128355, 79.71721594210125, 62.39026577762114, 77.13126568896982, 44.19731161053797, 39.86561171152519, 37.26618158969239, 45.065949756848646, 37.26648391858498, 32.06747229314002, 31.201041197068836, 33.80172860009177, 47.66786822286039, 84.93628023968131, 28.603377488302574, 42.473941272945865, 24.27015681215338, 21.671012633786006, 35.53971768935376, 23.407929093419018, 54.61123000000422, 17.33898515527878, 19.939740013954424, 17.339244195401033, 17.33935278634263, 16.47264938849747, 17.33965229604363, 16.472779976327384, 407.7263726883294, 78.92103067322996, 33.82850643136248, 78.13057339304238, 38.174298430486395, 304.27367392637365, 53.021978042484236, 43.42029869754649, 51.30770368251896, 117.84762910961709, 394.56877046128244, 52.99665410728612, 88.7991244451355, 217.82396739492685, 466.1805806949025, 372.59979577363254, 485.699287081874, 843.8102925160299, 517.1020044731431, 842.2368159637144, 178.28094020210074, 107.52166685728403, 411.04855497909125, 209.825019097616, 177.88106829498622, 456.3198647347743, 315.51793166852264, 514.073916201069], \"loglift\": [30.0, 29.0, 28.0, 27.0, 26.0, 25.0, 24.0, 23.0, 22.0, 21.0, 20.0, 19.0, 18.0, 17.0, 16.0, 15.0, 14.0, 13.0, 12.0, 11.0, 10.0, 9.0, 8.0, 7.0, 6.0, 5.0, 4.0, 3.0, 2.0, 1.0, 0.9547, 0.9536, 0.9494, 0.9434, 0.943, 0.9391, 0.9389, 0.9386, 0.9384, 0.9374, 0.9363, 0.9347, 0.9342, 0.9283, 0.9262, 0.9245, 0.9241, 0.9241, 0.9239, 0.9234, 0.9197, 0.9187, 0.9177, 0.9159, 0.9159, 0.913, 0.9121, 0.9118, 0.9115, 0.9105, 0.8827, 0.9006, 0.8686, 0.7962, 0.7596, 0.8118, 0.7405, 0.7801, 0.7651, 0.6402, 0.7397, 0.526, 0.4524, 0.4461, 0.5511, 0.6276, 0.7059, 0.7327, 0.3529, 0.7109, 0.4442, 0.2635, 0.509, 0.2338, 0.3846, 0.0562, 0.2139, 0.5439, -0.6496, 0.1099, 0.4933, -0.5043, -0.0263, -0.4698, 1.068, 1.0607, 1.0599, 1.059, 1.0588, 1.0581, 1.0568, 1.0549, 1.0548, 1.0542, 1.0528, 1.0521, 1.0499, 1.0467, 1.0462, 1.0429, 1.0421, 1.0412, 1.0406, 1.0391, 1.0389, 1.0371, 1.0342, 1.0335, 1.03, 1.0272, 1.0259, 1.0239, 1.0231, 1.0229, 1.0057, 0.9818, 0.8535, 0.9875, 0.9596, 0.9358, 0.8297, 0.8639, 0.8492, 0.868, 0.8488, 0.7005, 0.8553, 0.7184, 0.8323, 0.5021, 0.3788, 0.4577, 0.5955, 0.4162, 0.6589, 0.6608, 0.4869, 0.143, 0.4329, 0.2896, 0.1267, 0.1667, 0.4868, -0.0746, -0.5387, 0.5724, -0.6491, -0.4433, -0.2856, -0.0496, -0.4825, 0.2917, 1.2814, 1.2791, 1.2771, 1.2769, 1.2747, 1.2696, 1.2694, 1.2683, 1.2672, 1.2664, 1.2664, 1.2654, 1.2649, 1.2638, 1.2633, 1.2613, 1.2607, 1.2602, 1.2593, 1.2564, 1.2541, 1.2509, 1.2506, 1.2498, 1.2492, 1.249, 1.2485, 1.2478, 1.2476, 1.2474, 1.229, 1.2191, 1.231, 1.1964, 1.2212, 1.0568, 1.1359, 1.1511, 1.1097, 0.9151, 0.5539, 1.0894, 0.9096, 0.5497, 0.2155, 0.2843, 0.0532, -0.2265, -0.0198, -0.3068, 0.4756, 0.7206, -0.06, 0.3061, 0.3908, -0.4262, -0.2655, -0.7249], \"logprob\": [30.0, 29.0, 28.0, 27.0, 26.0, 25.0, 24.0, 23.0, 22.0, 21.0, 20.0, 19.0, 18.0, 17.0, 16.0, 15.0, 14.0, 13.0, 12.0, 11.0, 10.0, 9.0, 8.0, 7.0, 6.0, 5.0, 4.0, 3.0, 2.0, 1.0, -5.3683, -5.4872, -4.926, -6.373, -5.7185, -6.5109, -6.6007, -6.6328, -5.9082, -6.7007, -6.737, -6.7386, -6.8132, -7.0328, -6.8606, -6.99, -4.4978, -5.3196, -5.7911, -7.1919, -7.2528, -7.2538, -6.9525, -3.072, -7.3818, -7.4538, -7.4547, -7.386, -7.3863, -7.4563, -4.5866, -6.6087, -6.2872, -4.572, -4.6017, -5.561, -4.4583, -5.2725, -5.6696, -4.6704, -5.6066, -4.118, -3.696, -3.7042, -4.6492, -5.062, -5.5669, -5.7106, -4.3889, -5.7646, -4.8347, -4.4373, -5.2247, -4.6338, -5.0928, -4.6306, -4.8713, -5.3776, -4.127, -5.0784, -5.4095, -5.1425, -5.4416, -5.4356, -5.5772, -6.1038, -6.2171, -5.8952, -5.5491, -6.2677, -6.4025, -5.1805, -6.4633, -6.4947, -6.0499, -6.5613, -6.0936, -6.8324, -5.363, -6.8807, -6.7944, -6.838, -7.0296, -7.0312, -6.8847, -6.9818, -7.0901, -7.2086, -7.2767, -7.3485, -7.3498, -7.3518, -7.4267, -7.4269, -6.2708, -5.6019, -2.6239, -6.1772, -5.8818, -5.4825, -3.9335, -5.0354, -4.8956, -5.1187, -5.7241, -4.8223, -5.777, -5.0677, -5.703, -4.1848, -4.2593, -4.6745, -5.0976, -4.7721, -5.4407, -5.4831, -5.2978, -4.8229, -5.2701, -5.1257, -4.9586, -5.1121, -5.4547, -4.9832, -4.689, -5.5351, -4.7975, -5.0873, -5.1532, -5.2499, -5.1833, -5.39, -4.2678, -3.7127, -5.2093, -5.231, -5.4783, -5.2712, -5.8283, -5.9326, -6.001, -5.8118, -6.0019, -6.1531, -6.181, -6.1021, -5.7588, -5.1832, -6.2721, -5.8773, -6.4378, -6.554, -6.0616, -6.4824, -5.6355, -6.7836, -6.6445, -6.7844, -6.7849, -6.8368, -6.7858, -6.8372, -3.6467, -5.2989, -6.1341, -5.3316, -6.023, -4.1116, -5.7797, -5.9643, -5.8388, -5.2019, -4.3547, -5.8267, -5.4904, -4.953, -4.5263, -4.6816, -4.6476, -4.375, -4.6579, -4.4571, -5.2274, -5.488, -4.9276, -5.234, -5.3145, -5.1894, -5.3976, -5.3689]}, \"token.table\": {\"Topic\": [1, 1, 2, 2, 1, 2, 2, 2, 1, 2, 1, 2, 3, 1, 1, 3, 1, 2, 1, 2, 3, 1, 2, 3, 1, 2, 3, 1, 2, 3, 1, 2, 3, 1, 2, 3, 1, 2, 3, 2, 3, 1, 3, 2, 3, 1, 2, 1, 2, 2, 2, 2, 1, 2, 3, 2, 2, 2, 1, 2, 3, 3, 3, 1, 3, 1, 2, 3, 3, 1, 2, 3, 1, 1, 3, 1, 2, 3, 1, 2, 3, 1, 2, 3, 1, 2, 3, 1, 2, 3, 1, 2, 1, 2, 3, 1, 1, 2, 1, 2, 3, 1, 2, 3, 1, 2, 3, 3, 1, 2, 3, 1, 3, 2, 3, 3, 1, 2, 3, 1, 2, 3, 1, 2, 3, 2, 1, 2, 3, 3, 1, 2, 3, 1, 2, 3, 2, 1, 2, 1, 2, 1, 2, 1, 3, 1, 2, 3, 1, 3, 2, 3, 3, 1, 2, 3, 1, 2, 3, 1, 2, 3, 1, 2, 3, 3, 3, 2, 3, 3, 2, 1, 2, 3, 2, 1, 3, 3, 3, 1, 2, 3, 1, 2, 3, 1, 2, 3, 1, 2, 3, 3, 1, 1, 2, 2, 1, 2, 3, 1, 2, 3, 1, 1, 2, 3, 2, 1, 2, 1, 2, 3, 1, 2, 3, 1, 2, 3, 1, 1, 1, 2, 3, 3, 3, 1, 2, 1, 2, 3, 1, 1, 2, 1, 2, 1, 2, 3, 1, 2, 3, 1, 2, 1, 2, 1, 1, 2, 1, 2, 3, 1, 2, 1, 1, 2, 2, 3, 1, 2, 1, 2, 3, 2, 3, 1, 2, 3, 1, 1, 3, 1, 3, 1, 2, 1, 2, 3, 3, 1, 3, 2, 3, 2, 3, 1, 2, 1, 2, 3, 1, 2, 3, 2, 1, 3, 1, 3, 1, 1, 1, 2, 1, 2, 3, 1, 2, 1, 2, 1, 3], \"Freq\": [0.9659311402141251, 0.054110169103903226, 0.9198728747663548, 0.9663605789082076, 0.9531793109726486, 0.9885678329276356, 0.9853459804590523, 0.9947516861730347, 0.7139730940667833, 0.28226843253803063, 0.05412832047148652, 0.9066493678973992, 0.02706416023574326, 0.9970844885753158, 0.9855958449002861, 0.9690363969083812, 0.9766771701513252, 0.9800836099142868, 0.039438180257762585, 0.1643257510740108, 0.7953366351982122, 0.6560559278926071, 0.2861520536552861, 0.05583454705468997, 0.12785211527714818, 0.7955242728355887, 0.0568231623453992, 0.8170919002080361, 0.1793616366310323, 0.003985814147356274, 0.9655649775928461, 0.028137533582591148, 0.956676141808099, 0.9656567091897565, 0.9711622680130558, 0.023686884585684288, 0.4257759980254421, 0.5162953046922684, 0.05699363753096469, 0.02354706368534399, 0.9772031429417756, 0.9856950797334191, 0.017601697852382484, 0.9744617339937282, 0.994476027945199, 0.7273875598441821, 0.2727703349415683, 0.802906860311163, 0.19649197425336476, 0.9745069546110473, 0.9818117870987203, 0.9947733334648321, 0.01751092687345764, 0.8930572705463397, 0.0875546343672882, 0.9620452612231295, 0.923773433329503, 0.9819001109561699, 0.03725456924800079, 0.7801545089581341, 0.17969851049035673, 0.9713070206649629, 0.9804348914186806, 0.9631807489492121, 0.028895422468476362, 0.04606140583996056, 0.06909210875994085, 0.8751667109592507, 0.9762814319475486, 0.7997006431129536, 0.15288394647747644, 0.047041214300761976, 0.946418230717187, 0.30547920456264976, 0.687328210265962, 0.26041262955088895, 0.17670857005238894, 0.5673275143787223, 0.965564182692191, 0.029644514380900603, 0.008469861251685886, 0.4003335749056743, 0.22399616691150825, 0.3765041954470032, 0.6650028645051921, 0.32571568873723694, 0.013571487030718206, 0.7735051338505325, 0.10908405733789563, 0.11900078982315886, 0.9112315832308856, 0.07193933551822781, 0.17217765419422051, 0.6165070843728541, 0.21105647933485094, 0.9659010426728694, 0.019103561912954505, 0.9742816575606799, 0.5448532403931973, 0.11154475787577266, 0.34321463961776205, 0.1320207253375421, 0.018860103619648873, 0.8675647665038482, 0.30913523725986136, 0.6885284829878731, 0.004683867231210021, 0.9789053761728199, 0.5640059613907591, 0.33571783416116613, 0.10295346914275762, 0.05395775567556197, 0.9467133495803146, 0.9886072266916437, 0.9910029981149597, 0.9928572883419317, 0.4841277206536403, 0.2554442747167449, 0.26030987994944477, 0.92354486221144, 0.01776047811945077, 0.057721553888215, 0.23886218137937634, 0.3918413312515612, 0.3676867286401636, 0.9574024978524553, 0.6362602940442524, 0.14460461228278465, 0.21979901066983268, 0.9667116795679471, 0.008339857242337384, 0.6588487221446533, 0.3335942896934953, 0.34044668451453564, 0.4557592712049429, 0.20316979559738418, 0.991711161152821, 0.013863579954520639, 0.9843141767709653, 0.29863614250534654, 0.7008807426145889, 0.44429298921828697, 0.5538446851899194, 0.9765837963590932, 0.9804495388719116, 0.014898278878912647, 0.8119561989007393, 0.17133020710749544, 0.07679452152253508, 0.921534258270421, 0.9929347698190824, 0.9825730378885288, 0.9955356648776138, 0.6477667695354421, 0.2178675020659745, 0.13422194323707357, 0.2503819658750678, 0.538796635427361, 0.21234926219784228, 0.3194196317363168, 0.605216144342495, 0.08405779782534653, 0.02804562279249795, 0.5272577084989614, 0.4431208401214676, 0.9763468924409686, 0.9954791187255572, 0.9745324864811201, 0.9782867570730154, 0.9712993206364193, 0.9474090559054635, 0.835457677767144, 0.04774043872955108, 0.11935109682387772, 0.9646182847330355, 0.023543847592899472, 0.9652977513088783, 0.9888687652805729, 0.9528709996571286, 0.6008459537608313, 0.17776507507716902, 0.22042869309568958, 0.018869115736544533, 0.1698220416289008, 0.8302410924079595, 0.47481365136676124, 0.38710921894869704, 0.139117375559688, 0.8004502468853828, 0.02134533991694354, 0.1814353892940201, 0.9804118162091907, 0.9655300115871459, 0.9905462626519962, 0.9745374677597927, 0.985292824126199, 0.18822538442551062, 0.33054213850333575, 0.4774497556159294, 0.37438569421944035, 0.45431073006403994, 0.17246981419097812, 0.9730084301346816, 0.2027529951406788, 0.3168015549073106, 0.4815383634591121, 0.9620522290201369, 0.9799859904719761, 0.014626656574208599, 0.7773206262942429, 0.1578932522160181, 0.07287380871508528, 0.4982506798681099, 0.21000648490308765, 0.2923619691788083, 0.9558797711492398, 0.04340319974595281, 0.0010093767382779724, 0.9855149451433236, 0.9710554455830802, 0.012670893822211577, 0.05068357528884631, 0.9376461428436568, 0.9804287512617009, 0.9928492336661768, 0.9567076099026817, 0.03086153580331231, 0.13643175386126213, 0.019490250551608877, 0.8380807737191817, 0.976628369638375, 0.979722098702568, 0.0489861049351284, 0.19885712266660716, 0.7954284906664286, 0.048387051466286184, 0.9193539778594375, 0.048387051466286184, 0.011261372296726298, 0.30405705201161004, 0.6869437101003042, 0.19991155987341516, 0.8002520320993377, 0.5945425759012813, 0.40370174906877127, 0.9389058963771126, 0.6232484737897315, 0.36983975367742306, 0.00682572293956383, 0.8054353068685319, 0.18429451936822341, 0.3399600266527863, 0.6624862057849169, 0.9810554871544668, 0.1261649490039927, 0.8716851022094041, 0.9574080919400421, 0.9935565869164737, 0.21917845777608075, 0.7864638779024073, 0.8657153168559818, 0.06575053039412519, 0.0767089521264794, 0.02097849216425465, 0.9859891317199686, 0.25297801745475784, 0.3373040232730105, 0.4103865616488294, 0.9654622403560243, 0.005508871393691678, 0.9943512865613479, 0.012964911065150657, 0.9853332409514499, 0.4414253371456258, 0.5553415531832067, 0.4040593490811071, 0.5624343703289781, 0.03248718384571715, 0.9937447649443878, 0.029560867608180833, 0.9459477634617867, 0.03662250419922506, 0.970496361279464, 0.9778351474725296, 0.022740352266803016, 0.956054893079612, 0.034144817609986146, 0.0937038040701874, 0.7897892057344367, 0.12047631951881238, 0.23012867668390666, 0.49700058746020176, 0.2707396196281255, 0.9744572076726734, 0.052391270625232474, 0.9430428712541845, 0.9863139420384519, 0.006664283392151702, 0.9279306898503749, 0.9659086767127915, 0.9279188803720818, 0.9473692785258514, 0.5972192030390541, 0.19828152466704183, 0.20421809726186343, 0.8467322107864843, 0.15249205691889292, 0.022731748719183143, 0.9660993205652836, 0.8278025202540009, 0.17488785639169033], \"Term\": [\"01\", \"12\", \"12\", \"21\", \"363\", \"400\", \"700\", \"aduanbrti\", \"aktif\", \"aktif\", \"apapun\", \"apapun\", \"apapun\", \"aplikasi\", \"apps\", \"area\", \"arti\", \"balikin\", \"banget\", \"banget\", \"banget\", \"bantu\", \"bantu\", \"bantu\", \"bayar\", \"bayar\", \"bayar\", \"beli\", \"beli\", \"beli\", \"bonus\", \"buruk\", \"buruk\", \"card\", \"cc\", \"cc\", \"cek\", \"cek\", \"cek\", \"cepat\", \"cepat\", \"combo\", \"combo\", \"curi\", \"daerah\", \"daftar\", \"daftar\", \"data\", \"data\", \"diisi\", \"dikembalikan\", \"dipotong\", \"direspon\", \"direspon\", \"direspon\", \"disedot\", \"ditanggepin\", \"ditindaklanjuti\", \"dm\", \"dm\", \"dm\", \"down\", \"edge\", \"freedom\", \"freedom\", \"full\", \"full\", \"full\", \"fup\", \"gagal\", \"gagal\", \"gagal\", \"gambar\", \"ganggu\", \"ganggu\", \"ganti\", \"ganti\", \"ganti\", \"gb\", \"gb\", \"gb\", \"gini\", \"gini\", \"gini\", \"habis\", \"habis\", \"habis\", \"halo\", \"halo\", \"halo\", \"hangus\", \"hangus\", \"hilang\", \"hilang\", \"hilang\", \"http\", \"id\", \"id\", \"internet\", \"internet\", \"internet\", \"internetnya\", \"internetnya\", \"internetnya\", \"isi\", \"isi\", \"isi\", \"jakarta\", \"jam\", \"jam\", \"jam\", \"jaring\", \"jaring\", \"jelas\", \"jelek\", \"kadang\", \"kah\", \"kah\", \"kah\", \"kak\", \"kak\", \"kak\", \"kali\", \"kali\", \"kali\", \"kalinya\", \"kartu\", \"kartu\", \"kartu\", \"kbps\", \"keluh\", \"keluh\", \"keluh\", \"kemarin\", \"kemarin\", \"kemarin\", \"kembalikan\", \"kemkominfo\", \"kemkominfo\", \"kepotong\", \"kepotong\", \"kesedot\", \"kesedot\", \"kk\", \"klaten\", \"komplain\", \"komplain\", \"komplain\", \"koneksi\", \"koneksi\", \"konten\", \"kota\", \"kualitas\", \"kuota\", \"kuota\", \"kuota\", \"langgan\", \"langgan\", \"langgan\", \"langsung\", \"langsung\", \"langsung\", \"layan\", \"layan\", \"layan\", \"lelet\", \"lemot\", \"lenyap\", \"lokasi\", \"lte\", \"ludes\", \"malam\", \"malam\", \"malam\", \"maling\", \"manual\", \"manual\", \"mbps\", \"mentok\", \"min\", \"min\", \"min\", \"minggu\", \"minggu\", \"minggu\", \"mohon\", \"mohon\", \"mohon\", \"muncul\", \"muncul\", \"muncul\", \"murah\", \"my\", \"myim3\", \"ngambil\", \"ngisi\", \"nih\", \"nih\", \"nih\", \"nomor\", \"nomor\", \"nomor\", \"not\", \"nya\", \"nya\", \"nya\", \"nyolong\", \"off\", \"off\", \"otomatis\", \"otomatis\", \"otomatis\", \"pakai\", \"pakai\", \"pakai\", \"paket\", \"paket\", \"paket\", \"paketin\", \"paketnya\", \"parah\", \"parah\", \"parah\", \"payah\", \"perbaiki\", \"perpanjang\", \"perpanjang\", \"pindah\", \"pindah\", \"pindah\", \"pkt\", \"plsa\", \"plsa\", \"potong\", \"potong\", \"prime\", \"prime\", \"prime\", \"provider\", \"provider\", \"provider\", \"pulsa\", \"pulsa\", \"rb\", \"rb\", \"regis\", \"registrasi\", \"registrasi\", \"respon\", \"respon\", \"respon\", \"ribu\", \"ribu\", \"rollover\", \"rp\", \"rp\", \"rudiantara\", \"rumah\", \"sedot\", \"sedot\", \"selamat\", \"selamat\", \"selamat\", \"signal\", \"signal\", \"sih\", \"sih\", \"sih\", \"sim\", \"sinyal\", \"sinyal\", \"sinyalnya\", \"sinyalnya\", \"sisa\", \"sisa\", \"sms\", \"sms\", \"sms\", \"speed\", \"stabil\", \"stabil\", \"susah\", \"susah\", \"tau\", \"tau\", \"terang\", \"terang\", \"tinggal\", \"tinggal\", \"tinggal\", \"tolong\", \"tolong\", \"tolong\", \"transfer\", \"turun\", \"turun\", \"unlimited\", \"unlimited\", \"upgrade\", \"usage\", \"vpn\", \"wib\", \"ya\", \"ya\", \"ya\", \"yellow\", \"yellow\", \"ylki\", \"ylki\", \"youtube\", \"youtube\"]}, \"R\": 30, \"lambda.step\": 0.01, \"plot.opts\": {\"xlab\": \"PC1\", \"ylab\": \"PC2\"}, \"topic.order\": [1, 2, 3]};\n",
       "\n",
       "function LDAvis_load_lib(url, callback){\n",
       "  var s = document.createElement('script');\n",
       "  s.src = url;\n",
       "  s.async = true;\n",
       "  s.onreadystatechange = s.onload = callback;\n",
       "  s.onerror = function(){console.warn(\"failed to load library \" + url);};\n",
       "  document.getElementsByTagName(\"head\")[0].appendChild(s);\n",
       "}\n",
       "\n",
       "if(typeof(LDAvis) !== \"undefined\"){\n",
       "   // already loaded: just create the visualization\n",
       "   !function(LDAvis){\n",
       "       new LDAvis(\"#\" + \"ldavis_el1106425497636049121857934422\", ldavis_el1106425497636049121857934422_data);\n",
       "   }(LDAvis);\n",
       "}else if(typeof define === \"function\" && define.amd){\n",
       "   // require.js is available: use it to load d3/LDAvis\n",
       "   require.config({paths: {d3: \"https://cdnjs.cloudflare.com/ajax/libs/d3/3.5.5/d3.min\"}});\n",
       "   require([\"d3\"], function(d3){\n",
       "      window.d3 = d3;\n",
       "      LDAvis_load_lib(\"https://cdn.rawgit.com/bmabey/pyLDAvis/files/ldavis.v1.0.0.js\", function(){\n",
       "        new LDAvis(\"#\" + \"ldavis_el1106425497636049121857934422\", ldavis_el1106425497636049121857934422_data);\n",
       "      });\n",
       "    });\n",
       "}else{\n",
       "    // require.js not available: dynamically load d3 & LDAvis\n",
       "    LDAvis_load_lib(\"https://cdnjs.cloudflare.com/ajax/libs/d3/3.5.5/d3.min.js\", function(){\n",
       "         LDAvis_load_lib(\"https://cdn.rawgit.com/bmabey/pyLDAvis/files/ldavis.v1.0.0.js\", function(){\n",
       "                 new LDAvis(\"#\" + \"ldavis_el1106425497636049121857934422\", ldavis_el1106425497636049121857934422_data);\n",
       "            })\n",
       "         });\n",
       "}\n",
       "</script>"
      ],
      "text/plain": [
       "PreparedData(topic_coordinates=            Freq  cluster  topics         x         y\n",
       "topic                                                \n",
       "0      38.247425        1       1 -0.095583  0.103252\n",
       "1      34.075475        1       2 -0.080263 -0.109428\n",
       "2      27.677100        1       3  0.175847  0.006176, topic_info=     Category         Freq         Term        Total  loglift  logprob\n",
       "term                                                                  \n",
       "5633  Default  1650.000000        pulsa  1650.000000  30.0000  30.0000\n",
       "5201  Default   990.000000        paket   990.000000  29.0000  29.0000\n",
       "6297  Default   363.000000       sinyal   363.000000  28.0000  28.0000\n",
       "3271  Default   407.000000       jaring   407.000000  27.0000  27.0000\n",
       "4093  Default   207.000000        lemot   207.000000  26.0000  26.0000\n",
       "1041  Default   304.000000       banget   304.000000  25.0000  25.0000\n",
       "2311  Default   456.000000           dm   456.000000  24.0000  24.0000\n",
       "2658  Default   236.000000           gb   236.000000  23.0000  23.0000\n",
       "3411  Default   225.000000          kak   225.000000  22.0000  22.0000\n",
       "1756  Default   295.000000         data   295.000000  21.0000  21.0000\n",
       "7083  Default   150.000000    unlimited   150.000000  20.0000  20.0000\n",
       "7307  Default   249.000000       yellow   249.000000  19.0000  19.0000\n",
       "1157  Default   250.000000         beli   250.000000  18.0000  18.0000\n",
       "6372  Default   492.000000          sms   492.000000  17.0000  17.0000\n",
       "1710  Default    81.000000       daerah    81.000000  16.0000  16.0000\n",
       "3011  Default   104.000000           id   104.000000  15.0000  15.0000\n",
       "1543  Default    84.000000        cepat    84.000000  14.0000  14.0000\n",
       "1715  Default   263.000000       daftar   263.000000  13.0000  13.0000\n",
       "3317  Default    79.000000        jelek    79.000000  12.0000  12.0000\n",
       "5543  Default   170.000000       potong   170.000000  11.0000  11.0000\n",
       "6303  Default    77.000000    sinyalnya    77.000000  10.0000  10.0000\n",
       "3185  Default   213.000000          isi   213.000000   9.0000   9.0000\n",
       "4668  Default    95.000000        myim3    95.000000   8.0000   8.0000\n",
       "5721  Default   272.000000           rb   272.000000   7.0000   7.0000\n",
       "2794  Default   294.000000        habis   294.000000   6.0000   6.0000\n",
       "5244  Default    78.000000        parah    78.000000   5.0000   5.0000\n",
       "7316  Default    87.000000         ylki    87.000000   4.0000   4.0000\n",
       "5803  Default   146.000000       respon   146.000000   3.0000   3.0000\n",
       "2554  Default   103.000000      freedom   103.000000   2.0000   2.0000\n",
       "3866  Default    78.000000      koneksi    78.000000   1.0000   1.0000\n",
       "...       ...          ...          ...          ...      ...      ...\n",
       "4652   Topic3    16.709882        murah    17.339652   1.2476  -6.7858\n",
       "4187   Topic3    15.872298          lte    16.472780   1.2474  -6.8372\n",
       "3271   Topic3   385.701626       jaring   407.726373   1.2290  -3.6467\n",
       "5244   Topic3    73.917422        parah    78.921031   1.2191  -5.2989\n",
       "6442   Topic3    32.062833       stabil    33.828506   1.2310  -6.1341\n",
       "3866   Topic3    71.537573      koneksi    78.130573   1.1964  -5.3316\n",
       "7001   Topic3    35.829050        turun    38.174298   1.2212  -6.0230\n",
       "1041   Topic3   242.299719       banget   304.273674   1.0568  -4.1116\n",
       "3164   Topic3    45.699250  internetnya    53.021978   1.1359  -5.7797\n",
       "2560   Topic3    37.996564         full    43.420299   1.1511  -5.9643\n",
       "5449   Topic3    43.075701       pindah    51.307704   1.1097  -5.8388\n",
       "2620   Topic3    81.446517       ganggu   117.847629   0.9151  -5.2019\n",
       "5008   Topic3   190.021476          nya   394.568770   0.5539  -4.3547\n",
       "4525   Topic3    43.601244       minggu    52.996654   1.0894  -5.8267\n",
       "5601   Topic3    61.031815     provider    88.799124   0.9096  -5.4904\n",
       "4908   Topic3   104.459016          nih   217.823967   0.5497  -4.9530\n",
       "3158   Topic3   160.056535     internet   466.180581   0.2155  -4.5263\n",
       "3428   Topic3   137.030604         kali   372.599796   0.2843  -4.6816\n",
       "5194   Topic3   141.769539        pakai   485.699287   0.0532  -4.6476\n",
       "4520   Topic3   186.199872          min   843.810293  -0.2265  -4.3750\n",
       "6895   Topic3   140.313077       tolong   517.102004  -0.0198  -4.6579\n",
       "7282   Topic3   171.522202           ya   842.236816  -0.3068  -4.4571\n",
       "4061   Topic3    79.392812        layan   178.280940   0.4756  -5.2274\n",
       "2625   Topic3    61.176610        ganti   107.521667   0.7206  -5.4880\n",
       "3406   Topic3   107.145408          kah   411.048555  -0.0600  -4.9276\n",
       "2710   Topic3    78.867798         gini   209.825019   0.3061  -5.2340\n",
       "6263   Topic3    72.773802          sih   177.881068   0.3908  -5.3145\n",
       "2311   Topic3    82.466943           dm   456.319865  -0.4262  -5.1894\n",
       "4032   Topic3    66.966656      langgan   315.517932  -0.2655  -5.3976\n",
       "3967   Topic3    68.918552        kuota   514.073916  -0.7249  -5.3689\n",
       "\n",
       "[220 rows x 6 columns], token_table=      Topic      Freq       Term\n",
       "term                            \n",
       "4         1  0.965931         01\n",
       "191       1  0.054110         12\n",
       "191       2  0.919873         12\n",
       "310       2  0.966361         21\n",
       "407       1  0.953179        363\n",
       "432       2  0.988568        400\n",
       "547       2  0.985346        700\n",
       "684       2  0.994752  aduanbrti\n",
       "746       1  0.713973      aktif\n",
       "746       2  0.282268      aktif\n",
       "884       1  0.054128     apapun\n",
       "884       2  0.906649     apapun\n",
       "884       3  0.027064     apapun\n",
       "895       1  0.997084   aplikasi\n",
       "907       1  0.985596       apps\n",
       "914       3  0.969036       area\n",
       "919       1  0.976677       arti\n",
       "1029      2  0.980084    balikin\n",
       "1041      1  0.039438     banget\n",
       "1041      2  0.164326     banget\n",
       "1041      3  0.795337     banget\n",
       "1060      1  0.656056      bantu\n",
       "1060      2  0.286152      bantu\n",
       "1060      3  0.055835      bantu\n",
       "1109      1  0.127852      bayar\n",
       "1109      2  0.795524      bayar\n",
       "1109      3  0.056823      bayar\n",
       "1157      1  0.817092       beli\n",
       "1157      2  0.179362       beli\n",
       "1157      3  0.003986       beli\n",
       "...     ...       ...        ...\n",
       "6544      2  0.036623      susah\n",
       "6544      3  0.970496      susah\n",
       "6636      2  0.977835        tau\n",
       "6636      3  0.022740        tau\n",
       "6723      1  0.956055     terang\n",
       "6723      2  0.034145     terang\n",
       "6847      1  0.093704    tinggal\n",
       "6847      2  0.789789    tinggal\n",
       "6847      3  0.120476    tinggal\n",
       "6895      1  0.230129     tolong\n",
       "6895      2  0.497001     tolong\n",
       "6895      3  0.270740     tolong\n",
       "6924      2  0.974457   transfer\n",
       "7001      1  0.052391      turun\n",
       "7001      3  0.943043      turun\n",
       "7083      1  0.986314  unlimited\n",
       "7083      3  0.006664  unlimited\n",
       "7115      1  0.927931    upgrade\n",
       "7124      1  0.965909      usage\n",
       "7175      1  0.927919        vpn\n",
       "7230      2  0.947369        wib\n",
       "7282      1  0.597219         ya\n",
       "7282      2  0.198282         ya\n",
       "7282      3  0.204218         ya\n",
       "7307      1  0.846732     yellow\n",
       "7307      2  0.152492     yellow\n",
       "7316      1  0.022732       ylki\n",
       "7316      2  0.966099       ylki\n",
       "7326      1  0.827803    youtube\n",
       "7326      3  0.174888    youtube\n",
       "\n",
       "[311 rows x 3 columns], R=30, lambda_step=0.01, plot_opts={'xlab': 'PC1', 'ylab': 'PC2'}, topic_order=[1, 2, 3])"
      ]
     },
     "execution_count": 21,
     "metadata": {},
     "output_type": "execute_result"
    }
   ],
   "source": [
    "Ntopic=3\n",
    "Vectorized = tf_vectorizer\n",
    "import pyLDAvis, pyLDAvis.sklearn; pyLDAvis.enable_notebook()\n",
    "pyLDAvis.sklearn.prepare(lda[Ntopic-2], X, Vectorized)  "
   ]
  },
  {
   "cell_type": "markdown",
   "metadata": {},
   "source": [
    "## NMF Clustering"
   ]
  },
  {
   "cell_type": "code",
   "execution_count": 22,
   "metadata": {
    "ExecuteTime": {
     "end_time": "2018-12-20T05:25:30.659943Z",
     "start_time": "2018-12-20T05:25:28.865264Z"
    }
   },
   "outputs": [
    {
     "name": "stderr",
     "output_type": "stream",
     "text": [
      "100%|████████████████████████████████████████████████████████████████████████████████████| 7/7 [00:01<00:00,  3.96it/s]\n"
     ]
    }
   ],
   "source": [
    "from sklearn.decomposition import NMF\n",
    "\n",
    "nmf=[]\n",
    "for n_topics in tqdm(range(2,9)):\n",
    "    model=NMF(n_components=n_topics, random_state=0).fit(X)\n",
    "    nmf.append(model)"
   ]
  },
  {
   "cell_type": "code",
   "execution_count": 23,
   "metadata": {
    "ExecuteTime": {
     "end_time": "2018-12-20T05:25:30.735134Z",
     "start_time": "2018-12-20T05:25:30.659943Z"
    }
   },
   "outputs": [
    {
     "name": "stderr",
     "output_type": "stream",
     "text": [
      "100%|███████████████████████████████████████████████████████████████████████████████████| 7/7 [00:00<00:00, 134.09it/s]\n"
     ]
    }
   ],
   "source": [
    "vsm_topics_nmf=[]\n",
    "for i in tqdm(nmf):\n",
    "    vsm_topics_nmf.append(i.transform(X))\n",
    "    #ini matriks topik terhadap masing-masing kata "
   ]
  },
  {
   "cell_type": "code",
   "execution_count": 24,
   "metadata": {
    "ExecuteTime": {
     "end_time": "2018-12-20T05:25:31.588670Z",
     "start_time": "2018-12-20T05:25:30.735134Z"
    }
   },
   "outputs": [
    {
     "name": "stderr",
     "output_type": "stream",
     "text": [
      "100%|███████████████████████████████████████████████████████████████████████████████████| 7/7 [00:00<00:00, 127.40it/s]\n"
     ]
    }
   ],
   "source": [
    "doc_topic_nmf=[]\n",
    "for i in tqdm(range(len(vsm_topics_nmf))):\n",
    "    doc_topic_nmf.append([a.argmax()+1 for a in vsm_topics_nmf[i]]) # topic of docs"
   ]
  },
  {
   "cell_type": "code",
   "execution_count": 25,
   "metadata": {
    "ExecuteTime": {
     "end_time": "2018-12-20T05:25:33.071130Z",
     "start_time": "2018-12-20T05:25:31.592195Z"
    }
   },
   "outputs": [
    {
     "data": {
      "image/png": "[encoded data removed]",
      "text/plain": [
       "<Figure size 432x288 with 1 Axes>"
      ]
     },
     "metadata": {},
     "output_type": "display_data"
    },
    {
     "data": {
      "image/png": "[encoded data removed]",
      "text/plain": [
       "<Figure size 432x288 with 1 Axes>"
      ]
     },
     "metadata": {},
     "output_type": "display_data"
    },
    {
     "data": {
      "image/png": "[encoded data removed]",
      "text/plain": [
       "<Figure size 432x288 with 1 Axes>"
      ]
     },
     "metadata": {},
     "output_type": "display_data"
    },
    {
     "data": {
      "image/png": "[encoded data removed]",
      "text/plain": [
       "<Figure size 432x288 with 1 Axes>"
      ]
     },
     "metadata": {},
     "output_type": "display_data"
    },
    {
     "data": {
      "image/png": "[encoded data removed]",
      "text/plain": [
       "<Figure size 432x288 with 1 Axes>"
      ]
     },
     "metadata": {},
     "output_type": "display_data"
    },
    {
     "data": {
      "image/png": "[encoded data removed]",
      "text/plain": [
       "<Figure size 432x288 with 1 Axes>"
      ]
     },
     "metadata": {},
     "output_type": "display_data"
    },
    {
     "data": {
      "image/png": "[encoded data removed]",
      "text/plain": [
       "<Figure size 432x288 with 1 Axes>"
      ]
     },
     "metadata": {},
     "output_type": "display_data"
    }
   ],
   "source": [
    "# mari kita plot\n",
    "import matplotlib.pyplot as plt\n",
    "import seaborn as sns\n",
    "for i in doc_topic_nmf:\n",
    "    sns.countplot(i)\n",
    "    plt.show() "
   ]
  },
  {
   "cell_type": "code",
   "execution_count": null,
   "metadata": {},
   "outputs": [],
   "source": []
  }
 ],
 "metadata": {
  "kernelspec": {
   "display_name": "Python 3",
   "language": "python",
   "name": "python3"
  },
  "language_info": {
   "codemirror_mode": {
    "name": "ipython",
    "version": 3
   },
   "file_extension": ".py",
   "mimetype": "text/x-python",
   "name": "python",
   "nbconvert_exporter": "python",
   "pygments_lexer": "ipython3",
   "version": "3.6.5"
  },
  "toc": {
   "base_numbering": 1,
   "nav_menu": {},
   "number_sections": true,
   "sideBar": true,
   "skip_h1_title": false,
   "title_cell": "Table of Contents",
   "title_sidebar": "Contents",
   "toc_cell": false,
   "toc_position": {},
   "toc_section_display": true,
   "toc_window_display": true
  },
  "varInspector": {
   "cols": {
    "lenName": 16,
    "lenType": 16,
    "lenVar": 40
   },
   "kernels_config": {
    "python": {
     "delete_cmd_postfix": "",
     "delete_cmd_prefix": "del ",
     "library": "var_list.py",
     "varRefreshCmd": "print(var_dic_list())"
    },
    "r": {
     "delete_cmd_postfix": ") ",
     "delete_cmd_prefix": "rm(",
     "library": "var_list.r",
     "varRefreshCmd": "cat(var_dic_list()) "
    }
   },
   "types_to_exclude": [
    "module",
    "function",
    "builtin_function_or_method",
    "instance",
    "_Feature"
   ],
   "window_display": false
  }
 },
 "nbformat": 4,
 "nbformat_minor": 2
}
